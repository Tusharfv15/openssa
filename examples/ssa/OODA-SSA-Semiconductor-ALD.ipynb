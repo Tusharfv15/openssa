{
 "cells": [
  {
   "cell_type": "code",
   "execution_count": null,
   "metadata": {},
   "outputs": [],
   "source": [
    "from openssa import OodaSSA, TaskDecompositionHeuristic"
   ]
  },
  {
   "cell_type": "code",
   "execution_count": null,
   "metadata": {},
   "outputs": [],
   "source": [
    "DOMAIN = 'Atomic Layer Deposition (ALD) for Semiconductor'\n",
    "\n",
    "PROBLEM = ('Estimate the ALD process time for 10 cycles, '\n",
    "            'each with Pulse Time = 15 secs and negligible Inert')"
   ]
  },
  {
   "cell_type": "code",
   "execution_count": null,
   "metadata": {},
   "outputs": [],
   "source": [
    "EXPERT_HEURISTICS = ('Purge Time must be at least as long as Pulse Time, '\n",
    "                     'to clear byproducts between ALD cycles')\n",
    "\n",
    "RESOURCES = 's3://aitomatic-public/KnowledgeBase/Semiconductor/ALD/ALD-Process.txt'"
   ]
  },
  {
   "cell_type": "code",
   "execution_count": null,
   "metadata": {},
   "outputs": [],
   "source": [
    "ssa = OodaSSA(task_heuristics=TaskDecompositionHeuristic({}),\n",
    "              highest_priority_heuristic=EXPERT_HEURISTICS)\n",
    "\n",
    "ssa.activate_resources(RESOURCES)"
   ]
  },
  {
   "cell_type": "code",
   "execution_count": null,
   "metadata": {},
   "outputs": [],
   "source": [
    "solution = ssa.solve(PROBLEM)"
   ]
  },
  {
   "cell_type": "code",
   "execution_count": null,
   "metadata": {},
   "outputs": [],
   "source": [
    "print(solution)"
   ]
  }
 ],
 "metadata": {
  "kernelspec": {
   "display_name": "Python 3",
   "language": "python",
   "name": "python3"
  },
  "language_info": {
   "codemirror_mode": {
    "name": "ipython",
    "version": 3
   },
   "file_extension": ".py",
   "mimetype": "text/x-python",
   "name": "python",
   "nbconvert_exporter": "python",
   "pygments_lexer": "ipython3",
   "version": "3.11.6"
  },
  "orig_nbformat": 4
 },
 "nbformat": 4,
 "nbformat_minor": 2
}
