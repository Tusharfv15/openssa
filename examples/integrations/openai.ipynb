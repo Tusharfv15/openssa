{
 "cells": [
  {
   "cell_type": "markdown",
   "metadata": {},
   "source": [
    "# OpenAI LLM Integration\n",
    "\n",
    "This notebook demonstrates how to use the OpenAI LLM integration."
   ]
  },
  {
   "cell_type": "code",
   "execution_count": 1,
   "metadata": {},
   "outputs": [],
   "source": [
    "# Import OpenSSM package \"live\" from the source code\n",
    "import sys\n",
    "from pathlib import Path\n",
    "sys.path.insert(0, str(Path('../../').resolve()))\n",
    "\n",
    "# Configure logging for some informative output\n",
    "from openssm import Logs, logger, mlogger\n",
    "mlogger.setLevel(mlogger.DEBUG)"
   ]
  },
  {
   "cell_type": "code",
   "execution_count": 2,
   "metadata": {},
   "outputs": [],
   "source": [
    "from openssm import GPT3CompletionSSM\n",
    "ssm = GPT3CompletionSSM()"
   ]
  },
  {
   "cell_type": "code",
   "execution_count": 3,
   "metadata": {},
   "outputs": [
    {
     "name": "stderr",
     "output_type": "stream",
     "text": [
      "07/29/2023 09:07:17 PM [DEBUG]: openssm.utils.canonicalize_user_input (in utils.py line 14) start: user_input: What can I ask you?\n",
      "07/29/2023 09:07:17 PM [DEBUG]: openssm.utils.canonicalize_user_input (in utils.py line 40) end: user_input: [{'role': 'user', 'content': 'What can I ask you?'}]\n",
      "07/29/2023 09:07:17 PM [DEBUG]: openssm.utils.canonicalize_user_input (in utils.py line 14) start: user_input: [{'role': 'user', 'content': 'What can I ask you?'}]\n",
      "07/29/2023 09:07:17 PM [DEBUG]: openssm.utils.canonicalize_user_input (in utils.py line 40) end: user_input: [{'role': 'user', 'content': 'What can I ask you?'}]\n",
      "07/29/2023 09:07:17 PM [DEBUG]: openssm.logs.wrapper (in logs.py line 97) Calling _call_lm_api with args: ('self=GPT3CompletionSLM()', \"conversation=[{'role': 'user', 'content': 'What can I ask you?'}]\")\n",
      "07/29/2023 09:07:17 PM [DEBUG]: openssm.logs.wrapper (in logs.py line 97) Calling _make_completion_prompt with args: ('self=GPT3CompletionSLM()', \"conversation=[{'role': 'user', 'content': 'What can I ask you?'}]\")\n",
      "07/29/2023 09:07:17 PM [DEBUG]: openssm.logs.wrapper (in logs.py line 102) Function _make_completion_prompt returned: [{'role': 'system', 'content': 'Complete this conversation with the assistant’s response, up to 2000 words. Use this format: {\"role\": \"assistant\", \"content\": \"xxx\"}, where \\'xxx\\' is the response. Make sure the entire response is valid JSON, xxx is only a string, and no code of any kind, even if the prompt has code. Escape quotes with \\\\:\\n'}, {'role': 'user', 'content': 'What can I ask you?'}]\n",
      "07/29/2023 09:07:17 PM [DEBUG]: openssm.logs.wrapper (in logs.py line 102) Function _call_lm_api returned: [{'role': 'assistant', 'content': 'I got nothing.'}]\n",
      "07/29/2023 09:07:17 PM [DEBUG]: openssm.utils.canonicalize_query_response (in utils.py line 50) start: response: [{'role': 'assistant', 'content': 'I got nothing.'}]\n",
      "07/29/2023 09:07:17 PM [DEBUG]: openssm.utils.canonicalize_query_response (in utils.py line 83) start: response: [{'role': 'assistant', 'content': 'I got nothing.'}]\n",
      "07/29/2023 09:07:17 PM [DEBUG]: openssm.utils.canonicalize_query_response (in utils.py line 50) start: response: [{'role': 'assistant', 'content': 'I got nothing.'}]\n",
      "07/29/2023 09:07:17 PM [DEBUG]: openssm.utils.canonicalize_query_response (in utils.py line 83) start: response: [{'role': 'assistant', 'content': 'I got nothing.'}]\n"
     ]
    },
    {
     "data": {
      "text/plain": [
       "[{'role': 'assistant', 'content': 'I got nothing.'}]"
      ]
     },
     "execution_count": 3,
     "metadata": {},
     "output_type": "execute_result"
    }
   ],
   "source": [
    "ssm.discuss(\"What can I ask you?\")"
   ]
  },
  {
   "cell_type": "code",
   "execution_count": 4,
   "metadata": {},
   "outputs": [
    {
     "name": "stderr",
     "output_type": "stream",
     "text": [
      "07/29/2023 09:00:28 PM [DEBUG]: openssm.utils.canonicalize_user_input (in utils.py line 14) start: user_input: interesting. ok what is the weather like today?\n",
      "07/29/2023 09:00:28 PM [DEBUG]: openssm.utils.canonicalize_user_input (in utils.py line 40) end: user_input: [{'role': 'user', 'content': 'interesting. ok what is the weather like today?'}]\n",
      "07/29/2023 09:00:28 PM [DEBUG]: openssm.utils.canonicalize_user_input (in utils.py line 14) start: user_input: [{'role': 'user', 'content': 'interesting. ok what is the weather like today?'}]\n",
      "07/29/2023 09:00:28 PM [DEBUG]: openssm.utils.canonicalize_user_input (in utils.py line 40) end: user_input: [{'role': 'user', 'content': 'interesting. ok what is the weather like today?'}]\n",
      "07/29/2023 09:00:28 PM [DEBUG]: openssm.logs.wrapper (in logs.py line 97) Calling _call_lm_api with args: ('self=GPT3CompletionSLM()', 'conversation=[{\\'role\\': \\'user\\', \\'content\\': \\'What can I ask you?\\'}, {\\'role\\': \\'user\\', \\'content\\': \"What\\'s the weather like today?\"}, {\\'role\\': \\'user\\', \\'content\\': \"What\\'s the time?\"}, {\\'role\\': \\'user\\', \\'content\\': \"What\\'s tomorrow\\'s weather?\"}, {\\'role\\': \\'user\\', \\'content\\': \\'interesting. ok what is the weather like today?\\'}]')\n",
      "07/29/2023 09:00:28 PM [DEBUG]: openssm.logs.wrapper (in logs.py line 97) Calling _make_completion_prompt with args: ('self=GPT3CompletionSLM()', 'conversation=[{\\'role\\': \\'user\\', \\'content\\': \\'What can I ask you?\\'}, {\\'role\\': \\'user\\', \\'content\\': \"What\\'s the weather like today?\"}, {\\'role\\': \\'user\\', \\'content\\': \"What\\'s the time?\"}, {\\'role\\': \\'user\\', \\'content\\': \"What\\'s tomorrow\\'s weather?\"}, {\\'role\\': \\'user\\', \\'content\\': \\'interesting. ok what is the weather like today?\\'}]')\n",
      "07/29/2023 09:00:28 PM [DEBUG]: openssm.logs.wrapper (in logs.py line 102) Function _make_completion_prompt returned: {\"role\": \"system\", \"content\": \"Complete this conversation with the assistant’s response, up to 2000 words. Use this format: {'role': 'assistant', 'content': 'xxx'}, where 'xxx' is the response. Make sure the entire response is valid JSON, xxx is only a string, and no code of any kind, even if the prompt has code. Escape quotes with \\:\n",
      "\"}, {\"role\": \"user\", \"content\": \"What can I ask you?\"}, {\"role\": \"user\", \"content\": \"What's the weather like today?\"}, {\"role\": \"user\", \"content\": \"What's the time?\"}, {\"role\": \"user\", \"content\": \"What's tomorrow's weather?\"}, {\"role\": \"user\", \"content\": \"interesting. ok what is the weather like today?\"}\n",
      "07/29/2023 09:00:35 PM [DEBUG]: openssm.logs.wrapper (in logs.py line 102) Function _call_lm_api returned: [{'role': 'assistant', 'content': 'I got nothing.'}]\n",
      "07/29/2023 09:00:35 PM [DEBUG]: openssm.utils.canonicalize_query_response (in utils.py line 50) start: response: [{'role': 'assistant', 'content': 'I got nothing.'}]\n",
      "07/29/2023 09:00:35 PM [DEBUG]: openssm.utils.canonicalize_query_response (in utils.py line 83) start: response: [{'role': 'assistant', 'content': 'I got nothing.'}]\n",
      "07/29/2023 09:00:35 PM [DEBUG]: openssm.utils.canonicalize_query_response (in utils.py line 50) start: response: [{'role': 'assistant', 'content': 'I got nothing.'}]\n",
      "07/29/2023 09:00:35 PM [DEBUG]: openssm.utils.canonicalize_query_response (in utils.py line 83) start: response: [{'role': 'assistant', 'content': 'I got nothing.'}]\n"
     ]
    },
    {
     "data": {
      "text/plain": [
       "[{'role': 'assistant', 'content': 'I got nothing.'}]"
      ]
     },
     "execution_count": 4,
     "metadata": {},
     "output_type": "execute_result"
    }
   ],
   "source": [
    "ssm.discuss(\"interesting. ok what is the weather like today?\")"
   ]
  },
  {
   "cell_type": "code",
   "execution_count": 5,
   "metadata": {},
   "outputs": [
    {
     "name": "stderr",
     "output_type": "stream",
     "text": [
      "07/29/2023 09:00:56 PM [DEBUG]: openssm.utils.canonicalize_user_input (in utils.py line 14) start: user_input: What is the sum of 2 and 2?\n",
      "07/29/2023 09:00:56 PM [DEBUG]: openssm.utils.canonicalize_user_input (in utils.py line 40) end: user_input: [{'role': 'user', 'content': 'What is the sum of 2 and 2?'}]\n",
      "07/29/2023 09:00:56 PM [DEBUG]: openssm.utils.canonicalize_user_input (in utils.py line 14) start: user_input: [{'role': 'user', 'content': 'What is the sum of 2 and 2?'}]\n",
      "07/29/2023 09:00:56 PM [DEBUG]: openssm.utils.canonicalize_user_input (in utils.py line 40) end: user_input: [{'role': 'user', 'content': 'What is the sum of 2 and 2?'}]\n",
      "07/29/2023 09:00:56 PM [DEBUG]: openssm.logs.wrapper (in logs.py line 97) Calling _call_lm_api with args: ('self=GPT3CompletionSLM()', 'conversation=[{\\'role\\': \\'user\\', \\'content\\': \\'What can I ask you?\\'}, {\\'role\\': \\'user\\', \\'content\\': \"What\\'s the weather like today?\"}, {\\'role\\': \\'user\\', \\'content\\': \"What\\'s the time?\"}, {\\'role\\': \\'user\\', \\'content\\': \"What\\'s tomorrow\\'s weather?\"}, {\\'role\\': \\'user\\', \\'content\\': \\'interesting. ok what is the weather like today?\\'}, {\\'role\\': \\'assistant\\', \\'content\\': \\'I got nothing.\\'}, {\\'role\\': \\'user\\', \\'content\\': \\'What is the sum of 2 and 2?\\'}]')\n",
      "07/29/2023 09:00:56 PM [DEBUG]: openssm.logs.wrapper (in logs.py line 97) Calling _make_completion_prompt with args: ('self=GPT3CompletionSLM()', 'conversation=[{\\'role\\': \\'user\\', \\'content\\': \\'What can I ask you?\\'}, {\\'role\\': \\'user\\', \\'content\\': \"What\\'s the weather like today?\"}, {\\'role\\': \\'user\\', \\'content\\': \"What\\'s the time?\"}, {\\'role\\': \\'user\\', \\'content\\': \"What\\'s tomorrow\\'s weather?\"}, {\\'role\\': \\'user\\', \\'content\\': \\'interesting. ok what is the weather like today?\\'}, {\\'role\\': \\'assistant\\', \\'content\\': \\'I got nothing.\\'}, {\\'role\\': \\'user\\', \\'content\\': \\'What is the sum of 2 and 2?\\'}]')\n",
      "07/29/2023 09:00:56 PM [DEBUG]: openssm.logs.wrapper (in logs.py line 102) Function _make_completion_prompt returned: {\"role\": \"system\", \"content\": \"Complete this conversation with the assistant’s response, up to 2000 words. Use this format: {'role': 'assistant', 'content': 'xxx'}, where 'xxx' is the response. Make sure the entire response is valid JSON, xxx is only a string, and no code of any kind, even if the prompt has code. Escape quotes with \\:\n",
      "\"}, {\"role\": \"user\", \"content\": \"What can I ask you?\"}, {\"role\": \"user\", \"content\": \"What's the weather like today?\"}, {\"role\": \"user\", \"content\": \"What's the time?\"}, {\"role\": \"user\", \"content\": \"What's tomorrow's weather?\"}, {\"role\": \"user\", \"content\": \"interesting. ok what is the weather like today?\"}, {\"role\": \"assistant\", \"content\": \"I got nothing.\"}, {\"role\": \"user\", \"content\": \"What is the sum of 2 and 2?\"}\n",
      "07/29/2023 09:01:04 PM [DEBUG]: openssm.logs.wrapper (in logs.py line 102) Function _call_lm_api returned: [{'role': 'assistant', 'content': 'I got nothing.'}]\n",
      "07/29/2023 09:01:04 PM [DEBUG]: openssm.utils.canonicalize_query_response (in utils.py line 50) start: response: [{'role': 'assistant', 'content': 'I got nothing.'}]\n",
      "07/29/2023 09:01:04 PM [DEBUG]: openssm.utils.canonicalize_query_response (in utils.py line 83) start: response: [{'role': 'assistant', 'content': 'I got nothing.'}]\n",
      "07/29/2023 09:01:04 PM [DEBUG]: openssm.utils.canonicalize_query_response (in utils.py line 50) start: response: [{'role': 'assistant', 'content': 'I got nothing.'}]\n",
      "07/29/2023 09:01:04 PM [DEBUG]: openssm.utils.canonicalize_query_response (in utils.py line 83) start: response: [{'role': 'assistant', 'content': 'I got nothing.'}]\n"
     ]
    },
    {
     "data": {
      "text/plain": [
       "[{'role': 'assistant', 'content': 'I got nothing.'}]"
      ]
     },
     "execution_count": 5,
     "metadata": {},
     "output_type": "execute_result"
    }
   ],
   "source": [
    "ssm.discuss(\"What is the sum of 2 and 2?\")"
   ]
  },
  {
   "cell_type": "code",
   "execution_count": null,
   "metadata": {},
   "outputs": [],
   "source": []
  }
 ],
 "metadata": {
  "kernelspec": {
   "display_name": "Python 3",
   "language": "python",
   "name": "python3"
  },
  "language_info": {
   "codemirror_mode": {
    "name": "ipython",
    "version": 3
   },
   "file_extension": ".py",
   "mimetype": "text/x-python",
   "name": "python",
   "nbconvert_exporter": "python",
   "pygments_lexer": "ipython3",
   "version": "3.10.12"
  },
  "orig_nbformat": 4
 },
 "nbformat": 4,
 "nbformat_minor": 2
}
