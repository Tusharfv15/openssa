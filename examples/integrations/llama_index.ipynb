{
 "cells": [
  {
   "cell_type": "markdown",
   "metadata": {},
   "source": [
    "\n",
    "# LlamaIndex Integration Demo"
   ]
  },
  {
   "cell_type": "code",
   "execution_count": 1,
   "metadata": {},
   "outputs": [
    {
     "name": "stderr",
     "output_type": "stream",
     "text": [
      "07/31/2023 07:04:12 PM [INFO]: integrations.1223151261.<module> (in 1223151261.py line 8) Working directory: /Users/ctn/src/aitomatic/ssm/examples/integrations\n"
     ]
    }
   ],
   "source": [
    "# Import OpenSSM package \"live\" from the source code\n",
    "import sys\n",
    "from pathlib import Path\n",
    "sys.path.insert(0, str(Path('../../').resolve()))\n",
    "\n",
    "# Configure logging for some informative output\n",
    "from openssm import logger\n",
    "logger.info(\"Working directory: %s\", Path.cwd())"
   ]
  },
  {
   "cell_type": "code",
   "execution_count": 2,
   "metadata": {},
   "outputs": [],
   "source": [
    "# Instantiate a LlamaIndexSSM\n",
    "from openssm import LlamaIndexSSM\n",
    "ssm = LlamaIndexSSM()"
   ]
  },
  {
   "cell_type": "code",
   "execution_count": 3,
   "metadata": {},
   "outputs": [],
   "source": [
    "# Read the docs for the first time\n",
    "ssm.read_directory('../tmp/docs/miura')"
   ]
  },
  {
   "cell_type": "code",
   "execution_count": 10,
   "metadata": {},
   "outputs": [],
   "source": [
    "# Persist the index\n",
    "ssm.save('../tmp/storage/miura')"
   ]
  },
  {
   "cell_type": "code",
   "execution_count": 3,
   "metadata": {},
   "outputs": [],
   "source": [
    "# Load the index from storage\n",
    "ssm.load('../tmp/storage/miura')"
   ]
  },
  {
   "cell_type": "code",
   "execution_count": 4,
   "metadata": {},
   "outputs": [
    {
     "data": {
      "text/plain": [
       "[{'role': 'assistant',\n",
       "  'content': 'Based on the context information, it is not possible to answer the question. The context information does not provide any information about what the BN11 is.'}]"
      ]
     },
     "execution_count": 4,
     "metadata": {},
     "output_type": "execute_result"
    }
   ],
   "source": [
    "# Interact with the SSM\n",
    "ssm.discuss(\"What is the BN11?\")"
   ]
  },
  {
   "cell_type": "code",
   "execution_count": 5,
   "metadata": {},
   "outputs": [
    {
     "data": {
      "text/plain": [
       "[{'role': 'assistant',\n",
       "  'content': 'Possible alarm codes are F510-08, F500-17, F530-48.'}]"
      ]
     },
     "execution_count": 5,
     "metadata": {},
     "output_type": "execute_result"
    }
   ],
   "source": [
    "ssm.discuss(\"What are the possible alarm codes?\")"
   ]
  },
  {
   "cell_type": "code",
   "execution_count": 6,
   "metadata": {},
   "outputs": [
    {
     "data": {
      "text/plain": [
       "[{'role': 'assistant',\n",
       "  'content': 'F510-08 is an alarm code that indicates an incomplete combustion detection. It is triggered when the input signal (CO-2 pin) is in the Lo state for 2 seconds while the operating switch is ON and the combustion state is either pilot valve ON or shutoff valve ON. The alarm can be reset when the reset conditions are met, such as when the day changes, a forced reset is performed, or RAM or all clear is performed. The buzzer output will be disabled when the alarm is reset, and the surface display will be reset when the item/confirmation switch is pressed, the operating switch input (P13) is OFF, or RAM or all clear is performed.'}]"
      ]
     },
     "execution_count": 6,
     "metadata": {},
     "output_type": "execute_result"
    }
   ],
   "source": [
    "ssm.discuss(\"What is the meaning of F510-08?\")"
   ]
  },
  {
   "cell_type": "code",
   "execution_count": 8,
   "metadata": {},
   "outputs": [
    {
     "data": {
      "text/plain": [
       "[{'role': 'assistant',\n",
       "  'content': 'F500-17を解決するには、油流量調整弁の接続を確認し、油流量調整弁CPU基板のモニタ画面を確認し、アラームの有無、アラームコードを確認し、運転スイッチをOFFにし、強制解除操作を行い、RAMクリアもしくはオールクリアを実施することで解決できます。'}]"
      ]
     },
     "execution_count": 8,
     "metadata": {},
     "output_type": "execute_result"
    }
   ],
   "source": [
    "ssm.discuss(\"How do I resolve an F500-17? Answer in Japanese.\")"
   ]
  },
  {
   "cell_type": "code",
   "execution_count": 4,
   "metadata": {},
   "outputs": [
    {
     "data": {
      "text/plain": [
       "[{'role': 'assistant',\n",
       "  'content': 'A100-07 の アラーム解除条件は、運転スイッチ入力 (P13番)OFF、かつリセットスタート (元電源OFF→ONまたはRAMクリアまたはオールクリア操作 )時です。'}]"
      ]
     },
     "execution_count": 4,
     "metadata": {},
     "output_type": "execute_result"
    }
   ],
   "source": [
    "ssm.discuss(\"A100-07 の アラーム解除条件を教えてください\")"
   ]
  },
  {
   "cell_type": "code",
   "execution_count": null,
   "metadata": {},
   "outputs": [],
   "source": []
  },
  {
   "cell_type": "code",
   "execution_count": null,
   "metadata": {},
   "outputs": [],
   "source": []
  },
  {
   "cell_type": "code",
   "execution_count": 5,
   "metadata": {},
   "outputs": [
    {
     "data": {
      "text/plain": [
       "[{'role': 'assistant',\n",
       "  'content': '1. Check the Platforms inching run/step movement selector switch to ensure it is in the correct position.\\n2. Check the Platforms inching run/step movement selector switch to ensure it is not stuck.\\n3. Check the Platforms inching run/step movement buttons on the screen to ensure they are working correctly.\\n4. Check the Move recoater to right end position button on the screen to ensure it is working correctly.\\n5. Check the equipotential bonding wire for the sieve to ensure it is connected correctly.\\n6. Check the Conveying module to ensure it is working correctly.\\n7. Check the top edge of the building platform carrier to ensure it is at the same height as the top edge of the web between the building duct and the dispenser duct.'}]"
      ]
     },
     "execution_count": 5,
     "metadata": {},
     "output_type": "execute_result"
    }
   ],
   "source": [
    "ssm.discuss(\"The collector is not working. What do I do?\")"
   ]
  },
  {
   "cell_type": "code",
   "execution_count": 6,
   "metadata": {},
   "outputs": [
    {
     "data": {
      "text/plain": [
       "[{'role': 'assistant',\n",
       "  'content': 'Sintering is a process of heating and pressing a powder or other material into a solid form. If your sintering process is broken, you may need to contact a professional to help you repair or replace the equipment. Additionally, you should take safety precautions such as wearing closed safety shoes and strong rubber gloves when handling broken pieces.'}]"
      ]
     },
     "execution_count": 6,
     "metadata": {},
     "output_type": "execute_result"
    }
   ],
   "source": [
    "ssm.discuss(\"Sintering is broken. Help!\")"
   ]
  },
  {
   "cell_type": "code",
   "execution_count": 7,
   "metadata": {},
   "outputs": [
    {
     "data": {
      "text/plain": [
       "[{'role': 'assistant',\n",
       "  'content': 'No, it is not recommended to try to fix sintering yourself. Sintering is a complex process that requires specialized knowledge and equipment. It is best to consult a professional for any sintering-related issues.'}]"
      ]
     },
     "execution_count": 7,
     "metadata": {},
     "output_type": "execute_result"
    }
   ],
   "source": [
    "ssm.discuss(\"Can I try to fix sintering myself?\")"
   ]
  },
  {
   "cell_type": "code",
   "execution_count": 8,
   "metadata": {},
   "outputs": [
    {
     "data": {
      "text/plain": [
       "[{'role': 'assistant',\n",
       "  'content': '1. Fit outer fastening bolts to the recoater cassette and tighten hand-tight.\\n2. Undo fastening bolts for the clamping strip and unscrew.\\n3. Remove clamping strip.\\n4. Remove recoater blade.\\n5. Fit new recoater blade or turned recoater blade.\\n6. Move dispenser platform to the bottom end position.\\n7. Change movement mode of the platforms to inching.\\n8. Touch Inching run dosing platform down button on the screen until the bottom end position is reached.\\n9. Move recoater to the right end position.\\n10. Open process chamber door.\\n11. Clean, remove extraction nozzle.\\n12. Lift extraction nozzle on the right, pull out of the extraction duct and tip so that the extraction openings point upward.\\n13. Clean out the interior of the extraction nozzle.\\n14. Set down extraction nozzle outside the process chamber.\\n15. Connect equipotential bonding wire from the sieve for the metal powder used to the connector on the right side wall of the process chamber.\\n16. Insert sieve in the dispenser duct.'}]"
      ]
     },
     "execution_count": 8,
     "metadata": {},
     "output_type": "execute_result"
    }
   ],
   "source": [
    "ssm.discuss(\"How do I prepare the M290?\")"
   ]
  },
  {
   "cell_type": "code",
   "execution_count": 9,
   "metadata": {},
   "outputs": [
    {
     "data": {
      "text/plain": [
       "[{'role': 'assistant',\n",
       "  'content': 'To repair the M290, you will need to: \\n1. Fix the recoater cassette in the adjustment aid by fitting the outer fastening bolts and tightening them hand-tight. \\n2. Undo the fastening bolts for the clamping strip and unscrew. \\n3. Remove the clamping strip. \\n4. Remove the recoater blade. \\n5. Fit a new recoater blade or a turned recoater blade. \\n6. Check the related circuit breaker or fuse, and if necessary reset or replace.'}]"
      ]
     },
     "execution_count": 9,
     "metadata": {},
     "output_type": "execute_result"
    }
   ],
   "source": [
    "ssm.discuss(\"How do I repair the M290?\")"
   ]
  },
  {
   "cell_type": "code",
   "execution_count": 10,
   "metadata": {},
   "outputs": [
    {
     "data": {
      "text/plain": [
       "[{'role': 'assistant',\n",
       "  'content': 'It is not possible to answer this question without prior knowledge of the M400.'}]"
      ]
     },
     "execution_count": 10,
     "metadata": {},
     "output_type": "execute_result"
    }
   ],
   "source": [
    "ssm.discuss(\"What is the difference between the M290 and M400?\")"
   ]
  },
  {
   "cell_type": "code",
   "execution_count": 11,
   "metadata": {},
   "outputs": [
    {
     "data": {
      "text/plain": [
       "[{'role': 'assistant',\n",
       "  'content': 'The difference between the two models is that the M400-4 has buttons that are activated by touching the monitor with a finger, while the M290 does not have this feature. Additionally, the M400-4 has status boxes and selector switches, while the M290 does not. The M400-4 also has a field that can be touched to open a data entry window with a keyboard, while the M290 does not have this feature.'}]"
      ]
     },
     "execution_count": 11,
     "metadata": {},
     "output_type": "execute_result"
    }
   ],
   "source": [
    "ssm.discuss(\"What is the difference between the two models?\")"
   ]
  },
  {
   "cell_type": "code",
   "execution_count": 12,
   "metadata": {},
   "outputs": [
    {
     "data": {
      "text/plain": [
       "[{'role': 'assistant',\n",
       "  'content': 'The two operating levels that can be set on the machine\\'s screen are \"Operator\" and \"Supervisor\". There is no information given about the power levels of the two models.'}]"
      ]
     },
     "execution_count": 12,
     "metadata": {},
     "output_type": "execute_result"
    }
   ],
   "source": [
    "ssm.discuss(\"What are the power levels of the two models?\")"
   ]
  },
  {
   "cell_type": "code",
   "execution_count": 13,
   "metadata": {},
   "outputs": [
    {
     "data": {
      "text/plain": [
       "[{'role': 'assistant',\n",
       "  'content': '1. Open the process chamber door. \\n2. Lift the extraction nozzle on the right and remove it from the inert gas extraction duct. \\n3. Set down the extraction nozzle outside the process chamber. \\n4. Close the process chamber door.'}]"
      ]
     },
     "execution_count": 13,
     "metadata": {},
     "output_type": "execute_result"
    }
   ],
   "source": [
    "ssm.discuss(\"How do I remove the extraction nozzle?\")"
   ]
  },
  {
   "cell_type": "code",
   "execution_count": 14,
   "metadata": {},
   "outputs": [
    {
     "data": {
      "text/plain": [
       "[{'role': 'assistant',\n",
       "  'content': '1. Open the process chamber door. (Refer to 6.3.2.1 Opening process chamber door).\\n2. Lift the extraction nozzle on the right and remove it from the inert gas extraction duct.\\n3. Set down the extraction nozzle outside the process chamber.\\n4. Close the process chamber door. (Refer to 6.3.2.2 Closing process chamber door).'}]"
      ]
     },
     "execution_count": 14,
     "metadata": {},
     "output_type": "execute_result"
    }
   ],
   "source": [
    "ssm.discuss(\"How do I remove the xtracsion nossle?\")"
   ]
  },
  {
   "cell_type": "code",
   "execution_count": 15,
   "metadata": {},
   "outputs": [
    {
     "data": {
      "text/plain": [
       "[{'role': 'assistant',\n",
       "  'content': 'To remove the dispenser system, carefully move the High Lifting truck back until the dispenser system is completely outside the machine and it is possible to move the lifting fork without collision. Lower the lifting fork until the dispenser system is sitting in the holder and both retaining pins on the dispenser system are free. Vacuum clean all surfaces on the dispenser system using the Wet separator. Move the High Lifting truck with the dispenser system behind the machine. Finally, move the High Lifting truck back until the fork arms are completely outside the machine and can be moved without risk of collision.'}]"
      ]
     },
     "execution_count": 15,
     "metadata": {},
     "output_type": "execute_result"
    }
   ],
   "source": [
    "ssm.discuss(\"How do I remove the dispenser?\")"
   ]
  },
  {
   "cell_type": "code",
   "execution_count": null,
   "metadata": {},
   "outputs": [],
   "source": []
  },
  {
   "cell_type": "code",
   "execution_count": 5,
   "metadata": {},
   "outputs": [
    {
     "data": {
      "text/plain": [
       "[{'role': 'assistant', 'content': 'The author is Nguyen, Elise.'}]"
      ]
     },
     "execution_count": 5,
     "metadata": {},
     "output_type": "execute_result"
    }
   ],
   "source": [
    "ssm.discuss(\"Who is the author?\")"
   ]
  },
  {
   "cell_type": "code",
   "execution_count": 6,
   "metadata": {},
   "outputs": [
    {
     "data": {
      "text/plain": [
       "[{'role': 'assistant',\n",
       "  'content': 'This study examined the trust of automated systems among 120 adults from the US. Participants completed a manipulation check, a Checklist for Trust Between People and Automation, and a General Attitudes Towards Artificial Intelligence Scale. Results showed agreement, neutrality, and disagreement with automated systems.'}]"
      ]
     },
     "execution_count": 6,
     "metadata": {},
     "output_type": "execute_result"
    }
   ],
   "source": [
    "ssm.discuss(\"Give me a 20-word summary\")"
   ]
  },
  {
   "cell_type": "code",
   "execution_count": 7,
   "metadata": {},
   "outputs": [
    {
     "data": {
      "text/plain": [
       "[{'role': 'assistant',\n",
       "  'content': 'This paper provides an interesting exploration of the attitudes and behaviors of people when presented with artificial intelligence (AI) and automated decision-making systems. The authors present a comprehensive review of the literature on the topic, and provide a detailed analysis of the results of their survey. The authors also provide a discussion of the implications of their findings for the use of AI and automated decision-making systems in the future.\\n\\nOverall, the paper is well-written and provides a thorough overview of the topic. However, there are a few areas that could be improved. First, the authors could have provided more detail on the survey methodology and the sample size. Additionally, the authors could have provided more detail on the implications of their findings for the use of AI and automated decision-making systems in the future. Finally, the authors could have discussed the potential ethical implications of their findings.'}]"
      ]
     },
     "execution_count": 7,
     "metadata": {},
     "output_type": "execute_result"
    }
   ],
   "source": [
    "ssm.discuss(\"Critique the paper\")"
   ]
  },
  {
   "cell_type": "code",
   "execution_count": 10,
   "metadata": {},
   "outputs": [
    {
     "data": {
      "text/plain": [
       "[{'role': 'assistant',\n",
       "  'content': 'I would rate the paper a 5 in legibility. The context information is well-structured and easy to follow. The paper is organized into sections, with each section clearly labeled and containing relevant information. The language is clear and concise, and the formatting is consistent throughout.'}]"
      ]
     },
     "execution_count": 10,
     "metadata": {},
     "output_type": "execute_result"
    }
   ],
   "source": [
    "ssm.discuss(\"Rate the paper on a scale from 1 to 5 in legibility. Explain.\")"
   ]
  },
  {
   "cell_type": "code",
   "execution_count": 4,
   "metadata": {},
   "outputs": [
    {
     "data": {
      "text/plain": [
       "[{'role': 'assistant',\n",
       "  'content': 'Yann does not think that LLMs can achieve AGI. He believes that scaling is not enough and that reward is not enough. He believes that symbols are necessary for reasoning and that the type of reasoning proposed in the paper cannot encompass all forms of reasoning that humans and animals are capable of.'}]"
      ]
     },
     "execution_count": 4,
     "metadata": {},
     "output_type": "execute_result"
    }
   ],
   "source": [
    "ssm.discuss(\"Does Yann think LLMs can achieve AGI?\")"
   ]
  },
  {
   "cell_type": "code",
   "execution_count": 5,
   "metadata": {},
   "outputs": [
    {
     "data": {
      "text/plain": [
       "[{'role': 'assistant',\n",
       "  'content': 'He thinks that a lot of hard work needs to be done to instantiate the proposed architecture and turn it into a functional system. He questions whether a Hierarchical JEPA can be built and trained from videos, how to regularize the latent variable, how the actor can infer latent variable instantiations and optimal action sequences, how to instantiate multiple configurations of latent variables in Mode-2 planning/reasoning, the architecture of the various modules, the architecture and function of the short-term memory, and how it may be used to represent beliefs about the state of the world.'}]"
      ]
     },
     "execution_count": 5,
     "metadata": {},
     "output_type": "execute_result"
    }
   ],
   "source": [
    "ssm.discuss(\"What does he think is missing?\")"
   ]
  },
  {
   "cell_type": "code",
   "execution_count": 6,
   "metadata": {},
   "outputs": [
    {
     "data": {
      "text/plain": [
       "[{'role': 'assistant',\n",
       "  'content': 'Yann LeCun does not provide a specific timeline for when he believes we will achieve AGI. He does, however, suggest that the challenges of creating autonomous intelligent agents can be addressed with the architecture and training paradigms he proposes. He also suggests that the research in AI should be contextualized in order to make progress towards AGI.'}]"
      ]
     },
     "execution_count": 6,
     "metadata": {},
     "output_type": "execute_result"
    }
   ],
   "source": [
    "ssm.discuss(\"When does he think we will achieve AGI?\")"
   ]
  },
  {
   "cell_type": "code",
   "execution_count": 7,
   "metadata": {},
   "outputs": [
    {
     "data": {
      "text/plain": [
       "[{'role': 'assistant',\n",
       "  'content': 'Yann thinks that we should build machines that can learn like humans and animals, so that they can understand the world and act in it. He suggests that we should give them a way to learn from their environment, so that they can learn without needing lots of expensive and dangerous trials. He also suggests that we should give them a way to reason and plan, so that they can make decisions and solve problems. Finally, he suggests that we should give them a way to represent things in a hierarchical way, so that they can understand things at different levels of complexity.'}]"
      ]
     },
     "execution_count": 7,
     "metadata": {},
     "output_type": "execute_result"
    }
   ],
   "source": [
    "ssm.discuss(\"Explain to a smart 8-year-old what Yann thinks we should do to achieve AGI.\")"
   ]
  },
  {
   "cell_type": "code",
   "execution_count": 8,
   "metadata": {},
   "outputs": [
    {
     "data": {
      "text/plain": [
       "Backend(index=<llama_index.indices.vector_store.base.VectorStoreIndex object at 0x140845870>, _query_engine=<llama_index.query_engine.retriever_query_engine.RetrieverQueryEngine object at 0x140f9ba90>)"
      ]
     },
     "execution_count": 8,
     "metadata": {},
     "output_type": "execute_result"
    }
   ],
   "source": [
    "ssm.get_backends()[0]"
   ]
  }
 ],
 "metadata": {
  "kernelspec": {
   "display_name": "Python 3",
   "language": "python",
   "name": "python3"
  },
  "language_info": {
   "codemirror_mode": {
    "name": "ipython",
    "version": 3
   },
   "file_extension": ".py",
   "mimetype": "text/x-python",
   "name": "python",
   "nbconvert_exporter": "python",
   "pygments_lexer": "ipython3",
   "version": "3.10.12"
  },
  "orig_nbformat": 4
 },
 "nbformat": 4,
 "nbformat_minor": 2
}
