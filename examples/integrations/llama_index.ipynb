{
 "cells": [
  {
   "cell_type": "markdown",
   "metadata": {},
   "source": [
    "\n",
    "# LlamaIndex Integration Demo"
   ]
  },
  {
   "cell_type": "code",
   "execution_count": 1,
   "metadata": {},
   "outputs": [
    {
     "ename": "AttributeError",
     "evalue": "attribute '__isabstractmethod__' of 'property' objects is not writable",
     "output_type": "error",
     "traceback": [
      "\u001b[0;31m---------------------------------------------------------------------------\u001b[0m",
      "\u001b[0;31mAttributeError\u001b[0m                            Traceback (most recent call last)",
      "Cell \u001b[0;32mIn[1], line 7\u001b[0m\n\u001b[1;32m      4\u001b[0m sys\u001b[39m.\u001b[39mpath\u001b[39m.\u001b[39minsert(\u001b[39m0\u001b[39m, \u001b[39mstr\u001b[39m(Path(\u001b[39m'\u001b[39m\u001b[39m../../\u001b[39m\u001b[39m'\u001b[39m)\u001b[39m.\u001b[39mresolve()))\n\u001b[1;32m      6\u001b[0m \u001b[39m# Configure logging for some informative output\u001b[39;00m\n\u001b[0;32m----> 7\u001b[0m \u001b[39mfrom\u001b[39;00m \u001b[39mopenssm\u001b[39;00m \u001b[39mimport\u001b[39;00m logger, mlogger\n\u001b[1;32m      8\u001b[0m \u001b[39m# mlogger.setLevel(logger.DEBUG)\u001b[39;00m\n\u001b[1;32m      9\u001b[0m logger\u001b[39m.\u001b[39msetLevel(logger\u001b[39m.\u001b[39mDEBUG)\n",
      "File \u001b[0;32m~/src/aitomatic/ssm/openssm/__init__.py:3\u001b[0m\n\u001b[1;32m      1\u001b[0m \u001b[39mfrom\u001b[39;00m \u001b[39mimportlib\u001b[39;00m\u001b[39m.\u001b[39;00m\u001b[39mmetadata\u001b[39;00m \u001b[39mimport\u001b[39;00m version\n\u001b[0;32m----> 3\u001b[0m \u001b[39mfrom\u001b[39;00m \u001b[39mopenssm\u001b[39;00m\u001b[39m.\u001b[39;00m\u001b[39mcore\u001b[39;00m\u001b[39m.\u001b[39;00m\u001b[39mslm\u001b[39;00m\u001b[39m.\u001b[39;00m\u001b[39mbase_slm\u001b[39;00m \u001b[39mimport\u001b[39;00m BaseSLM\n\u001b[1;32m      4\u001b[0m \u001b[39mfrom\u001b[39;00m \u001b[39mopenssm\u001b[39;00m\u001b[39m.\u001b[39;00m\u001b[39mcore\u001b[39;00m\u001b[39m.\u001b[39;00m\u001b[39mssm\u001b[39;00m\u001b[39m.\u001b[39;00m\u001b[39mbase_ssm\u001b[39;00m \u001b[39mimport\u001b[39;00m BaseSSM\n\u001b[1;32m      6\u001b[0m \u001b[39mfrom\u001b[39;00m \u001b[39mopenssm\u001b[39;00m\u001b[39m.\u001b[39;00m\u001b[39mintegrations\u001b[39;00m\u001b[39m.\u001b[39;00m\u001b[39mopenai\u001b[39;00m\u001b[39m.\u001b[39;00m\u001b[39mssm\u001b[39;00m \u001b[39mimport\u001b[39;00m GPT3CompletionSSM, GPT3ChatCompletionSSM\n",
      "File \u001b[0;32m~/src/aitomatic/ssm/openssm/core/slm/base_slm.py:2\u001b[0m\n\u001b[1;32m      1\u001b[0m \u001b[39mimport\u001b[39;00m \u001b[39mjson\u001b[39;00m\n\u001b[0;32m----> 2\u001b[0m \u001b[39mfrom\u001b[39;00m \u001b[39mopenssm\u001b[39;00m\u001b[39m.\u001b[39;00m\u001b[39mcore\u001b[39;00m\u001b[39m.\u001b[39;00m\u001b[39madapter\u001b[39;00m\u001b[39m.\u001b[39;00m\u001b[39mbase_adapter\u001b[39;00m \u001b[39mimport\u001b[39;00m BaseAdapter\n\u001b[1;32m      3\u001b[0m \u001b[39mfrom\u001b[39;00m \u001b[39mopenssm\u001b[39;00m\u001b[39m.\u001b[39;00m\u001b[39mcore\u001b[39;00m\u001b[39m.\u001b[39;00m\u001b[39mslm\u001b[39;00m\u001b[39m.\u001b[39;00m\u001b[39mabstract_slm\u001b[39;00m \u001b[39mimport\u001b[39;00m AbstractSLM\n\u001b[1;32m      4\u001b[0m \u001b[39mfrom\u001b[39;00m \u001b[39mopenssm\u001b[39;00m\u001b[39m.\u001b[39;00m\u001b[39mcore\u001b[39;00m\u001b[39m.\u001b[39;00m\u001b[39madapter\u001b[39;00m\u001b[39m.\u001b[39;00m\u001b[39mabstract_adapter\u001b[39;00m \u001b[39mimport\u001b[39;00m AbstractAdapter\n",
      "File \u001b[0;32m~/src/aitomatic/ssm/openssm/core/adapter/base_adapter.py:2\u001b[0m\n\u001b[1;32m      1\u001b[0m \u001b[39mfrom\u001b[39;00m \u001b[39mtyping\u001b[39;00m \u001b[39mimport\u001b[39;00m Callable\n\u001b[0;32m----> 2\u001b[0m \u001b[39mfrom\u001b[39;00m \u001b[39mopenssm\u001b[39;00m\u001b[39m.\u001b[39;00m\u001b[39mcore\u001b[39;00m\u001b[39m.\u001b[39;00m\u001b[39madapter\u001b[39;00m\u001b[39m.\u001b[39;00m\u001b[39mabstract_adapter\u001b[39;00m \u001b[39mimport\u001b[39;00m AbstractAdapter\n\u001b[1;32m      3\u001b[0m \u001b[39mfrom\u001b[39;00m \u001b[39mopenssm\u001b[39;00m\u001b[39m.\u001b[39;00m\u001b[39mcore\u001b[39;00m\u001b[39m.\u001b[39;00m\u001b[39mbackend\u001b[39;00m\u001b[39m.\u001b[39;00m\u001b[39mabstract_backend\u001b[39;00m \u001b[39mimport\u001b[39;00m AbstractBackend\n\u001b[1;32m      4\u001b[0m \u001b[39mfrom\u001b[39;00m \u001b[39mopenssm\u001b[39;00m\u001b[39m.\u001b[39;00m\u001b[39mcore\u001b[39;00m\u001b[39m.\u001b[39;00m\u001b[39mbackend\u001b[39;00m\u001b[39m.\u001b[39;00m\u001b[39mtext_backend\u001b[39;00m \u001b[39mimport\u001b[39;00m TextBackend\n",
      "File \u001b[0;32m~/src/aitomatic/ssm/openssm/core/adapter/abstract_adapter.py:8\u001b[0m\n\u001b[1;32m      3\u001b[0m \u001b[39mfrom\u001b[39;00m \u001b[39mtyping\u001b[39;00m \u001b[39mimport\u001b[39;00m Callable\n\u001b[1;32m      4\u001b[0m \u001b[39mfrom\u001b[39;00m \u001b[39mopenssm\u001b[39;00m\u001b[39m.\u001b[39;00m\u001b[39mcore\u001b[39;00m\u001b[39m.\u001b[39;00m\u001b[39mbackend\u001b[39;00m\u001b[39m.\u001b[39;00m\u001b[39mabstract_backend\u001b[39;00m \u001b[39mimport\u001b[39;00m AbstractBackend\n\u001b[1;32m      7\u001b[0m \u001b[39m@dataclass\u001b[39m\n\u001b[0;32m----> 8\u001b[0m \u001b[39mclass\u001b[39;00m \u001b[39mAbstractAdapter\u001b[39;00m(ABC):\n\u001b[1;32m      9\u001b[0m \u001b[39m    \u001b[39m\u001b[39m\"\"\"\u001b[39;00m\n\u001b[1;32m     10\u001b[0m \u001b[39m    The AbstractAdapter serves as the base for all concrete Adapter classes.\u001b[39;00m\n\u001b[1;32m     11\u001b[0m \u001b[39m    It provides an interface for interaction between the Small Language Model\u001b[39;00m\n\u001b[1;32m     12\u001b[0m \u001b[39m    (SLM) and the Backend.\u001b[39;00m\n\u001b[1;32m     13\u001b[0m \u001b[39m    \"\"\"\u001b[39;00m\n\u001b[1;32m     15\u001b[0m     \u001b[39m@abstractmethod\u001b[39m\n\u001b[1;32m     16\u001b[0m     \u001b[39mdef\u001b[39;00m \u001b[39mquery\u001b[39m(\u001b[39mself\u001b[39m, user_input: \u001b[39mstr\u001b[39m, conversation_id: \u001b[39mstr\u001b[39m \u001b[39m=\u001b[39m \u001b[39mNone\u001b[39;00m) \u001b[39m-\u001b[39m\u001b[39m>\u001b[39m \u001b[39mlist\u001b[39m[\u001b[39mdict\u001b[39m]:\n",
      "File \u001b[0;32m~/src/aitomatic/ssm/openssm/core/adapter/abstract_adapter.py:28\u001b[0m, in \u001b[0;36mAbstractAdapter\u001b[0;34m()\u001b[0m\n\u001b[1;32m     23\u001b[0m \u001b[39mdef\u001b[39;00m \u001b[39menumerate_backends\u001b[39m(\u001b[39mself\u001b[39m, lambda_function: Callable):\n\u001b[1;32m     24\u001b[0m \u001b[39m    \u001b[39m\u001b[39m\"\"\"Enumerate backends and apply lambda function to each backend.\"\"\"\u001b[39;00m\n\u001b[1;32m     26\u001b[0m \u001b[39m@abstractmethod\u001b[39;49m\n\u001b[1;32m     27\u001b[0m \u001b[39m@property\u001b[39;49m\n\u001b[0;32m---> 28\u001b[0m \u001b[39mdef\u001b[39;49;00m \u001b[39mbackends\u001b[39;49m(\u001b[39mself\u001b[39;49m) \u001b[39m-\u001b[39;49m\u001b[39m>\u001b[39;49m \u001b[39mlist\u001b[39;49m[AbstractBackend]:\n\u001b[1;32m     29\u001b[0m \u001b[39m    \u001b[39;49m\u001b[39m\"\"\"Returns our backends\"\"\"\u001b[39;49;00m\n\u001b[1;32m     31\u001b[0m \u001b[39m@abstractmethod\u001b[39m\n\u001b[1;32m     32\u001b[0m \u001b[39m@backends\u001b[39m\u001b[39m.\u001b[39msetter\n\u001b[1;32m     33\u001b[0m \u001b[39mdef\u001b[39;00m \u001b[39mbackends\u001b[39m(\u001b[39mself\u001b[39m, backends: \u001b[39mlist\u001b[39m):\n",
      "File \u001b[0;32m~/.pyenv/versions/3.10.12/lib/python3.10/abc.py:24\u001b[0m, in \u001b[0;36mabstractmethod\u001b[0;34m(funcobj)\u001b[0m\n\u001b[1;32m      7\u001b[0m \u001b[39mdef\u001b[39;00m \u001b[39mabstractmethod\u001b[39m(funcobj):\n\u001b[1;32m      8\u001b[0m \u001b[39m    \u001b[39m\u001b[39m\"\"\"A decorator indicating abstract methods.\u001b[39;00m\n\u001b[1;32m      9\u001b[0m \n\u001b[1;32m     10\u001b[0m \u001b[39m    Requires that the metaclass is ABCMeta or derived from it.  A\u001b[39;00m\n\u001b[0;32m   (...)\u001b[0m\n\u001b[1;32m     22\u001b[0m \u001b[39m                ...\u001b[39;00m\n\u001b[1;32m     23\u001b[0m \u001b[39m    \"\"\"\u001b[39;00m\n\u001b[0;32m---> 24\u001b[0m     funcobj\u001b[39m.\u001b[39;49m__isabstractmethod__ \u001b[39m=\u001b[39m \u001b[39mTrue\u001b[39;00m\n\u001b[1;32m     25\u001b[0m     \u001b[39mreturn\u001b[39;00m funcobj\n",
      "\u001b[0;31mAttributeError\u001b[0m: attribute '__isabstractmethod__' of 'property' objects is not writable"
     ]
    }
   ],
   "source": [
    "# Import OpenSSM package \"live\" from the source code\n",
    "import sys\n",
    "from pathlib import Path\n",
    "sys.path.insert(0, str(Path('../../').resolve()))\n",
    "\n",
    "# Configure logging for some informative output\n",
    "from openssm import logger, mlogger\n",
    "# mlogger.setLevel(logger.DEBUG)\n",
    "logger.setLevel(logger.DEBUG)\n",
    "logger.info(\"Working directory: %s\", Path.cwd())"
   ]
  },
  {
   "cell_type": "code",
   "execution_count": null,
   "metadata": {},
   "outputs": [],
   "source": [
    "from openssm import LlamaIndexSSM\n",
    "ssm = LlamaIndexSSM(name=\"ylecun\")"
   ]
  },
  {
   "cell_type": "code",
   "execution_count": null,
   "metadata": {},
   "outputs": [],
   "source": [
    "ssm.read_directory(use_existing_index=True)"
   ]
  },
  {
   "cell_type": "code",
   "execution_count": null,
   "metadata": {},
   "outputs": [],
   "source": [
    "ssm.read_gdrive(\"1KQBtnpILq8SMZgTR2j6AimceZN-XnydL\", use_existing_index=True)"
   ]
  },
  {
   "cell_type": "code",
   "execution_count": null,
   "metadata": {},
   "outputs": [],
   "source": [
    "ssm.discuss(\"Who is Christopher?\")"
   ]
  },
  {
   "cell_type": "code",
   "execution_count": null,
   "metadata": {},
   "outputs": [],
   "source": [
    "ssm.discuss(\"Who is Yann?\")"
   ]
  },
  {
   "cell_type": "code",
   "execution_count": null,
   "metadata": {},
   "outputs": [],
   "source": [
    "ssm.discuss(\"Who are Yann and Christopher?\")"
   ]
  },
  {
   "cell_type": "code",
   "execution_count": null,
   "metadata": {},
   "outputs": [],
   "source": [
    "ssm.discuss(\"Are there things where Yann and Christopher do not agree on?\")"
   ]
  },
  {
   "cell_type": "code",
   "execution_count": null,
   "metadata": {},
   "outputs": [],
   "source": [
    "ssm.discuss(\"What are the main points of agreement between Yann and Christopher?\")"
   ]
  },
  {
   "cell_type": "code",
   "execution_count": null,
   "metadata": {},
   "outputs": [],
   "source": [
    "ssm.discuss(\"Which of the two papers is likely to be implemented in the near future?\")"
   ]
  },
  {
   "cell_type": "code",
   "execution_count": null,
   "metadata": {},
   "outputs": [],
   "source": [
    "ssm.discuss(\"Which architecture is likely to be implemented imperatively?\")"
   ]
  },
  {
   "cell_type": "code",
   "execution_count": null,
   "metadata": {},
   "outputs": [],
   "source": [
    "from openssm.core.ssm.rag_ssm import RAGSSM\n",
    "ssm = RAGSSM()"
   ]
  },
  {
   "cell_type": "code",
   "execution_count": null,
   "metadata": {},
   "outputs": [],
   "source": [
    "from openssm import LlamaIndexSSM\n",
    "ssm = LlamaIndexSSM()"
   ]
  },
  {
   "cell_type": "code",
   "execution_count": null,
   "metadata": {},
   "outputs": [],
   "source": []
  },
  {
   "cell_type": "code",
   "execution_count": null,
   "metadata": {},
   "outputs": [],
   "source": [
    "ssm.discuss({\"role\": \"user\", \"content\": \"test content\"})"
   ]
  },
  {
   "cell_type": "code",
   "execution_count": null,
   "metadata": {},
   "outputs": [],
   "source": []
  },
  {
   "cell_type": "code",
   "execution_count": null,
   "metadata": {},
   "outputs": [],
   "source": []
  },
  {
   "cell_type": "code",
   "execution_count": null,
   "metadata": {},
   "outputs": [],
   "source": []
  },
  {
   "cell_type": "code",
   "execution_count": null,
   "metadata": {},
   "outputs": [],
   "source": []
  },
  {
   "cell_type": "code",
   "execution_count": null,
   "metadata": {},
   "outputs": [],
   "source": []
  },
  {
   "cell_type": "code",
   "execution_count": null,
   "metadata": {},
   "outputs": [],
   "source": []
  },
  {
   "cell_type": "code",
   "execution_count": null,
   "metadata": {},
   "outputs": [],
   "source": []
  },
  {
   "cell_type": "code",
   "execution_count": null,
   "metadata": {},
   "outputs": [],
   "source": []
  },
  {
   "cell_type": "code",
   "execution_count": null,
   "metadata": {},
   "outputs": [],
   "source": []
  },
  {
   "cell_type": "code",
   "execution_count": null,
   "metadata": {},
   "outputs": [],
   "source": []
  },
  {
   "cell_type": "code",
   "execution_count": null,
   "metadata": {},
   "outputs": [],
   "source": [
    "ssm.read_gdrive(\"1KQBtnpILq8SMZgTR2j6AimceZN-XnydL\", use_existing_index=True, project_name=\"ylecun\")"
   ]
  }
 ],
 "metadata": {
  "kernelspec": {
   "display_name": "Python 3",
   "language": "python",
   "name": "python3"
  },
  "language_info": {
   "codemirror_mode": {
    "name": "ipython",
    "version": 3
   },
   "file_extension": ".py",
   "mimetype": "text/x-python",
   "name": "python",
   "nbconvert_exporter": "python",
   "pygments_lexer": "ipython3",
   "version": "3.10.12"
  },
  "orig_nbformat": 4
 },
 "nbformat": 4,
 "nbformat_minor": 2
}
