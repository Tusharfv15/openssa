{
 "cells": [
  {
   "cell_type": "markdown",
   "metadata": {},
   "source": [
    "\n",
    "# LlamaIndex Integration Demo"
   ]
  },
  {
   "cell_type": "code",
   "execution_count": 1,
   "metadata": {},
   "outputs": [
    {
     "name": "stderr",
     "output_type": "stream",
     "text": [
      "07/29/2023 05:39:59 PM [INFO]: integrations.1223151261.<module> (in 1223151261.py line 8) Working directory: /Users/ctn/src/aitomatic/ssm/examples/integrations\n"
     ]
    }
   ],
   "source": [
    "# Import OpenSSM package \"live\" from the source code\n",
    "import sys\n",
    "from pathlib import Path\n",
    "sys.path.insert(0, str(Path('../../').resolve()))\n",
    "\n",
    "# Configure logging for some informative output\n",
    "from openssm import logger\n",
    "logger.info(\"Working directory: %s\", Path.cwd())"
   ]
  },
  {
   "cell_type": "code",
   "execution_count": 1,
   "metadata": {},
   "outputs": [],
   "source": [
    "# Instantiate a LlamaIndexSSM\n",
    "from openssm import LlamaIndexSSM\n",
    "ssm = LlamaIndexSSM()"
   ]
  },
  {
   "cell_type": "code",
   "execution_count": 4,
   "metadata": {},
   "outputs": [],
   "source": [
    "# Read the docs for the first time\n",
    "ssm.read_directory('../tmp/docs/ylecun')"
   ]
  },
  {
   "cell_type": "code",
   "execution_count": 5,
   "metadata": {},
   "outputs": [],
   "source": [
    "# Persist the index\n",
    "ssm.persist('../tmp/storage/ylecun')"
   ]
  },
  {
   "cell_type": "code",
   "execution_count": 2,
   "metadata": {},
   "outputs": [],
   "source": [
    "# Load the index from storage\n",
    "ssm.load('../tmp/storage/ylecun')"
   ]
  },
  {
   "cell_type": "code",
   "execution_count": 3,
   "metadata": {},
   "outputs": [
    {
     "data": {
      "text/plain": [
       "[{'role': 'assistant',\n",
       "  'content': 'The main point made by Yann LeCun is that an architecture and training paradigms can be used to construct autonomous intelligent agents that learn more like humans and animals, can reason and plan, and whose behavior is driven by intrinsic objectives.'}]"
      ]
     },
     "execution_count": 3,
     "metadata": {},
     "output_type": "execute_result"
    }
   ],
   "source": [
    "# Interact with the SSM\n",
    "ssm.discuss(\"What is the main point made by Yann LeCun?\")"
   ]
  },
  {
   "cell_type": "code",
   "execution_count": 4,
   "metadata": {},
   "outputs": [
    {
     "data": {
      "text/plain": [
       "[{'role': 'assistant',\n",
       "  'content': 'Yann does not think that LLMs can achieve AGI. He believes that scaling is not enough and that reward is not enough. He believes that symbols are necessary for reasoning and that the type of reasoning proposed in the paper cannot encompass all forms of reasoning that humans and animals are capable of.'}]"
      ]
     },
     "execution_count": 4,
     "metadata": {},
     "output_type": "execute_result"
    }
   ],
   "source": [
    "ssm.discuss(\"Does Yann think LLMs can achieve AGI?\")"
   ]
  },
  {
   "cell_type": "code",
   "execution_count": 5,
   "metadata": {},
   "outputs": [
    {
     "data": {
      "text/plain": [
       "[{'role': 'assistant',\n",
       "  'content': 'He thinks that a lot of hard work needs to be done to instantiate the proposed architecture and turn it into a functional system. He questions whether a Hierarchical JEPA can be built and trained from videos, how to regularize the latent variable, how the actor can infer latent variable instantiations and optimal action sequences, how to instantiate multiple configurations of latent variables in Mode-2 planning/reasoning, the architecture of the various modules, the architecture and function of the short-term memory, and how it may be used to represent beliefs about the state of the world.'}]"
      ]
     },
     "execution_count": 5,
     "metadata": {},
     "output_type": "execute_result"
    }
   ],
   "source": [
    "ssm.discuss(\"What does he think is missing?\")"
   ]
  },
  {
   "cell_type": "code",
   "execution_count": 6,
   "metadata": {},
   "outputs": [
    {
     "data": {
      "text/plain": [
       "[{'role': 'assistant',\n",
       "  'content': 'Yann LeCun does not provide a specific timeline for when he believes we will achieve AGI. He does, however, suggest that the challenges of creating autonomous intelligent agents can be addressed with the architecture and training paradigms he proposes. He also suggests that the research in AI should be contextualized in order to make progress towards AGI.'}]"
      ]
     },
     "execution_count": 6,
     "metadata": {},
     "output_type": "execute_result"
    }
   ],
   "source": [
    "ssm.discuss(\"When does he think we will achieve AGI?\")"
   ]
  },
  {
   "cell_type": "code",
   "execution_count": 7,
   "metadata": {},
   "outputs": [
    {
     "data": {
      "text/plain": [
       "[{'role': 'assistant',\n",
       "  'content': 'Yann thinks that we should build machines that can learn like humans and animals, so that they can understand the world and act in it. He suggests that we should give them a way to learn from their environment, so that they can learn without needing lots of expensive and dangerous trials. He also suggests that we should give them a way to reason and plan, so that they can make decisions and solve problems. Finally, he suggests that we should give them a way to represent things in a hierarchical way, so that they can understand things at different levels of complexity.'}]"
      ]
     },
     "execution_count": 7,
     "metadata": {},
     "output_type": "execute_result"
    }
   ],
   "source": [
    "ssm.discuss(\"Explain to a smart 8-year-old what Yann thinks we should do to achieve AGI.\")"
   ]
  },
  {
   "cell_type": "code",
   "execution_count": 8,
   "metadata": {},
   "outputs": [
    {
     "data": {
      "text/plain": [
       "Backend(index=<llama_index.indices.vector_store.base.VectorStoreIndex object at 0x140845870>, _query_engine=<llama_index.query_engine.retriever_query_engine.RetrieverQueryEngine object at 0x140f9ba90>)"
      ]
     },
     "execution_count": 8,
     "metadata": {},
     "output_type": "execute_result"
    }
   ],
   "source": [
    "ssm.get_backends()[0]"
   ]
  }
 ],
 "metadata": {
  "kernelspec": {
   "display_name": "Python 3",
   "language": "python",
   "name": "python3"
  },
  "language_info": {
   "codemirror_mode": {
    "name": "ipython",
    "version": 3
   },
   "file_extension": ".py",
   "mimetype": "text/x-python",
   "name": "python",
   "nbconvert_exporter": "python",
   "pygments_lexer": "ipython3",
   "version": "3.10.12"
  },
  "orig_nbformat": 4
 },
 "nbformat": 4,
 "nbformat_minor": 2
}
