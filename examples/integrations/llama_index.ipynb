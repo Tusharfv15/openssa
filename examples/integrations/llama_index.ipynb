{
 "cells": [
  {
   "cell_type": "markdown",
   "metadata": {},
   "source": [
    "\n",
    "# LlamaIndex Integration Demo"
   ]
  },
  {
   "cell_type": "code",
   "execution_count": 1,
   "metadata": {},
   "outputs": [
    {
     "name": "stderr",
     "output_type": "stream",
     "text": [
      "08/03/2023 10:29:27 AM [INFO]: integrations.234649382.<module> (in 234649382.py line 10) Working directory: /Users/ctn/src/aitomatic/ssm/examples/integrations\n"
     ]
    }
   ],
   "source": [
    "# Import OpenSSM package \"live\" from the source code\n",
    "import sys\n",
    "from pathlib import Path\n",
    "sys.path.insert(0, str(Path('../../').resolve()))\n",
    "\n",
    "# Configure logging for some informative output\n",
    "from openssm import logger, mlogger\n",
    "mlogger.setLevel(logger.DEBUG)\n",
    "logger.setLevel(logger.DEBUG)\n",
    "logger.info(\"Working directory: %s\", Path.cwd())"
   ]
  },
  {
   "cell_type": "code",
   "execution_count": 2,
   "metadata": {},
   "outputs": [],
   "source": [
    "from openssm import LlamaIndexSSM\n",
    "ssm = LlamaIndexSSM(name=\"ylecun\")"
   ]
  },
  {
   "cell_type": "code",
   "execution_count": null,
   "metadata": {},
   "outputs": [],
   "source": [
    "ssm.read_directory()"
   ]
  },
  {
   "cell_type": "code",
   "execution_count": 8,
   "metadata": {},
   "outputs": [
    {
     "name": "stderr",
     "output_type": "stream",
     "text": [
      "08/03/2023 10:52:50 AM [DEBUG]: openssm.logs.wrapper (in logs.py line 97) Calling _load_index_if_exists with args: ('self=Backend()', 'storage_dir=.openssm/ylecun')\n",
      "08/03/2023 10:52:50 AM [DEBUG]: openssm.logs.wrapper (in logs.py line 97) Calling _get_index_dir with args: ('self=Backend()', 'storage_dir=.openssm/ylecun')\n",
      "08/03/2023 10:52:50 AM [DEBUG]: openssm.logs.wrapper (in logs.py line 102) Function _get_index_dir returned: .openssm/ylecun/.indexes\n",
      "08/03/2023 10:52:50 AM [DEBUG]: openssm.logs.wrapper (in logs.py line 97) Calling _get_index_dir with args: ('self=Backend()', 'storage_dir=.openssm/ylecun/.indexes')\n",
      "08/03/2023 10:52:50 AM [DEBUG]: openssm.logs.wrapper (in logs.py line 102) Function _get_index_dir returned: .openssm/ylecun/.indexes/.indexes\n"
     ]
    },
    {
     "ename": "FileNotFoundError",
     "evalue": "[Errno 2] No such file or directory: '/Users/ctn/src/aitomatic/ssm/examples/integrations/.openssm/ylecun/.indexes/.indexes/docstore.json'",
     "output_type": "error",
     "traceback": [
      "\u001b[0;31m---------------------------------------------------------------------------\u001b[0m",
      "\u001b[0;31mFileNotFoundError\u001b[0m                         Traceback (most recent call last)",
      "Cell \u001b[0;32mIn[8], line 1\u001b[0m\n\u001b[0;32m----> 1\u001b[0m ssm\u001b[39m.\u001b[39;49mread_gdrive(\u001b[39m\"\u001b[39;49m\u001b[39m1KQBtnpILq8SMZgTR2j6AimceZN-XnydL\u001b[39;49m\u001b[39m\"\u001b[39;49m, use_existing_index\u001b[39m=\u001b[39;49m\u001b[39mTrue\u001b[39;49;00m)\n",
      "File \u001b[0;32m~/src/aitomatic/ssm/openssm/integrations/llama_index/ssm.py:32\u001b[0m, in \u001b[0;36mBaseLlamaIndexSSM.read_gdrive\u001b[0;34m(self, folder_id, storage_dir, use_existing_index)\u001b[0m\n\u001b[1;32m     30\u001b[0m \u001b[39mdef\u001b[39;00m \u001b[39mread_gdrive\u001b[39m(\u001b[39mself\u001b[39m, folder_id: \u001b[39mstr\u001b[39m, storage_dir: \u001b[39mstr\u001b[39m \u001b[39m=\u001b[39m \u001b[39mNone\u001b[39;00m, use_existing_index: \u001b[39mbool\u001b[39m \u001b[39m=\u001b[39m \u001b[39mFalse\u001b[39;00m):\n\u001b[1;32m     31\u001b[0m     storage_dir \u001b[39m=\u001b[39m storage_dir \u001b[39mor\u001b[39;00m \u001b[39mself\u001b[39m\u001b[39m.\u001b[39m_get_default_storage_dir()\n\u001b[0;32m---> 32\u001b[0m     \u001b[39mself\u001b[39;49m\u001b[39m.\u001b[39;49mget_llama_backend()\u001b[39m.\u001b[39;49mread_gdrive(folder_id, storage_dir, use_existing_index)\n",
      "File \u001b[0;32m~/src/aitomatic/ssm/openssm/core/backend/rag_backend.py:81\u001b[0m, in \u001b[0;36mAbstractRAGBackend.read_gdrive\u001b[0;34m(self, folder_id, storage_dir, use_existing_index)\u001b[0m\n\u001b[1;32m     78\u001b[0m success \u001b[39m=\u001b[39m \u001b[39mFalse\u001b[39;00m\n\u001b[1;32m     80\u001b[0m \u001b[39mif\u001b[39;00m use_existing_index:\n\u001b[0;32m---> 81\u001b[0m     success \u001b[39m=\u001b[39m \u001b[39mself\u001b[39;49m\u001b[39m.\u001b[39;49m_load_index_if_exists(storage_dir)\n\u001b[1;32m     83\u001b[0m \u001b[39mif\u001b[39;00m \u001b[39mnot\u001b[39;00m success \u001b[39mor\u001b[39;00m \u001b[39mnot\u001b[39;00m use_existing_index:\n\u001b[1;32m     84\u001b[0m     Utils\u001b[39m.\u001b[39mdownload_gdrive(folder_id, \u001b[39mself\u001b[39m\u001b[39m.\u001b[39m_get_source_dir(storage_dir))\n",
      "File \u001b[0;32m~/src/aitomatic/ssm/openssm/utils/logs.py:99\u001b[0m, in \u001b[0;36mLogs.do_log_entry_and_exit.<locals>.decorator.<locals>.wrapper\u001b[0;34m(*args, **kwargs)\u001b[0m\n\u001b[1;32m     95\u001b[0m             args_list \u001b[39m+\u001b[39m\u001b[39m=\u001b[39m (\u001b[39mf\u001b[39m\u001b[39m\"\u001b[39m\u001b[39mextra_arg=\u001b[39m\u001b[39m{\u001b[39;00mextra_arg\u001b[39m}\u001b[39;00m\u001b[39m\"\u001b[39m,)\n\u001b[1;32m     97\u001b[0m     the_logger\u001b[39m.\u001b[39mlog(log_level, \u001b[39m\"\u001b[39m\u001b[39mCalling \u001b[39m\u001b[39m%s\u001b[39;00m\u001b[39m with args: \u001b[39m\u001b[39m%s\u001b[39;00m\u001b[39m\"\u001b[39m, func\u001b[39m.\u001b[39m\u001b[39m__name__\u001b[39m, args_list)\n\u001b[0;32m---> 99\u001b[0m result \u001b[39m=\u001b[39m func(\u001b[39m*\u001b[39;49margs, \u001b[39m*\u001b[39;49m\u001b[39m*\u001b[39;49mkwargs)\n\u001b[1;32m    101\u001b[0m \u001b[39mif\u001b[39;00m log_exit:\n\u001b[1;32m    102\u001b[0m     the_logger\u001b[39m.\u001b[39mlog(log_level, \u001b[39m\"\u001b[39m\u001b[39mFunction \u001b[39m\u001b[39m%s\u001b[39;00m\u001b[39m returned: \u001b[39m\u001b[39m%s\u001b[39;00m\u001b[39m\"\u001b[39m, func\u001b[39m.\u001b[39m\u001b[39m__name__\u001b[39m, result)\n",
      "File \u001b[0;32m~/src/aitomatic/ssm/openssm/core/backend/rag_backend.py:30\u001b[0m, in \u001b[0;36mAbstractRAGBackend._load_index_if_exists\u001b[0;34m(self, storage_dir)\u001b[0m\n\u001b[1;32m     28\u001b[0m index_dir \u001b[39m=\u001b[39m \u001b[39mself\u001b[39m\u001b[39m.\u001b[39m_get_index_dir(storage_dir)\n\u001b[1;32m     29\u001b[0m \u001b[39mif\u001b[39;00m os\u001b[39m.\u001b[39mpath\u001b[39m.\u001b[39misdir(index_dir) \u001b[39mand\u001b[39;00m \u001b[39mlen\u001b[39m(os\u001b[39m.\u001b[39mlistdir(index_dir)) \u001b[39m!=\u001b[39m \u001b[39m0\u001b[39m:\n\u001b[0;32m---> 30\u001b[0m     \u001b[39mself\u001b[39;49m\u001b[39m.\u001b[39;49mload(index_dir)\n\u001b[1;32m     31\u001b[0m     \u001b[39mreturn\u001b[39;00m \u001b[39mTrue\u001b[39;00m\n\u001b[1;32m     33\u001b[0m \u001b[39mreturn\u001b[39;00m \u001b[39mFalse\u001b[39;00m\n",
      "File \u001b[0;32m~/src/aitomatic/ssm/openssm/core/backend/rag_backend.py:120\u001b[0m, in \u001b[0;36mAbstractRAGBackend.load\u001b[0;34m(self, storage_dir)\u001b[0m\n\u001b[1;32m    114\u001b[0m \u001b[39mdef\u001b[39;00m \u001b[39mload\u001b[39m(\u001b[39mself\u001b[39m, storage_dir: \u001b[39mstr\u001b[39m):\n\u001b[1;32m    115\u001b[0m \u001b[39m    \u001b[39m\u001b[39m\"\"\"\u001b[39;00m\n\u001b[1;32m    116\u001b[0m \u001b[39m    Load the index from the storage directory.\u001b[39;00m\n\u001b[1;32m    117\u001b[0m \n\u001b[1;32m    118\u001b[0m \u001b[39m    @param storage_dir: The path to the base storage directory.\u001b[39;00m\n\u001b[1;32m    119\u001b[0m \u001b[39m    \"\"\"\u001b[39;00m\n\u001b[0;32m--> 120\u001b[0m     \u001b[39mself\u001b[39;49m\u001b[39m.\u001b[39;49m_do_load(storage_dir)\n\u001b[1;32m    121\u001b[0m     \u001b[39mreturn\u001b[39;00m \u001b[39msuper\u001b[39m()\u001b[39m.\u001b[39mload(storage_dir)\n",
      "File \u001b[0;32m~/src/aitomatic/ssm/openssm/integrations/llama_index/backend.py:64\u001b[0m, in \u001b[0;36mBackend._do_load\u001b[0;34m(self, storage_dir)\u001b[0m\n\u001b[1;32m     63\u001b[0m \u001b[39mdef\u001b[39;00m \u001b[39m_do_load\u001b[39m(\u001b[39mself\u001b[39m, storage_dir: \u001b[39mstr\u001b[39m):\n\u001b[0;32m---> 64\u001b[0m     storage_context \u001b[39m=\u001b[39m StorageContext\u001b[39m.\u001b[39;49mfrom_defaults(persist_dir\u001b[39m=\u001b[39;49m\u001b[39mself\u001b[39;49m\u001b[39m.\u001b[39;49m_get_index_dir(storage_dir))\n\u001b[1;32m     65\u001b[0m     \u001b[39mself\u001b[39m\u001b[39m.\u001b[39mindex \u001b[39m=\u001b[39m load_index_from_storage(storage_context)\n",
      "File \u001b[0;32m~/.pyenv/versions/3.10.12/lib/python3.10/site-packages/llama_index/storage/storage_context.py:75\u001b[0m, in \u001b[0;36mStorageContext.from_defaults\u001b[0;34m(cls, docstore, index_store, vector_store, graph_store, persist_dir, fs)\u001b[0m\n\u001b[1;32m     73\u001b[0m     graph_store \u001b[39m=\u001b[39m graph_store \u001b[39mor\u001b[39;00m SimpleGraphStore()\n\u001b[1;32m     74\u001b[0m \u001b[39melse\u001b[39;00m:\n\u001b[0;32m---> 75\u001b[0m     docstore \u001b[39m=\u001b[39m docstore \u001b[39mor\u001b[39;00m SimpleDocumentStore\u001b[39m.\u001b[39;49mfrom_persist_dir(\n\u001b[1;32m     76\u001b[0m         persist_dir, fs\u001b[39m=\u001b[39;49mfs\n\u001b[1;32m     77\u001b[0m     )\n\u001b[1;32m     78\u001b[0m     index_store \u001b[39m=\u001b[39m index_store \u001b[39mor\u001b[39;00m SimpleIndexStore\u001b[39m.\u001b[39mfrom_persist_dir(\n\u001b[1;32m     79\u001b[0m         persist_dir, fs\u001b[39m=\u001b[39mfs\n\u001b[1;32m     80\u001b[0m     )\n\u001b[1;32m     81\u001b[0m     vector_store \u001b[39m=\u001b[39m vector_store \u001b[39mor\u001b[39;00m SimpleVectorStore\u001b[39m.\u001b[39mfrom_persist_dir(\n\u001b[1;32m     82\u001b[0m         persist_dir, fs\u001b[39m=\u001b[39mfs\n\u001b[1;32m     83\u001b[0m     )\n",
      "File \u001b[0;32m~/.pyenv/versions/3.10.12/lib/python3.10/site-packages/llama_index/storage/docstore/simple_docstore.py:57\u001b[0m, in \u001b[0;36mSimpleDocumentStore.from_persist_dir\u001b[0;34m(cls, persist_dir, namespace, fs)\u001b[0m\n\u001b[1;32m     55\u001b[0m \u001b[39melse\u001b[39;00m:\n\u001b[1;32m     56\u001b[0m     persist_path \u001b[39m=\u001b[39m os\u001b[39m.\u001b[39mpath\u001b[39m.\u001b[39mjoin(persist_dir, DEFAULT_PERSIST_FNAME)\n\u001b[0;32m---> 57\u001b[0m \u001b[39mreturn\u001b[39;00m \u001b[39mcls\u001b[39;49m\u001b[39m.\u001b[39;49mfrom_persist_path(persist_path, namespace\u001b[39m=\u001b[39;49mnamespace, fs\u001b[39m=\u001b[39;49mfs)\n",
      "File \u001b[0;32m~/.pyenv/versions/3.10.12/lib/python3.10/site-packages/llama_index/storage/docstore/simple_docstore.py:75\u001b[0m, in \u001b[0;36mSimpleDocumentStore.from_persist_path\u001b[0;34m(cls, persist_path, namespace, fs)\u001b[0m\n\u001b[1;32m     59\u001b[0m \u001b[39m@classmethod\u001b[39m\n\u001b[1;32m     60\u001b[0m \u001b[39mdef\u001b[39;00m \u001b[39mfrom_persist_path\u001b[39m(\n\u001b[1;32m     61\u001b[0m     \u001b[39mcls\u001b[39m,\n\u001b[0;32m   (...)\u001b[0m\n\u001b[1;32m     64\u001b[0m     fs: Optional[fsspec\u001b[39m.\u001b[39mAbstractFileSystem] \u001b[39m=\u001b[39m \u001b[39mNone\u001b[39;00m,\n\u001b[1;32m     65\u001b[0m ) \u001b[39m-\u001b[39m\u001b[39m>\u001b[39m \u001b[39m\"\u001b[39m\u001b[39mSimpleDocumentStore\u001b[39m\u001b[39m\"\u001b[39m:\n\u001b[1;32m     66\u001b[0m \u001b[39m    \u001b[39m\u001b[39m\"\"\"Create a SimpleDocumentStore from a persist path.\u001b[39;00m\n\u001b[1;32m     67\u001b[0m \n\u001b[1;32m     68\u001b[0m \u001b[39m    Args:\u001b[39;00m\n\u001b[0;32m   (...)\u001b[0m\n\u001b[1;32m     72\u001b[0m \n\u001b[1;32m     73\u001b[0m \u001b[39m    \"\"\"\u001b[39;00m\n\u001b[0;32m---> 75\u001b[0m     simple_kvstore \u001b[39m=\u001b[39m SimpleKVStore\u001b[39m.\u001b[39;49mfrom_persist_path(persist_path, fs\u001b[39m=\u001b[39;49mfs)\n\u001b[1;32m     76\u001b[0m     \u001b[39mreturn\u001b[39;00m \u001b[39mcls\u001b[39m(simple_kvstore, namespace)\n",
      "File \u001b[0;32m~/.pyenv/versions/3.10.12/lib/python3.10/site-packages/llama_index/storage/kvstore/simple_kvstore.py:75\u001b[0m, in \u001b[0;36mSimpleKVStore.from_persist_path\u001b[0;34m(cls, persist_path, fs)\u001b[0m\n\u001b[1;32m     73\u001b[0m fs \u001b[39m=\u001b[39m fs \u001b[39mor\u001b[39;00m fsspec\u001b[39m.\u001b[39mfilesystem(\u001b[39m\"\u001b[39m\u001b[39mfile\u001b[39m\u001b[39m\"\u001b[39m)\n\u001b[1;32m     74\u001b[0m logger\u001b[39m.\u001b[39mdebug(\u001b[39mf\u001b[39m\u001b[39m\"\u001b[39m\u001b[39mLoading \u001b[39m\u001b[39m{\u001b[39;00m\u001b[39m__name__\u001b[39m\u001b[39m}\u001b[39;00m\u001b[39m from \u001b[39m\u001b[39m{\u001b[39;00mpersist_path\u001b[39m}\u001b[39;00m\u001b[39m.\u001b[39m\u001b[39m\"\u001b[39m)\n\u001b[0;32m---> 75\u001b[0m \u001b[39mwith\u001b[39;00m fs\u001b[39m.\u001b[39;49mopen(persist_path, \u001b[39m\"\u001b[39;49m\u001b[39mrb\u001b[39;49m\u001b[39m\"\u001b[39;49m) \u001b[39mas\u001b[39;00m f:\n\u001b[1;32m     76\u001b[0m     data \u001b[39m=\u001b[39m json\u001b[39m.\u001b[39mload(f)\n\u001b[1;32m     77\u001b[0m \u001b[39mreturn\u001b[39;00m \u001b[39mcls\u001b[39m(data)\n",
      "File \u001b[0;32m~/.pyenv/versions/3.10.12/lib/python3.10/site-packages/fsspec/spec.py:1241\u001b[0m, in \u001b[0;36mAbstractFileSystem.open\u001b[0;34m(self, path, mode, block_size, cache_options, compression, **kwargs)\u001b[0m\n\u001b[1;32m   1239\u001b[0m \u001b[39melse\u001b[39;00m:\n\u001b[1;32m   1240\u001b[0m     ac \u001b[39m=\u001b[39m kwargs\u001b[39m.\u001b[39mpop(\u001b[39m\"\u001b[39m\u001b[39mautocommit\u001b[39m\u001b[39m\"\u001b[39m, \u001b[39mnot\u001b[39;00m \u001b[39mself\u001b[39m\u001b[39m.\u001b[39m_intrans)\n\u001b[0;32m-> 1241\u001b[0m     f \u001b[39m=\u001b[39m \u001b[39mself\u001b[39;49m\u001b[39m.\u001b[39;49m_open(\n\u001b[1;32m   1242\u001b[0m         path,\n\u001b[1;32m   1243\u001b[0m         mode\u001b[39m=\u001b[39;49mmode,\n\u001b[1;32m   1244\u001b[0m         block_size\u001b[39m=\u001b[39;49mblock_size,\n\u001b[1;32m   1245\u001b[0m         autocommit\u001b[39m=\u001b[39;49mac,\n\u001b[1;32m   1246\u001b[0m         cache_options\u001b[39m=\u001b[39;49mcache_options,\n\u001b[1;32m   1247\u001b[0m         \u001b[39m*\u001b[39;49m\u001b[39m*\u001b[39;49mkwargs,\n\u001b[1;32m   1248\u001b[0m     )\n\u001b[1;32m   1249\u001b[0m     \u001b[39mif\u001b[39;00m compression \u001b[39mis\u001b[39;00m \u001b[39mnot\u001b[39;00m \u001b[39mNone\u001b[39;00m:\n\u001b[1;32m   1250\u001b[0m         \u001b[39mfrom\u001b[39;00m \u001b[39mfsspec\u001b[39;00m\u001b[39m.\u001b[39;00m\u001b[39mcompression\u001b[39;00m \u001b[39mimport\u001b[39;00m compr\n",
      "File \u001b[0;32m~/.pyenv/versions/3.10.12/lib/python3.10/site-packages/fsspec/implementations/local.py:184\u001b[0m, in \u001b[0;36mLocalFileSystem._open\u001b[0;34m(self, path, mode, block_size, **kwargs)\u001b[0m\n\u001b[1;32m    182\u001b[0m \u001b[39mif\u001b[39;00m \u001b[39mself\u001b[39m\u001b[39m.\u001b[39mauto_mkdir \u001b[39mand\u001b[39;00m \u001b[39m\"\u001b[39m\u001b[39mw\u001b[39m\u001b[39m\"\u001b[39m \u001b[39min\u001b[39;00m mode:\n\u001b[1;32m    183\u001b[0m     \u001b[39mself\u001b[39m\u001b[39m.\u001b[39mmakedirs(\u001b[39mself\u001b[39m\u001b[39m.\u001b[39m_parent(path), exist_ok\u001b[39m=\u001b[39m\u001b[39mTrue\u001b[39;00m)\n\u001b[0;32m--> 184\u001b[0m \u001b[39mreturn\u001b[39;00m LocalFileOpener(path, mode, fs\u001b[39m=\u001b[39;49m\u001b[39mself\u001b[39;49m, \u001b[39m*\u001b[39;49m\u001b[39m*\u001b[39;49mkwargs)\n",
      "File \u001b[0;32m~/.pyenv/versions/3.10.12/lib/python3.10/site-packages/fsspec/implementations/local.py:315\u001b[0m, in \u001b[0;36mLocalFileOpener.__init__\u001b[0;34m(self, path, mode, autocommit, fs, compression, **kwargs)\u001b[0m\n\u001b[1;32m    313\u001b[0m \u001b[39mself\u001b[39m\u001b[39m.\u001b[39mcompression \u001b[39m=\u001b[39m get_compression(path, compression)\n\u001b[1;32m    314\u001b[0m \u001b[39mself\u001b[39m\u001b[39m.\u001b[39mblocksize \u001b[39m=\u001b[39m io\u001b[39m.\u001b[39mDEFAULT_BUFFER_SIZE\n\u001b[0;32m--> 315\u001b[0m \u001b[39mself\u001b[39;49m\u001b[39m.\u001b[39;49m_open()\n",
      "File \u001b[0;32m~/.pyenv/versions/3.10.12/lib/python3.10/site-packages/fsspec/implementations/local.py:320\u001b[0m, in \u001b[0;36mLocalFileOpener._open\u001b[0;34m(self)\u001b[0m\n\u001b[1;32m    318\u001b[0m \u001b[39mif\u001b[39;00m \u001b[39mself\u001b[39m\u001b[39m.\u001b[39mf \u001b[39mis\u001b[39;00m \u001b[39mNone\u001b[39;00m \u001b[39mor\u001b[39;00m \u001b[39mself\u001b[39m\u001b[39m.\u001b[39mf\u001b[39m.\u001b[39mclosed:\n\u001b[1;32m    319\u001b[0m     \u001b[39mif\u001b[39;00m \u001b[39mself\u001b[39m\u001b[39m.\u001b[39mautocommit \u001b[39mor\u001b[39;00m \u001b[39m\"\u001b[39m\u001b[39mw\u001b[39m\u001b[39m\"\u001b[39m \u001b[39mnot\u001b[39;00m \u001b[39min\u001b[39;00m \u001b[39mself\u001b[39m\u001b[39m.\u001b[39mmode:\n\u001b[0;32m--> 320\u001b[0m         \u001b[39mself\u001b[39m\u001b[39m.\u001b[39mf \u001b[39m=\u001b[39m \u001b[39mopen\u001b[39;49m(\u001b[39mself\u001b[39;49m\u001b[39m.\u001b[39;49mpath, mode\u001b[39m=\u001b[39;49m\u001b[39mself\u001b[39;49m\u001b[39m.\u001b[39;49mmode)\n\u001b[1;32m    321\u001b[0m         \u001b[39mif\u001b[39;00m \u001b[39mself\u001b[39m\u001b[39m.\u001b[39mcompression:\n\u001b[1;32m    322\u001b[0m             compress \u001b[39m=\u001b[39m compr[\u001b[39mself\u001b[39m\u001b[39m.\u001b[39mcompression]\n",
      "\u001b[0;31mFileNotFoundError\u001b[0m: [Errno 2] No such file or directory: '/Users/ctn/src/aitomatic/ssm/examples/integrations/.openssm/ylecun/.indexes/.indexes/docstore.json'"
     ]
    }
   ],
   "source": [
    "ssm.read_gdrive(\"1KQBtnpILq8SMZgTR2j6AimceZN-XnydL\", use_existing_index=True)"
   ]
  },
  {
   "cell_type": "code",
   "execution_count": null,
   "metadata": {},
   "outputs": [],
   "source": []
  },
  {
   "cell_type": "code",
   "execution_count": null,
   "metadata": {},
   "outputs": [],
   "source": []
  },
  {
   "cell_type": "code",
   "execution_count": null,
   "metadata": {},
   "outputs": [],
   "source": []
  },
  {
   "cell_type": "code",
   "execution_count": 4,
   "metadata": {},
   "outputs": [
    {
     "name": "stderr",
     "output_type": "stream",
     "text": [
      "08/03/2023 10:30:01 AM [DEBUG]: openssm.utils.canonicalize_user_input (in utils.py line 22) start: user_input: Who is Yann?\n",
      "08/03/2023 10:30:01 AM [DEBUG]: openssm.utils.canonicalize_user_input (in utils.py line 48) end: user_input: [{'role': 'user', 'content': 'Who is Yann?'}]\n",
      "08/03/2023 10:30:01 AM [DEBUG]: openssm.utils.canonicalize_user_input (in utils.py line 22) start: user_input: [{'role': 'user', 'content': 'Who is Yann?'}]\n",
      "08/03/2023 10:30:01 AM [DEBUG]: openssm.utils.canonicalize_user_input (in utils.py line 48) end: user_input: [{'role': 'user', 'content': 'Who is Yann?'}]\n",
      "08/03/2023 10:30:03 AM [DEBUG]: openssm.utils.canonicalize_query_response (in utils.py line 58) start: response: [{'response': '\\nYann LeCun is a researcher at the Courant Institute of Mathematical Sciences at New York University. He is also affiliated with Meta - Fundamental AI Research.'}]\n",
      "08/03/2023 10:30:03 AM [DEBUG]: openssm.utils.canonicalize_query_response (in utils.py line 91) start: response: [{'role': 'assistant', 'content': 'Yann LeCun is a researcher at the Courant Institute of Mathematical Sciences at New York University. He is also affiliated with Meta - Fundamental AI Research.'}]\n",
      "08/03/2023 10:30:03 AM [DEBUG]: openssm.utils.canonicalize_query_response (in utils.py line 58) start: response: [{'role': 'assistant', 'content': 'Yann LeCun is a researcher at the Courant Institute of Mathematical Sciences at New York University. He is also affiliated with Meta - Fundamental AI Research.'}]\n",
      "08/03/2023 10:30:03 AM [DEBUG]: openssm.utils.canonicalize_query_response (in utils.py line 91) start: response: [{'role': 'assistant', 'content': 'Yann LeCun is a researcher at the Courant Institute of Mathematical Sciences at New York University. He is also affiliated with Meta - Fundamental AI Research.'}]\n"
     ]
    },
    {
     "data": {
      "text/plain": [
       "[{'role': 'assistant',\n",
       "  'content': 'Yann LeCun is a researcher at the Courant Institute of Mathematical Sciences at New York University. He is also affiliated with Meta - Fundamental AI Research.'}]"
      ]
     },
     "execution_count": 4,
     "metadata": {},
     "output_type": "execute_result"
    }
   ],
   "source": [
    "ssm.discuss(\"Who is Yann?\")"
   ]
  },
  {
   "cell_type": "code",
   "execution_count": 6,
   "metadata": {},
   "outputs": [
    {
     "name": "stdout",
     "output_type": "stream",
     "text": [
      "True\n"
     ]
    }
   ],
   "source": [
    "index_dir = \".openssm/ylecun/.indexes/\"\n",
    "import os\n",
    "print(os.path.isdir(index_dir) and len(os.listdir(index_dir)) != 0)\n"
   ]
  },
  {
   "cell_type": "code",
   "execution_count": null,
   "metadata": {},
   "outputs": [],
   "source": []
  },
  {
   "cell_type": "code",
   "execution_count": null,
   "metadata": {},
   "outputs": [],
   "source": []
  },
  {
   "cell_type": "code",
   "execution_count": null,
   "metadata": {},
   "outputs": [],
   "source": [
    "ssm.discuss(\"Who are Yann and Christopher?\")"
   ]
  },
  {
   "cell_type": "code",
   "execution_count": null,
   "metadata": {},
   "outputs": [],
   "source": [
    "ssm.discuss(\"What are the main points of agreement between the two articles?\")"
   ]
  },
  {
   "cell_type": "code",
   "execution_count": null,
   "metadata": {},
   "outputs": [],
   "source": [
    "ssm.discuss(\"What are the main points of agreement between Yann and Christopher?\")"
   ]
  },
  {
   "cell_type": "code",
   "execution_count": null,
   "metadata": {},
   "outputs": [],
   "source": [
    "ssm.discuss(\"Where do Yann and Christopher differ?\")"
   ]
  },
  {
   "cell_type": "code",
   "execution_count": null,
   "metadata": {},
   "outputs": [],
   "source": [
    "ssm.discuss(\"Which of the two papers is likely to be implemented in the near future?\")"
   ]
  },
  {
   "cell_type": "code",
   "execution_count": null,
   "metadata": {},
   "outputs": [],
   "source": [
    "ssm.discuss(\"What is the likely ethnicity of Yann from his last name? Best guess.\")"
   ]
  },
  {
   "cell_type": "code",
   "execution_count": null,
   "metadata": {},
   "outputs": [],
   "source": [
    "ssm.save()"
   ]
  },
  {
   "cell_type": "code",
   "execution_count": null,
   "metadata": {},
   "outputs": [],
   "source": []
  },
  {
   "cell_type": "code",
   "execution_count": null,
   "metadata": {},
   "outputs": [],
   "source": []
  },
  {
   "cell_type": "code",
   "execution_count": null,
   "metadata": {},
   "outputs": [],
   "source": []
  },
  {
   "cell_type": "code",
   "execution_count": null,
   "metadata": {},
   "outputs": [],
   "source": []
  },
  {
   "cell_type": "code",
   "execution_count": null,
   "metadata": {},
   "outputs": [],
   "source": []
  },
  {
   "cell_type": "code",
   "execution_count": null,
   "metadata": {},
   "outputs": [],
   "source": []
  },
  {
   "cell_type": "code",
   "execution_count": null,
   "metadata": {},
   "outputs": [],
   "source": []
  },
  {
   "cell_type": "code",
   "execution_count": null,
   "metadata": {},
   "outputs": [],
   "source": []
  },
  {
   "cell_type": "code",
   "execution_count": null,
   "metadata": {},
   "outputs": [],
   "source": []
  },
  {
   "cell_type": "code",
   "execution_count": null,
   "metadata": {},
   "outputs": [],
   "source": [
    "ssm.read_gdrive(\"1KQBtnpILq8SMZgTR2j6AimceZN-XnydL\", use_existing_index=True, project_name=\"ylecun\")"
   ]
  }
 ],
 "metadata": {
  "kernelspec": {
   "display_name": "Python 3",
   "language": "python",
   "name": "python3"
  },
  "language_info": {
   "codemirror_mode": {
    "name": "ipython",
    "version": 3
   },
   "file_extension": ".py",
   "mimetype": "text/x-python",
   "name": "python",
   "nbconvert_exporter": "python",
   "pygments_lexer": "ipython3",
   "version": "3.10.12"
  },
  "orig_nbformat": 4
 },
 "nbformat": 4,
 "nbformat_minor": 2
}
