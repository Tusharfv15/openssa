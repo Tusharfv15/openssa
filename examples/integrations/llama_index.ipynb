{
 "cells": [
  {
   "cell_type": "markdown",
   "metadata": {},
   "source": [
    "\n",
    "# LlamaIndex Integration Demo"
   ]
  },
  {
   "cell_type": "code",
   "execution_count": 1,
   "metadata": {},
   "outputs": [
    {
     "name": "stderr",
     "output_type": "stream",
     "text": [
      "07/29/2023 02:46:20 AM [INFO]: __main__.699846355.<module> (in 699846355.py line 9) Logging is configured. Working directory: /Users/ctn/src/aitomatic/ssm/examples/integrations\n"
     ]
    }
   ],
   "source": [
    "# Import OpenSSM package \"live\" from the source code\n",
    "import sys\n",
    "from pathlib import Path\n",
    "sys.path.insert(0, str(Path('../../').resolve()))\n",
    "\n",
    "import logging\n",
    "from openssm import Logs\n",
    "logger = Logs.get_logger(name=__name__, log_level=logging.DEBUG)\n",
    "logger.info(\"Logging is configured. Working directory: %s\", Path.cwd())"
   ]
  },
  {
   "cell_type": "code",
   "execution_count": 11,
   "metadata": {},
   "outputs": [],
   "source": [
    "from openssm import LlamaIndexSSM\n",
    "ssm = LlamaIndexSSM()\n",
    "ssm.read_directory('../../docs/eos')"
   ]
  },
  {
   "cell_type": "code",
   "execution_count": 17,
   "metadata": {},
   "outputs": [
    {
     "data": {
      "text/plain": [
       "[{'role': 'assistant',\n",
       "  'content': '\\nThe machines are the EOS M 400-4 and the M290.'}]"
      ]
     },
     "execution_count": 17,
     "metadata": {},
     "output_type": "execute_result"
    }
   ],
   "source": [
    "ssm.discuss(\"What are the machines?\")"
   ]
  },
  {
   "cell_type": "code",
   "execution_count": 18,
   "metadata": {},
   "outputs": [
    {
     "data": {
      "text/plain": [
       "[{'role': 'assistant',\n",
       "  'content': '\\nThe key differences between the two machines are the controls and indications on the monitor. The first machine has a touch-sensitive monitor with all the indications and buttons necessary for operation, while the second machine has buttons that are activated by touching the monitor, as well as status boxes and selector switches. Additionally, the second machine has a field that can be touched to open a data entry window with a keyboard.'}]"
      ]
     },
     "execution_count": 18,
     "metadata": {},
     "output_type": "execute_result"
    }
   ],
   "source": [
    "ssm.discuss(\"What are the key differences between the two machines?\")"
   ]
  },
  {
   "cell_type": "code",
   "execution_count": 19,
   "metadata": {},
   "outputs": [
    {
     "data": {
      "text/plain": [
       "[{'role': 'assistant',\n",
       "  'content': '\\nThe M400-4 has a higher nominal power of 4 x 400 W compared to the M290, which has a nominal power of 4 x 290 W. Additionally, the M400-4 has a higher exposure speed of 4 x ≤ 7000 mm/s compared to the M290, which has an exposure speed of 4 x ≤ 5000 mm/s. The M400-4 also has a higher repeatability, scanner position of < 11 μrad compared to the M290, which has a repeatability, scanner position of < 20 μrad. Finally, the M400-4 has a lower temperature dependent offset drift of < 20 μrad/K compared to the M290, which has a temperature dependent offset drift of < 30 μrad/K.'}]"
      ]
     },
     "execution_count": 19,
     "metadata": {},
     "output_type": "execute_result"
    }
   ],
   "source": [
    "ssm.discuss(\"Why should I use M400 over M290?\")"
   ]
  },
  {
   "cell_type": "code",
   "execution_count": 20,
   "metadata": {},
   "outputs": [
    {
     "data": {
      "text/plain": [
       "[{'role': 'assistant',\n",
       "  'content': '\\nThe M290 should be chosen over the M400 when a smaller building volume is needed (250 x 250 x 325 mm) and when a faster recoating speed is desired (40 - 500 mm/s). Additionally, the M290 has a lower nominal power (400 W) and a lower power in the building area (370 W) than the M400.'}]"
      ]
     },
     "execution_count": 20,
     "metadata": {},
     "output_type": "execute_result"
    }
   ],
   "source": [
    "ssm.discuss(\"In the most business-friendly terms, when should I choose the M290 over the M400?\")"
   ]
  },
  {
   "cell_type": "code",
   "execution_count": null,
   "metadata": {},
   "outputs": [],
   "source": []
  }
 ],
 "metadata": {
  "kernelspec": {
   "display_name": "Python 3",
   "language": "python",
   "name": "python3"
  },
  "language_info": {
   "codemirror_mode": {
    "name": "ipython",
    "version": 3
   },
   "file_extension": ".py",
   "mimetype": "text/x-python",
   "name": "python",
   "nbconvert_exporter": "python",
   "pygments_lexer": "ipython3",
   "version": "3.10.12"
  },
  "orig_nbformat": 4
 },
 "nbformat": 4,
 "nbformat_minor": 2
}
