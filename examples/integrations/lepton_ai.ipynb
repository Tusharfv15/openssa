{
 "cells": [
  {
   "cell_type": "markdown",
   "metadata": {},
   "source": [
    "# Lepton.AI Integration\n",
    "\n",
    "This notebook demonstrates how to use the Lepton.AI integration."
   ]
  },
  {
   "cell_type": "code",
   "execution_count": 1,
   "metadata": {},
   "outputs": [],
   "source": [
    "# Import OpenSSM package \"live\" from the source code\n",
    "import sys\n",
    "from pathlib import Path\n",
    "sys.path.insert(0, str(Path('../../').resolve()))\n",
    "\n",
    "# Configure logging for some informative output\n",
    "# from openssm import Logs, logger\n",
    "# logger.setLevel(logger.WARNING)"
   ]
  },
  {
   "cell_type": "code",
   "execution_count": 2,
   "metadata": {},
   "outputs": [],
   "source": [
    "from openssm.integrations.lepton_ai.ssm import ChatCompletionSSM\n",
    "ssm = ChatCompletionSSM()"
   ]
  },
  {
   "cell_type": "code",
   "execution_count": 3,
   "metadata": {},
   "outputs": [
    {
     "data": {
      "text/plain": [
       "[<OpenAIObject at 0x1406c6d40> JSON: {\n",
       "   \"role\": \"assistant\",\n",
       "   \"content\": \"You can ask me any question related to EOS and their products. I can provide you with detailed information and assistance regarding the subject. Please feel free to ask.\"\n",
       " }]"
      ]
     },
     "execution_count": 3,
     "metadata": {},
     "output_type": "execute_result"
    }
   ],
   "source": [
    "ssm.discuss(\"What can I ask you?\")"
   ]
  },
  {
   "cell_type": "code",
   "execution_count": 4,
   "metadata": {},
   "outputs": [
    {
     "data": {
      "text/plain": [
       "[<OpenAIObject at 0x1406c7e20> JSON: {\n",
       "   \"role\": \"assistant\",\n",
       "   \"content\": \"EOS produces approximately 20 models of 3D printers for industrial use. These models vary in terms of size, functionality, and price. You can find more information about the different models on the EOS website.\"\n",
       " }]"
      ]
     },
     "execution_count": 4,
     "metadata": {},
     "output_type": "execute_result"
    }
   ],
   "source": [
    "ssm.discuss(\"How many models are there?\")"
   ]
  },
  {
   "cell_type": "code",
   "execution_count": 5,
   "metadata": {},
   "outputs": [
    {
     "data": {
      "text/plain": [
       "[<OpenAIObject at 0x1406e5e90> JSON: {\n",
       "   \"role\": \"assistant\",\n",
       "   \"content\": \"M290 and M400-4 are two different models of 3D printers produced by EOS. M290 is a laser-sintering system designed for industrial use, while M400-4 is a laser-sintering system designed for both industrial and commercial use. The main difference between the two models is the size of the system and the type of powder used. M290 is designed for small-scale production, while M400-4 is designed for larger-scale production.\"\n",
       " }]"
      ]
     },
     "execution_count": 5,
     "metadata": {},
     "output_type": "execute_result"
    }
   ],
   "source": [
    "ssm.discuss(\"What’s the difference between M290 and M400-4?\")"
   ]
  },
  {
   "cell_type": "code",
   "execution_count": 6,
   "metadata": {},
   "outputs": [
    {
     "data": {
      "text/plain": [
       "[<OpenAIObject at 0x1406e56c0> JSON: {\n",
       "   \"role\": \"assistant\",\n",
       "   \"content\": \"The possible cause of curling open layers on parts is that the recoater remains stuck over the surface of the bed of powder during powder application or collides with parts.\"\n",
       " }]"
      ]
     },
     "execution_count": 6,
     "metadata": {},
     "output_type": "execute_result"
    }
   ],
   "source": [
    "ssm.discuss(\"My M290 print has curling open layers. What might be the cause?\")"
   ]
  },
  {
   "cell_type": "code",
   "execution_count": null,
   "metadata": {},
   "outputs": [],
   "source": []
  }
 ],
 "metadata": {
  "kernelspec": {
   "display_name": "Python 3",
   "language": "python",
   "name": "python3"
  },
  "language_info": {
   "codemirror_mode": {
    "name": "ipython",
    "version": 3
   },
   "file_extension": ".py",
   "mimetype": "text/x-python",
   "name": "python",
   "nbconvert_exporter": "python",
   "pygments_lexer": "ipython3",
   "version": "3.10.12"
  },
  "orig_nbformat": 4
 },
 "nbformat": 4,
 "nbformat_minor": 2
}
