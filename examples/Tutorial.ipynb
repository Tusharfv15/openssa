{
 "cells": [
  {
   "cell_type": "markdown",
   "metadata": {},
   "source": [
    "# Build an AI Agent with SEC Filing Insights in Just 10 Minutes Using OpenSSA\n",
    "--------------"
   ]
  },
  {
   "cell_type": "markdown",
   "metadata": {},
   "source": [
    "### In this tutorial, you will learn how to:\n",
    "\n",
    "1. Build an AI Agent from scratch with Hierachichy Task Planing (HTP) using openSSA\n",
    "2. Improve agent's performance by:\n",
    "    - Incorporating external knowledge source\n",
    "    - Providing customized plan from the expert\n",
    "    - Enabling dynamic solving capability\n",
    "\n",
    "### By the end of this tutorial, you will understand:\n",
    "- What is HTP and how it works?\n",
    "- How to customize OpenSSA components to solve your complex problem?"
   ]
  },
  {
   "cell_type": "markdown",
   "metadata": {},
   "source": [
    "## Setups"
   ]
  },
  {
   "cell_type": "markdown",
   "metadata": {},
   "source": [
    "Let's start by impporting the neccessary dependencies."
   ]
  },
  {
   "cell_type": "code",
   "execution_count": 64,
   "metadata": {},
   "outputs": [
    {
     "name": "stdout",
     "output_type": "stream",
     "text": [
      "The autoreload extension is already loaded. To reload it, use:\n",
      "  %reload_ext autoreload\n"
     ]
    }
   ],
   "source": [
    "%load_ext autoreload\n",
    "%autoreload"
   ]
  },
  {
   "cell_type": "code",
   "execution_count": 63,
   "metadata": {},
   "outputs": [],
   "source": [
    "from pathlib import Path\n",
    "from pprint import pprint\n",
    "import os\n",
    "import sys\n",
    "\n",
    "from IPython.display import display, Markdown\n",
    "from dotenv import load_dotenv\n",
    "import yaml\n",
    "\n",
    "from openssa import Agent, HTP, AutoHTPlanner, OodaReasoner, FileResource\n",
    "from openssa.utils.llms import OpenAILLM\n",
    "from openssa.l2.task import Task"
   ]
  },
  {
   "cell_type": "markdown",
   "metadata": {},
   "source": [
    "Make sure you plave your OpenAI API key in `example/.env`\n",
    "\n",
    "```\n",
    "OPENAI_API_KEY=...\n",
    "```\n",
    "\n",
    "[Where do I find my OpenAI API Key?](https://help.openai.com/en/articles/4936850-where-do-i-find-my-openai-api-key)"
   ]
  },
  {
   "cell_type": "code",
   "execution_count": 65,
   "metadata": {},
   "outputs": [],
   "source": [
    "# make sure we're in the right folder\n",
    "if cwd_is_root := ('examples' in os.listdir()):\n",
    "    sys.path.append('examples')"
   ]
  },
  {
   "cell_type": "code",
   "execution_count": 66,
   "metadata": {},
   "outputs": [
    {
     "name": "stdout",
     "output_type": "stream",
     "text": [
      "Sanity check if we have the OpenAI API setup:  True\n"
     ]
    }
   ],
   "source": [
    "print('Sanity check if we have the OpenAI API setup: ', load_dotenv(dotenv_path=Path('examples' if cwd_is_root else '.') / '.env'))"
   ]
  },
  {
   "cell_type": "code",
   "execution_count": 41,
   "metadata": {},
   "outputs": [],
   "source": [
    "# util function to summarize answer\n",
    "def summarize_ans(ans, max_tokens=100):\n",
    "    llm=OpenAILLM()\n",
    "    response = llm.call(\n",
    "        messages=[\n",
    "            {\"role\": \"system\", \"content\": \"You are a helpful assistant.\"},\n",
    "            {\"role\": \"user\", \"content\": \"Please summarize the following text into 1-2 sentences: \" + ans}\n",
    "        ],\n",
    "        max_tokens=max_tokens,\n",
    "        temperature=0.7\n",
    "    )\n",
    "    summary = response.choices[0].message.content\n",
    "    return summary"
   ]
  },
  {
   "cell_type": "code",
   "execution_count": 120,
   "metadata": {},
   "outputs": [],
   "source": [
    "# util function to print results\n",
    "import textwrap\n",
    "\n",
    "def namestr(obj, namespace):\n",
    "    return [name for name in namespace if namespace[name] is obj]\n",
    "\n",
    "def print_solution(sol, present_full_answer=False):\n",
    "    agent_name = namestr(sol, globals())[0].upper().replace('_', ' ')\n",
    "    # print(agent_name)\n",
    "    print('PROBLEM: ')\n",
    "    print('='*80)\n",
    "    print(PROBLEM, '\\n')\n",
    "    if GROUND_TRUTH_ANSWER:\n",
    "        print('GROUND TRUTH ANSWER: ')\n",
    "        print('='*80)\n",
    "        print(GROUND_TRUTH_ANSWER, '\\n')\n",
    "    if present_full_answer:\n",
    "        print(f'{agent_name} FULL:')\n",
    "        print('='*80)\n",
    "        print(textwrap.fill(sol, 80))\n",
    "    else:\n",
    "        print(f'{agent_name} SUMMARIZED:')\n",
    "        print('='*80)\n",
    "        print(textwrap.fill(summarize_ans(sol), 80))"
   ]
  },
  {
   "cell_type": "markdown",
   "metadata": {},
   "source": [
    "### Data preparation"
   ]
  },
  {
   "cell_type": "markdown",
   "metadata": {},
   "source": [
    "We're going to use the FinanceBench dataset to demonstrate. FinanceBench is a dataset to benchmark question answering capability in financial domain.\n",
    "\n",
    "We have loaded a sample SEC filing for 3M from 2022. \n",
    "https://github.com/patronus-ai/financebench/blob/main/pdfs/3M_2022_10K.pdf\n",
    "\n",
    "- Let's look at a sample question: \n",
    "\n",
    "`Is 3M a capital-intensive business based on FY2022 data`\n",
    "\n",
    "- The expected answer for this question is:\n",
    "\n",
    "`No, the company is managing its CAPEX and Fixed Assets pretty efficiently,\n",
    "    which is evident from below key metrics:\n",
    "    CAPEX/Revenue Ratio: 5.1%\n",
    "    Fixed assets/Total Assets: 20%\n",
    "    Return on Assets= 12.4%`"
   ]
  },
  {
   "cell_type": "code",
   "execution_count": 40,
   "metadata": {},
   "outputs": [],
   "source": [
    "DOC_PATH = 'sample_data/3M_2022_10K/'\n",
    "PROBLEM = 'Is 3M a capital-intensive business based on FY2022 data?'\n",
    "GROUND_TRUTH_ANSWER ='''\n",
    "    No, the company is managing its CAPEX and Fixed Assets pretty efficiently,\n",
    "    which is evident from below key metrics:\n",
    "    CAPEX/Revenue Ratio: 5.1%\n",
    "    Fixed assets/Total Assets: 20%\n",
    "    Return on Assets= 12.4%'''"
   ]
  },
  {
   "cell_type": "markdown",
   "metadata": {},
   "source": [
    "Now, we'll build an agent from scracth using [OpenSSA](https://www.openssa.org/)."
   ]
  },
  {
   "cell_type": "markdown",
   "metadata": {},
   "source": [
    "## Build an AI Agent from Scratch Using OpenSSA\n",
    "------------"
   ]
  },
  {
   "cell_type": "markdown",
   "metadata": {},
   "source": [
    "### Base Agent"
   ]
  },
  {
   "cell_type": "markdown",
   "metadata": {},
   "source": [
    "Let's build our first agent with all default settings. \n",
    "\n",
    "<img src=\"./FinanceBench/diagrams/base-agent.png\" height=\"100\" />"
   ]
  },
  {
   "cell_type": "markdown",
   "metadata": {},
   "source": [
    "To build an agent, the first and most basic resource we need is a document. We will learn how to enable hierarchical task planning (HTP) capability and how to customize it's component later. Let's first build a `Base Agent`` with only the document we've prepared in the previous block and see how well it can solve the question. "
   ]
  },
  {
   "cell_type": "code",
   "execution_count": 73,
   "metadata": {},
   "outputs": [],
   "source": [
    "# Build a base agent\n",
    "base_agent = Agent(planner=None,\n",
    "                   reasoner=OodaReasoner(),\n",
    "                   knowledge=None,\n",
    "                   resources={FileResource(path=DOC_PATH)})\n",
    "\n",
    "base_agent_answer = base_agent.solve(problem=PROBLEM,\n",
    "                                       plan=None,\n",
    "                                       dynamic=False)"
   ]
  },
  {
   "cell_type": "code",
   "execution_count": 121,
   "metadata": {},
   "outputs": [
    {
     "name": "stdout",
     "output_type": "stream",
     "text": [
      "PROBLEM: \n",
      "================================================================================\n",
      "Is 3M a capital-intensive business based on FY2022 data? \n",
      "\n",
      "GROUND TRUTH ANSWER: \n",
      "================================================================================\n",
      "\n",
      "    No, the company is managing its CAPEX and Fixed Assets pretty efficiently,\n",
      "    which is evident from below key metrics:\n",
      "    CAPEX/Revenue Ratio: 5.1%\n",
      "    Fixed assets/Total Assets: 20%\n",
      "    Return on Assets= 12.4% \n",
      "\n",
      "BASE AGENT ANSWER SUMMARIZED:\n",
      "================================================================================\n",
      "3M's financial statements for FY2022 show significant capital investments in\n",
      "property, plant, and equipment (PP&E), with capital expenditures amounting to\n",
      "$1,831 million and total assets reported at $46,455 million. The company's focus\n",
      "on growth, productivity, and sustainability is reflected in its projected\n",
      "capital spending of $1.5 billion to $1.8 billion for 2023, demonstrating a\n",
      "commitment to supporting business activities and driving future growth through\n",
      "capital investments and strategic resource management practices\n"
     ]
    }
   ],
   "source": [
    "print_solution(base_agent_answer)"
   ]
  },
  {
   "cell_type": "markdown",
   "metadata": {},
   "source": [
    "In this example, we can see the default answer is not that good. 3M is not a capital intensive business but the agent failed to answer the question correctly."
   ]
  },
  {
   "cell_type": "markdown",
   "metadata": {},
   "source": [
    "## How to Add External Knowledge to the Agent"
   ]
  },
  {
   "cell_type": "markdown",
   "metadata": {},
   "source": [
    "Let's incorporate external knowledge to the base agent. We've prepared a sample expert knowledge in `sample-data/expert-knowledge.txt` file, you can load your own knowledge by replacing the sample file with yours.\n",
    "\n",
    "<img src=\"./FinanceBench/diagrams/agent-with-knowledge.png\" height=\"100\" />"
   ]
  },
  {
   "cell_type": "code",
   "execution_count": 96,
   "metadata": {},
   "outputs": [],
   "source": [
    "with open(file='sample_data/expert-knowledge.txt',\n",
    "          buffering=-1,\n",
    "          encoding='utf-8',\n",
    "          errors='strict',\n",
    "          newline=None,\n",
    "          closefd=True,\n",
    "          opener=None) as f:\n",
    "    EXPERT_KNOWLEDGE: str = f.read()\n",
    "\n",
    "EXPERT_KNOWLEDGE_SET = set(EXPERT_KNOWLEDGE.split('\\n\\n'))"
   ]
  },
  {
   "cell_type": "markdown",
   "metadata": {},
   "source": [
    "In the added knowledge, we've specified \n",
    "\n",
    "```\n",
    "Capital-Intensiveness / Return-on-Capital Metric Formulas\n",
    "---------------------------------------------------------\n",
    "\n",
    "`Capital Intensity Ratio` = `Total Assets` / `(Total) (Net) (Operating) Revenue(s), a.k.a. (Total) (Net) Sales`\n",
    "\n",
    "`Return on (Total) Assets, a.k.a. RoA or RoTA` = (\n",
    "  `Net Income, a.k.a. Net Profit, or Net Earnings (or Loss(es)) (Attributable to Shareholders)` /\n",
    "  `average Total Assets, typically between two consecutive fiscal year-ends`\n",
    ")\n",
    "```"
   ]
  },
  {
   "cell_type": "markdown",
   "metadata": {},
   "source": [
    "Let's add the knowledge set to our base agent."
   ]
  },
  {
   "cell_type": "code",
   "execution_count": 97,
   "metadata": {},
   "outputs": [],
   "source": [
    "agent_with_knowledge = Agent(planner=None,\n",
    "                             reasoner=OodaReasoner(),\n",
    "                             knowledge=EXPERT_KNOWLEDGE_SET,\n",
    "                             resources={FileResource(path=DOC_PATH)})\n",
    "\n",
    "agent_with_knowledge_solution = agent_with_knowledge.solve(problem=PROBLEM,\n",
    "                                                           plan=None,\n",
    "                                                           dynamic=False)"
   ]
  },
  {
   "cell_type": "code",
   "execution_count": 109,
   "metadata": {},
   "outputs": [
    {
     "name": "stdout",
     "output_type": "stream",
     "text": [
      "PROBLEM: \n",
      "================================================================================\n",
      "Is 3M a capital-intensive business based on FY2022 data? \n",
      "\n",
      "GROUND TRUTH ANSWER: \n",
      "================================================================================\n",
      "\n",
      "    No, the company is managing its CAPEX and Fixed Assets pretty efficiently,\n",
      "    which is evident from below key metrics:\n",
      "    CAPEX/Revenue Ratio: 5.1%\n",
      "    Fixed assets/Total Assets: 20%\n",
      "    Return on Assets= 12.4% \n",
      "\n",
      "AGENT WITH KNOWLEDGE SOLUTION SUMMARIZED:\n",
      "================================================================================\n",
      "Based on the substantial capital expenditures, large asset base, and planned\n",
      "future investments in operational infrastructure and capacity enhancement, it is\n",
      "reasonable to classify 3M as a capital-intensive business for FY2022.\n"
     ]
    }
   ],
   "source": [
    "print_solution(agent_with_knowledge_solution)"
   ]
  },
  {
   "cell_type": "markdown",
   "metadata": {},
   "source": [
    "Although the final answer is still incorrect, we can see the reasoning behind is getting better when using external resource - the agent can now recognize `assets`` need to be taken into account when looking at capital intensiveness questions."
   ]
  },
  {
   "cell_type": "markdown",
   "metadata": {},
   "source": [
    "## Get started with HTP by Adding Auto-Plan on top of Knowledge"
   ]
  },
  {
   "cell_type": "markdown",
   "metadata": {},
   "source": [
    "We can see the agent is improved with added knowledge. Let's enhance it with OpenSSA's HTP feature: `AutoHTPlanner`.\n",
    "\n",
    "<img src=\"./FinanceBench/diagrams/auto-htp-agent-with-knowledge.png\" height=\"100\" />"
   ]
  },
  {
   "cell_type": "markdown",
   "metadata": {},
   "source": [
    "`HTP` is OpenSSA’s default problem-solving task plan structure.\n",
    "\n",
    "A `HTP` instance is a tree, in which each node can be decomposed into a number of supporting sub-HTPs, each targeting to solve a supporting sub-task.\n",
    "\n",
    "`HTP` execution involves using a specified Reasoner to work through sub-tasks from the lowest levels and roll up results up to the top level.\n",
    "\n",
    "There is also a horizontal results-sharing mechanism to enable the execution of a subsequent HTP node to benefit from results from earlier nodes at the same depth level."
   ]
  },
  {
   "cell_type": "markdown",
   "metadata": {},
   "source": [
    "`AutoHTPlanner` is OpenSSA’s default Planner to create and update problem-solving HTPs.\n",
    "\n",
    "Such a planner has an LM for generating new or updated task HTPs, the complexity of which is controlled by 2 key parameters `max_depth` and `max_subtasks_per_decomp`. \n",
    "\n",
    "<img src=\"./FinanceBench/diagrams/htp.png\" />\n"
   ]
  },
  {
   "cell_type": "code",
   "execution_count": null,
   "metadata": {},
   "outputs": [],
   "source": [
    "auto_htp_agent_with_knowledge = Agent(planner=AutoHTPlanner(max_depth=2, max_subtasks_per_decomp=4),\n",
    "                                      reasoner=OodaReasoner(),\n",
    "                                      knowledge=EXPERT_KNOWLEDGE_SET,\n",
    "                                      resources={FileResource(path=DOC_PATH)})\n",
    "\n",
    "auto_htp_agent_with_knowledge_solution = auto_htp_agent_with_knowledge.solve(problem=PROBLEM,\n",
    "                                                                             plan=None,\n",
    "                                                                             dynamic=False)"
   ]
  },
  {
   "cell_type": "markdown",
   "metadata": {},
   "source": [
    "You can read the full logs of all the intermediate steps in `logs/auto_htp_agent_with_knowledge_logs.txt`"
   ]
  },
  {
   "cell_type": "code",
   "execution_count": 110,
   "metadata": {},
   "outputs": [
    {
     "name": "stdout",
     "output_type": "stream",
     "text": [
      "PROBLEM: \n",
      "================================================================================\n",
      "Is 3M a capital-intensive business based on FY2022 data? \n",
      "\n",
      "GROUND TRUTH ANSWER: \n",
      "================================================================================\n",
      "\n",
      "    No, the company is managing its CAPEX and Fixed Assets pretty efficiently,\n",
      "    which is evident from below key metrics:\n",
      "    CAPEX/Revenue Ratio: 5.1%\n",
      "    Fixed assets/Total Assets: 20%\n",
      "    Return on Assets= 12.4% \n",
      "\n",
      "AUTO HTP AGENT WITH KNOWLEDGE SOLUTION SUMMARIZED:\n",
      "================================================================================\n",
      "Based on the available FY2022 data, 3M's net property, plant, and equipment\n",
      "(PP&E) constitutes 19.75% of its total assets, indicating that it may not be\n",
      "highly capital-intensive relative to some industries. However, without\n",
      "additional information on capital expenditures (CapEx) to sales ratio,\n",
      "depreciation and amortization expenses, and return on assets (RoA), a definitive\n",
      "assessment of 3M's capital intensity cannot be made.\n"
     ]
    }
   ],
   "source": [
    "print_solution(auto_htp_agent_with_knowledge_solution)"
   ]
  },
  {
   "cell_type": "markdown",
   "metadata": {},
   "source": [
    "We can see when breaking down the task into other sub-tasks, the agent gives more concrete reasons to answer the question: `key financial metrics such as the\n",
    "proportion of net fixed assets to total assets, capital expenditure relative to\n",
    "total net sales, depreciation and amortization expense as a percentage of total\n",
    "net sales, and Return on Assets cannot be calculated without specific financial\n",
    "data`. However, the final answer is still incorrect - the agent still fails to answer 3M is not a capital-intensive business."
   ]
  },
  {
   "cell_type": "markdown",
   "metadata": {},
   "source": [
    "## Let's Upgrade the Agent to Solve the Problem Dynamically"
   ]
  },
  {
   "cell_type": "markdown",
   "metadata": {},
   "source": [
    "Let's enable another `HTP` component: `Dynamic` solving. When a problem is solved dynamically, it would be decomposed further if the sub-tasks are still not solvable.\n",
    "\n",
    "\n",
    "<img src=\"./FinanceBench/diagrams/dynamic-auto-htp-agent-with-knowledge.png\" height=\"100\" />"
   ]
  },
  {
   "cell_type": "code",
   "execution_count": 103,
   "metadata": {},
   "outputs": [],
   "source": [
    "dynamic_auto_htp_agent_with_knowledge = Agent(planner=AutoHTPlanner(max_depth=2, max_subtasks_per_decomp=4),\n",
    "                reasoner=OodaReasoner(),\n",
    "                knowledge=EXPERT_KNOWLEDGE_SET,\n",
    "                resources={FileResource(path=DOC_PATH)})\n",
    "\n",
    "dynamic_auto_htp_agent_with_knowledge_solution = dynamic_auto_htp_agent_with_knowledge.solve(problem=PROBLEM,\n",
    "                                                                                             plan=None,\n",
    "                                                                                             dynamic=True)"
   ]
  },
  {
   "cell_type": "code",
   "execution_count": 111,
   "metadata": {},
   "outputs": [
    {
     "name": "stdout",
     "output_type": "stream",
     "text": [
      "PROBLEM: \n",
      "================================================================================\n",
      "Is 3M a capital-intensive business based on FY2022 data? \n",
      "\n",
      "GROUND TRUTH ANSWER: \n",
      "================================================================================\n",
      "\n",
      "    No, the company is managing its CAPEX and Fixed Assets pretty efficiently,\n",
      "    which is evident from below key metrics:\n",
      "    CAPEX/Revenue Ratio: 5.1%\n",
      "    Fixed assets/Total Assets: 20%\n",
      "    Return on Assets= 12.4% \n",
      "\n",
      "DYNAMIC AUTO HTP AGENT WITH KNOWLEDGE SOLUTION SUMMARIZED:\n",
      "================================================================================\n",
      "Based on the FY2022 data provided, 3M is identified as a capital-intensive\n",
      "business due to its significant capital expenditures, large total asset base,\n",
      "focus on environmental expenditures, and structured asset management practices.\n",
      "These factors collectively indicate a substantial investment in physical assets\n",
      "and operational capabilities characteristic of capital-intensive businesses.\n"
     ]
    }
   ],
   "source": [
    "print_solution(dynamic_auto_htp_agent_with_knowledge_solution)"
   ]
  },
  {
   "cell_type": "markdown",
   "metadata": {},
   "source": [
    "With the added knowledge, neither solving statistically nore dynamically could help the agent to get to the final answer correctly. Let's customize the most powerful component of `HTP`: the plan."
   ]
  },
  {
   "cell_type": "markdown",
   "metadata": {},
   "source": [
    "## Incorporating Expert HTP instead of Auto-HTP"
   ]
  },
  {
   "cell_type": "markdown",
   "metadata": {},
   "source": [
    "With OpenSSA, the user can customize the plan instead of depending on the auto-generated plan. Let's add an expert plan on top of our beginning Base Agent to see how it performs. \n",
    "\n",
    "<img src=\"./FinanceBench/diagrams/expert-htp-agent.png\" height=\"100\" />"
   ]
  },
  {
   "cell_type": "markdown",
   "metadata": {},
   "source": [
    "We've prepared a sample expert plan, but please feel free to customize the expert plan yourself."
   ]
  },
  {
   "cell_type": "code",
   "execution_count": 112,
   "metadata": {},
   "outputs": [],
   "source": [
    "variables = {\n",
    "    'COMPANY': '3M',\n",
    "    'PERIOD': '2022'\n",
    "}\n",
    "\n",
    "with open('sample_data/expert-plan-templates-sample.yml', 'r') as file:\n",
    "    EXPERT_PLAN_TEMPLATES_CONTENT = file.read()\n",
    "EXPERT_PLAN_TEMPLATES_CONTENT = EXPERT_PLAN_TEMPLATES_CONTENT.format(**variables)\n",
    "EXPERT_PLAN = yaml.safe_load(EXPERT_PLAN_TEMPLATES_CONTENT)\n",
    "\n",
    "EXPERT_HTP =  HTP(task=Task.from_dict_or_str(EXPERT_PLAN['task']),\n",
    "                   sub_plans=[HTP.from_dict(d) for d in EXPERT_PLAN.get('sub-plans', [])])"
   ]
  },
  {
   "cell_type": "code",
   "execution_count": null,
   "metadata": {},
   "outputs": [],
   "source": [
    "expert_htp_agent = Agent(planner=AutoHTPlanner(max_depth=2, max_subtasks_per_decomp=4),\n",
    "                         reasoner=OodaReasoner(),\n",
    "                         knowledge=None,\n",
    "                         resources={FileResource(path=DOC_PATH)})\n",
    "\n",
    "expert_htp_agent_solution = expert_htp_agent.solve(problem=PROBLEM,\n",
    "                                                   plan=EXPERT_HTP,\n",
    "                                                   dynamic=False)"
   ]
  },
  {
   "cell_type": "markdown",
   "metadata": {},
   "source": [
    "You can read the full logs of all the intermediate steps in `logs/expert_htp_agent_logs.txt`"
   ]
  },
  {
   "cell_type": "code",
   "execution_count": 114,
   "metadata": {},
   "outputs": [
    {
     "name": "stdout",
     "output_type": "stream",
     "text": [
      "PROBLEM: \n",
      "================================================================================\n",
      "Is 3M a capital-intensive business based on FY2022 data? \n",
      "\n",
      "GROUND TRUTH ANSWER: \n",
      "================================================================================\n",
      "\n",
      "    No, the company is managing its CAPEX and Fixed Assets pretty efficiently,\n",
      "    which is evident from below key metrics:\n",
      "    CAPEX/Revenue Ratio: 5.1%\n",
      "    Fixed assets/Total Assets: 20%\n",
      "    Return on Assets= 12.4% \n",
      "\n",
      "EXPERT HTP AGENT SOLUTION SUMMARIZED:\n",
      "================================================================================\n",
      "Based on the 2022 fiscal period data, although 3M has a significant investment\n",
      "in Net Property, Plant & Equipment and a substantial asset base relative to its\n",
      "sales, its Capital Expenditures and Return on Assets metrics do not align with\n",
      "typical characteristics of a capital-intensive business. Therefore, 3M does not\n",
      "fully exhibit the characteristics of a capital-intensive business according to\n",
      "the provided benchmarks.\n"
     ]
    }
   ],
   "source": [
    "print_solution(expert_htp_agent_solution)"
   ]
  },
  {
   "cell_type": "markdown",
   "metadata": {},
   "source": [
    "Yay! By incorporating the expert's plan, we instantly get the correct answer! "
   ]
  },
  {
   "cell_type": "markdown",
   "metadata": {},
   "source": [
    "## Try It Yourself!"
   ]
  },
  {
   "cell_type": "markdown",
   "metadata": {},
   "source": [
    "So now you've learned how OpenSSA's `HTP` works. You can try different combination of knobs that you can turn, including:\n",
    "- auto-plan vs expert-plan\n",
    "- statistically solving vs dynamically solving\n",
    "- external knowledge vs no external knowledge"
   ]
  },
  {
   "cell_type": "markdown",
   "metadata": {},
   "source": [
    "Some tips and tricsk:\n",
    "- If you want the fastest way to be up and running with HTP with ok-performance: try auto-plan with added knowledge and dynamically solving.\n",
    "- If you want a sufficiently good result with least customization and runtime: try adding expert-plan without anything else\n",
    "_ If you want the best result: try adding expert-plan with knowledge and dynamically solving!\n"
   ]
  }
 ],
 "metadata": {
  "kernelspec": {
   "display_name": ".venv",
   "language": "python",
   "name": "python3"
  },
  "language_info": {
   "codemirror_mode": {
    "name": "ipython",
    "version": 3
   },
   "file_extension": ".py",
   "mimetype": "text/x-python",
   "name": "python",
   "nbconvert_exporter": "python",
   "pygments_lexer": "ipython3",
   "version": "3.12.2"
  }
 },
 "nbformat": 4,
 "nbformat_minor": 2
}
