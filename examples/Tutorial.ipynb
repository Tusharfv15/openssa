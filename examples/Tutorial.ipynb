{
 "cells": [
  {
   "cell_type": "markdown",
   "metadata": {},
   "source": [
    "# Build an AI Agent with SEC Filing Insights in Just 10 Minutes Using OpenSSA"
   ]
  },
  {
   "cell_type": "markdown",
   "metadata": {},
   "source": [
    "In this tutorial, you will learn how to:\n",
    "\n",
    "1. Build an AI Agent from Scratch Using openSSA\n",
    "2. Customize Plans to Guide the Agent Through Complex Problem-Solving\n",
    "3. Add Your Own Domain Expertise to Enhance the Agent"
   ]
  },
  {
   "cell_type": "markdown",
   "metadata": {},
   "source": [
    "## Setups"
   ]
  },
  {
   "cell_type": "markdown",
   "metadata": {},
   "source": [
    "Let's start by impporting the neccessary dependencies."
   ]
  },
  {
   "cell_type": "code",
   "execution_count": 1,
   "metadata": {},
   "outputs": [],
   "source": [
    "%load_ext autoreload\n",
    "%autoreload"
   ]
  },
  {
   "cell_type": "code",
   "execution_count": 2,
   "metadata": {},
   "outputs": [],
   "source": [
    "from pprint import pprint\n",
    "from IPython.display import display, Markdown"
   ]
  },
  {
   "cell_type": "code",
   "execution_count": 3,
   "metadata": {},
   "outputs": [],
   "source": [
    "import os\n",
    "import sys\n",
    "\n",
    "if cwd_is_root := ('examples' in os.listdir()):\n",
    "    sys.path.append('examples')"
   ]
  },
  {
   "cell_type": "markdown",
   "metadata": {},
   "source": [
    "Make sure you plave your OpenAI API key in `example/.env`\n",
    "\n",
    "```\n",
    "OPENAI_API_KEY=...\n",
    "```\n",
    "\n",
    "[Where do I find my OpenAI API Key?](https://help.openai.com/en/articles/4936850-where-do-i-find-my-openai-api-key)"
   ]
  },
  {
   "cell_type": "code",
   "execution_count": 4,
   "metadata": {},
   "outputs": [
    {
     "name": "stdout",
     "output_type": "stream",
     "text": [
      "Sanity check if we have the OpenAI API setup:  False\n"
     ]
    }
   ],
   "source": [
    "from pathlib import Path\n",
    "from dotenv import load_dotenv\n",
    "\n",
    "print('Sanity check if we have the OpenAI API setup: ', load_dotenv(dotenv_path=Path('examples' if cwd_is_root else '.') / '.env'))"
   ]
  },
  {
   "cell_type": "code",
   "execution_count": 12,
   "metadata": {},
   "outputs": [],
   "source": [
    "from openssa import Agent, HTP, AutoHTPlanner, OodaReasoner, FileResource\n",
    "from openssa.utils.llms import OpenAILLM"
   ]
  },
  {
   "cell_type": "markdown",
   "metadata": {},
   "source": [
    "## 1. Build an AI Agent from Scratch Using OpenSSA"
   ]
  },
  {
   "cell_type": "markdown",
   "metadata": {},
   "source": [
    "### Build Agent"
   ]
  },
  {
   "cell_type": "markdown",
   "metadata": {},
   "source": [
    "We're going to use the FinanceBench dataset to demonstrate. We have loaded a sample SEC filing for 3M from 2022. \n",
    "\n",
    "https://github.com/patronus-ai/financebench/blob/main/pdfs/3M_2022_10K.pdf"
   ]
  },
  {
   "cell_type": "code",
   "execution_count": 5,
   "metadata": {},
   "outputs": [],
   "source": [
    "DOC_PATH = 'sample_data/3M_2022_10K/'\n",
    "PROBLEM = 'Is 3M a capital-intensive business based on FY2022 data?'\n",
    "GROUND_TRUTH_ANSWER ='''\n",
    "    No, the company is managing its CAPEX and Fixed Assets pretty efficiently,\n",
    "    which is evident from below key metrics:\n",
    "    CAPEX/Revenue Ratio: 5.1%\n",
    "    Fixed assets/Total Assets: 20%\n",
    "    Return on Assets= 12.4%'''"
   ]
  },
  {
   "cell_type": "code",
   "execution_count": 53,
   "metadata": {},
   "outputs": [],
   "source": [
    "# util function to summarize answer\n",
    "def summarize_ans(ans, max_tokens=100):\n",
    "    llm=OpenAILLM()\n",
    "    response = llm.call(\n",
    "        messages=[\n",
    "            {\"role\": \"system\", \"content\": \"You are a helpful assistant.\"},\n",
    "            {\"role\": \"user\", \"content\": \"Please summarize the following text into 1-2 sentences: \" + ans}\n",
    "        ],\n",
    "        max_tokens=max_tokens,\n",
    "        temperature=0.7\n",
    "    )\n",
    "    summary = response.choices[0].message.content\n",
    "    return summary"
   ]
  },
  {
   "cell_type": "code",
   "execution_count": 54,
   "metadata": {},
   "outputs": [],
   "source": [
    "# util function to print\n",
    "import textwrap\n",
    "def print_solution(sol, present_full_answer=False):\n",
    "    print('PROBLEM: ')\n",
    "    print('====================')\n",
    "    print(PROBLEM, '\\n')\n",
    "    print('GROUND TRUTH ANSWER: ')\n",
    "    print('====================')\n",
    "    print(GROUND_TRUTH_ANSWER, '\\n')\n",
    "    print('AGENT\\'S SUMMARIZED ANSWER:')\n",
    "    print('====================')\n",
    "    print(textwrap.fill(summarize_ans(sol), 80))\n",
    "    if present_full_answer:\n",
    "        print('AGENT\\'S FULL ANSWER:')\n",
    "        print('====================')\n",
    "        print(textwrap.fill(sol, 80))\n"
   ]
  },
  {
   "cell_type": "markdown",
   "metadata": {},
   "source": [
    "Let's build our first agent with all default settings. "
   ]
  },
  {
   "cell_type": "code",
   "execution_count": 9,
   "metadata": {},
   "outputs": [
    {
     "name": "stderr",
     "output_type": "stream",
     "text": [
      "/Users/quynhle/Desktop/project-local/openssa-3.12/lib/python3.12/site-packages/tqdm/auto.py:21: TqdmWarning: IProgress not found. Please update jupyter and ipywidgets. See https://ipywidgets.readthedocs.io/en/stable/user_install.html\n",
      "  from .autonotebook import tqdm as notebook_tqdm\n",
      "Parsing nodes: 100%|██████████| 252/252 [00:00<00:00, 929.28it/s]\n",
      "Generating embeddings: 100%|██████████| 312/312 [00:07<00:00, 40.75it/s]\n"
     ]
    }
   ],
   "source": [
    "# Build a base agent\n",
    "agent = Agent(planner=None,\n",
    "              reasoner=OodaReasoner(),\n",
    "              knowledge=None,\n",
    "              resources={FileResource(path=DOC_PATH)})\n",
    "\n",
    "base_solution = agent.solve(problem=PROBLEM, plan=None, dynamic=False)"
   ]
  },
  {
   "cell_type": "code",
   "execution_count": 41,
   "metadata": {},
   "outputs": [
    {
     "name": "stdout",
     "output_type": "stream",
     "text": [
      "PROBLEM: \n",
      "====================\n",
      "Is 3M a capital-intensive business based on FY2022 data? \n",
      "\n",
      "GROUTH TRUTH ANSWER: \n",
      "====================\n",
      "\n",
      "    No, the company is managing its CAPEX and Fixed Assets pretty efficiently,\n",
      "    which is evident from below key metrics:\n",
      "    CAPEX/Revenue Ratio: 5.1%\n",
      "    Fixed assets/Total Assets: 20%\n",
      "    Return on Assets= 12.4% \n",
      "\n",
      "AGENT'S SUMMARIZED ANSWER:\n",
      "====================\n",
      "Based on FY2022 data, 3M is confirmed as a capital-intensive business, as\n",
      "evidenced by its high capital expenditures of $1,831 million and total assets of\n",
      "$46,455 million. The company's significant investments in physical assets,\n",
      "technology, facilities, sustainability, and workforce development indicate a\n",
      "strong reliance on capital investment for growth, efficiency, and innovation.\n"
     ]
    }
   ],
   "source": [
    "print_solution(base_solution)"
   ]
  },
  {
   "cell_type": "markdown",
   "metadata": {},
   "source": [
    "In this example, we can see the default answer is not that good. 3M is not a capital intensive business but the agent failed to answer the question correctly. Let's incorporate planning capability to enhance the agent."
   ]
  },
  {
   "cell_type": "markdown",
   "metadata": {},
   "source": [
    "## Customize Plans to Guide the Agent Through Complex Problem-Solving"
   ]
  },
  {
   "cell_type": "markdown",
   "metadata": {},
   "source": [
    "### Auto-generated plan with OpenSSA"
   ]
  },
  {
   "cell_type": "markdown",
   "metadata": {},
   "source": [
    "Let's upgrade our agent to incorporate planning, in this example we're decomposing the task into 4 subtasks with a hierachy with the depth of 2 layers. Each plan for the subtask is auto-generated by an LLM."
   ]
  },
  {
   "cell_type": "code",
   "execution_count": null,
   "metadata": {},
   "outputs": [],
   "source": [
    "# RUN THIS CELL AGAIN TO SEE THE FULL LOGS\n",
    "agent = Agent(planner=AutoHTPlanner(max_depth=2, max_subtasks_per_decomp=4),\n",
    "                reasoner=OodaReasoner(),\n",
    "                knowledge=None,\n",
    "                resources={FileResource(path=DOC_PATH)})\n",
    "\n",
    "auto_htp_statically_solution = agent.solve(problem=PROBLEM, plan=None, dynamic=False)"
   ]
  },
  {
   "cell_type": "markdown",
   "metadata": {},
   "source": [
    "** Note that the full logs of HTP steps have been cleared for better readability. To show full logs to understand step-by-step execution of HTP, run the above cell again."
   ]
  },
  {
   "cell_type": "code",
   "execution_count": 47,
   "metadata": {},
   "outputs": [
    {
     "name": "stdout",
     "output_type": "stream",
     "text": [
      "PROBLEM: \n",
      "====================\n",
      "Is 3M a capital-intensive business based on FY2022 data? \n",
      "\n",
      "GROUTH TRUTH ANSWER: \n",
      "====================\n",
      "\n",
      "    No, the company is managing its CAPEX and Fixed Assets pretty efficiently,\n",
      "    which is evident from below key metrics:\n",
      "    CAPEX/Revenue Ratio: 5.1%\n",
      "    Fixed assets/Total Assets: 20%\n",
      "    Return on Assets= 12.4% \n",
      "\n",
      "AGENT'S SUMMARIZED ANSWER:\n",
      "====================\n",
      "Based on the FY2022 data provided in the 3M 10-K report, while we cannot\n",
      "definitively confirm 3M's capital intensity due to the lack of total revenue\n",
      "figures and industry comparisons, the significant proportion of assets tied up\n",
      "in property, plant, and equipment (PP&E) at 24.6% suggests that 3M likely\n",
      "operates as a capital-intensive business. Further analysis with additional data\n",
      "is needed for a conclusive assessment.\n"
     ]
    }
   ],
   "source": [
    "print_solution(auto_htp_statically_solution)"
   ]
  },
  {
   "cell_type": "markdown",
   "metadata": {},
   "source": [
    "### Auto-generated plan with dynamically solving"
   ]
  },
  {
   "cell_type": "code",
   "execution_count": 48,
   "metadata": {},
   "outputs": [],
   "source": [
    "agent = Agent(planner=AutoHTPlanner(max_depth=2, max_subtasks_per_decomp=4),\n",
    "                reasoner=OodaReasoner(),\n",
    "                knowledge=None,\n",
    "                resources={FileResource(path=DOC_PATH)})\n",
    "\n",
    "auto_htp_dynamically_solution = agent.solve(problem=PROBLEM, plan=None, dynamic=True)"
   ]
  },
  {
   "cell_type": "code",
   "execution_count": 49,
   "metadata": {},
   "outputs": [
    {
     "name": "stdout",
     "output_type": "stream",
     "text": [
      "PROBLEM: \n",
      "====================\n",
      "Is 3M a capital-intensive business based on FY2022 data? \n",
      "\n",
      "GROUTH TRUTH ANSWER: \n",
      "====================\n",
      "\n",
      "    No, the company is managing its CAPEX and Fixed Assets pretty efficiently,\n",
      "    which is evident from below key metrics:\n",
      "    CAPEX/Revenue Ratio: 5.1%\n",
      "    Fixed assets/Total Assets: 20%\n",
      "    Return on Assets= 12.4% \n",
      "\n",
      "AGENT'S SUMMARIZED ANSWER:\n",
      "====================\n",
      "The FY2022 data reveals that 3M is a capital-intensive business, as evidenced by\n",
      "its significant capital expenditures on property, plant, and equipment amounting\n",
      "to $1,831 million, substantial total assets of $46,455 million, and projected\n",
      "capital spending for 2023 estimated between $1.5 billion and $1.8 billion. The\n",
      "company's strategic focus on maintaining and expanding manufacturing\n",
      "capabilities and managing raw material inventories further supports its capital-\n",
      "intensive nature.\n"
     ]
    }
   ],
   "source": [
    "print_solution(auto_htp_dynamically_solution)"
   ]
  },
  {
   "cell_type": "markdown",
   "metadata": {},
   "source": [
    "### Customized plan provided by the user"
   ]
  },
  {
   "cell_type": "markdown",
   "metadata": {},
   "source": [
    "The sample plan is provided in the `sample_data/expert-plan-templates-sample.yml'`. Let's load it and see how an expert plan is structured."
   ]
  },
  {
   "cell_type": "code",
   "execution_count": null,
   "metadata": {},
   "outputs": [],
   "source": [
    "import yaml\n",
    "variables = {\n",
    "    'COMPANY': '3M',\n",
    "    'PERIOD': '2022'\n",
    "}\n",
    "\n",
    "with open('sample_data/expert-plan-templates-sample.yml', 'r') as file:\n",
    "    EXPERT_PLAN_TEMPLATES_CONTENT = file.read()\n",
    "EXPERT_PLAN_TEMPLATES_CONTENT = EXPERT_PLAN_TEMPLATES_CONTENT.format(**variables)\n",
    "EXPERT_PLAN = yaml.safe_load(EXPERT_PLAN_TEMPLATES_CONTENT)"
   ]
  },
  {
   "cell_type": "code",
   "execution_count": null,
   "metadata": {},
   "outputs": [],
   "source": [
    "from openssa import HTP\n",
    "from openssa.l2.task import Task\n",
    "\n",
    "EXPERT_HTP =  HTP(task=Task.from_dict_or_str(EXPERT_PLAN['task']),  # pylint: disable=unexpected-keyword-arg\n",
    "                   sub_plans=[HTP.from_dict(d) for d in EXPERT_PLAN.get('sub-plans', [])])"
   ]
  },
  {
   "cell_type": "code",
   "execution_count": null,
   "metadata": {},
   "outputs": [],
   "source": [
    "# RUN THIS CELL AGAIN TO SEE THE FULL LOGS\n",
    "agent = Agent(planner=AutoHTPlanner(max_depth=2, max_subtasks_per_decomp=4),\n",
    "                reasoner=OodaReasoner(),\n",
    "                knowledge=None,\n",
    "                resources={FileResource(path=DOC_PATH)})\n",
    "\n",
    "expert_htp_statiscally_solution = agent.solve(problem=PROBLEM, plan=EXPERT_HTP, dynamic=False)"
   ]
  },
  {
   "cell_type": "code",
   "execution_count": 81,
   "metadata": {},
   "outputs": [
    {
     "name": "stdout",
     "output_type": "stream",
     "text": [
      "PROBLEM: \n",
      "====================\n",
      "Is 3M a capital-intensive business based on FY2022 data? \n",
      "\n",
      "GROUTH TRUTH ANSWER: \n",
      "====================\n",
      "\n",
      "    No, the company is managing its CAPEX and Fixed Assets pretty efficiently,\n",
      "    which is evident from below key metrics:\n",
      "    CAPEX/Revenue Ratio: 5.1%\n",
      "    Fixed assets/Total Assets: 20%\n",
      "    Return on Assets= 12.4% \n",
      "\n",
      "AGENT'S SUMMARIZED ANSWER:\n",
      "====================\n",
      "Based on the 2022 fiscal period data from 3M's 10-K filing, the analysis of\n",
      "specific financial metrics such as the proportion of Net PP&E to Total Assets,\n",
      "Total Assets to Total Net Sales ratio, Capital Expenditures to Total Net Sales\n",
      "ratio, and Return on Total Assets (RoA) suggests that 3M is not classified as a\n",
      "capital-intensive company for the 2022 fiscal period. The figures indicate that\n",
      "the company's capital intensity levels, investment in property,\n"
     ]
    }
   ],
   "source": [
    "print_solution(expert_htp_statiscally_solution)"
   ]
  },
  {
   "cell_type": "markdown",
   "metadata": {},
   "source": [
    "With the added expert's plan, we can see the agent can answer the question correctly this time! The agent can now identify that 3M is not a capital-intensive business!"
   ]
  },
  {
   "cell_type": "markdown",
   "metadata": {},
   "source": [
    "## 3. Add Your Own Domain Expertise to Enhance the Agent"
   ]
  },
  {
   "cell_type": "markdown",
   "metadata": {},
   "source": [
    "### Before Adding Knowledge"
   ]
  },
  {
   "cell_type": "code",
   "execution_count": null,
   "metadata": {},
   "outputs": [],
   "source": [
    "agent = Agent(planner=None,\n",
    "              reasoner=OodaReasoner(),\n",
    "              knowledge=None,\n",
    "              resources={FileResource(path=DOC_PATH)})"
   ]
  },
  {
   "cell_type": "markdown",
   "metadata": {},
   "source": [
    "### After Adding Knowledge"
   ]
  },
  {
   "cell_type": "markdown",
   "metadata": {},
   "source": [
    "#### Auto-generated plan with added knowledge"
   ]
  },
  {
   "cell_type": "code",
   "execution_count": null,
   "metadata": {},
   "outputs": [],
   "source": [
    "with open(file='sample_data/expert-knowledge.txt',\n",
    "          buffering=-1,\n",
    "          encoding='utf-8',\n",
    "          errors='strict',\n",
    "          newline=None,\n",
    "          closefd=True,\n",
    "          opener=None) as f:\n",
    "    EXPERT_KNOWLEDGE: str = f.read()\n",
    "\n",
    "EXPERT_KNOWLEDGE_SET = set(EXPERT_KNOWLEDGE.split('\\n\\n'))"
   ]
  },
  {
   "cell_type": "code",
   "execution_count": 99,
   "metadata": {},
   "outputs": [],
   "source": [
    "agent = Agent(planner=None,\n",
    "              reasoner=OodaReasoner(),\n",
    "              knowledge=EXPERT_KNOWLEDGE_SET,\n",
    "              resources={FileResource(path=DOC_PATH)})\n",
    "auto_htp_statically_with_knowledge_solution = agent.solve(problem=PROBLEM, plan=None, dynamic=False)"
   ]
  },
  {
   "cell_type": "code",
   "execution_count": 100,
   "metadata": {},
   "outputs": [
    {
     "name": "stdout",
     "output_type": "stream",
     "text": [
      "PROBLEM: \n",
      "====================\n",
      "Is 3M a capital-intensive business based on FY2022 data? \n",
      "\n",
      "GROUTH TRUTH ANSWER: \n",
      "====================\n",
      "\n",
      "    No, the company is managing its CAPEX and Fixed Assets pretty efficiently,\n",
      "    which is evident from below key metrics:\n",
      "    CAPEX/Revenue Ratio: 5.1%\n",
      "    Fixed assets/Total Assets: 20%\n",
      "    Return on Assets= 12.4% \n",
      "\n",
      "AGENT'S SUMMARIZED ANSWER:\n",
      "====================\n",
      "3M is deemed a capital-intensive business for FY2022 due to its high capital\n",
      "expenditures for property, plant, and equipment, substantial total assets, and\n",
      "projected future capital spending. These financial metrics suggest a significant\n",
      "investment in operational capacity and manufacturing capabilities, indicating a\n",
      "capital-intensive industry.\n"
     ]
    }
   ],
   "source": [
    "print_solution(auto_htp_statically_with_knowledge_solution)"
   ]
  },
  {
   "cell_type": "markdown",
   "metadata": {},
   "source": [
    "With the auto-generated plan, even with the added knowledge, looks like the agent is still struggled to solve the problem.\n",
    "Let's add the expert's plan to see whether it's more valuable for the agent to be able to solve this."
   ]
  },
  {
   "cell_type": "markdown",
   "metadata": {},
   "source": [
    "#### Expert-provided plan with added knowledge"
   ]
  },
  {
   "cell_type": "code",
   "execution_count": null,
   "metadata": {},
   "outputs": [],
   "source": [
    "agent = Agent(planner=None,\n",
    "              reasoner=OodaReasoner(),\n",
    "              knowledge=EXPERT_KNOWLEDGE_SET,\n",
    "              resources={FileResource(path=DOC_PATH)})\n",
    "expert_htp_statically_with_knowledge_solution = agent.solve(problem=PROBLEM, plan=EXPERT_HTP, dynamic=False)"
   ]
  },
  {
   "cell_type": "code",
   "execution_count": 108,
   "metadata": {},
   "outputs": [
    {
     "name": "stdout",
     "output_type": "stream",
     "text": [
      "PROBLEM: \n",
      "====================\n",
      "Is 3M a capital-intensive business based on FY2022 data? \n",
      "\n",
      "GROUTH TRUTH ANSWER: \n",
      "====================\n",
      "\n",
      "    No, the company is managing its CAPEX and Fixed Assets pretty efficiently,\n",
      "    which is evident from below key metrics:\n",
      "    CAPEX/Revenue Ratio: 5.1%\n",
      "    Fixed assets/Total Assets: 20%\n",
      "    Return on Assets= 12.4% \n",
      "\n",
      "AGENT'S SUMMARIZED ANSWER:\n",
      "====================\n",
      "To determine if 3M is a capital-intensive company for the 2022 fiscal period,\n",
      "one would typically analyze metrics like Net Fixed Assets to Total Assets ratio,\n",
      "Total Assets compared to Total Net Operating Revenues, Capital Expenditures\n",
      "relative to Net Operating Revenues, and Return on Total Assets. However, without\n",
      "specific financial data for 3M in 2022, such as Net Fixed Assets, Total Assets,\n",
      "Total Net Operating Revenues, Capital Expenditures, and Net Income, a\n"
     ]
    }
   ],
   "source": [
    "print_solution(expert_htp_statically_with_knowledge_solution)"
   ]
  }
 ],
 "metadata": {
  "kernelspec": {
   "display_name": ".venv",
   "language": "python",
   "name": "python3"
  },
  "language_info": {
   "codemirror_mode": {
    "name": "ipython",
    "version": 3
   },
   "file_extension": ".py",
   "mimetype": "text/x-python",
   "name": "python",
   "nbconvert_exporter": "python",
   "pygments_lexer": "ipython3",
   "version": "3.12.2"
  }
 },
 "nbformat": 4,
 "nbformat_minor": 2
}
