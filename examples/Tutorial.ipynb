{
 "cells": [
  {
   "cell_type": "markdown",
   "metadata": {},
   "source": [
    "# Build an AI Agent with SEC Filing Insights in Just 10 Minutes Using OpenSSA"
   ]
  },
  {
   "cell_type": "markdown",
   "metadata": {},
   "source": [
    "In this tutorial, you will learn how to:\n",
    "\n",
    "1. Build an AI Agent from Scratch Using openSSA\n",
    "2. Customize Plans to Guide the Agent Through Complex Problem-Solving\n",
    "3. Add Your Own Domain Expertise to Enhance the Agent"
   ]
  },
  {
   "cell_type": "markdown",
   "metadata": {},
   "source": [
    "## Setups"
   ]
  },
  {
   "cell_type": "markdown",
   "metadata": {},
   "source": [
    "Let's start by impporting the neccessary dependencies."
   ]
  },
  {
   "cell_type": "code",
   "execution_count": 1,
   "metadata": {},
   "outputs": [],
   "source": [
    "%load_ext autoreload\n",
    "%autoreload"
   ]
  },
  {
   "cell_type": "code",
   "execution_count": 2,
   "metadata": {},
   "outputs": [],
   "source": [
    "from pprint import pprint\n",
    "from IPython.display import display, Markdown"
   ]
  },
  {
   "cell_type": "code",
   "execution_count": 3,
   "metadata": {},
   "outputs": [],
   "source": [
    "import os\n",
    "import sys\n",
    "\n",
    "if cwd_is_root := ('examples' in os.listdir()):\n",
    "    sys.path.append('examples')"
   ]
  },
  {
   "cell_type": "markdown",
   "metadata": {},
   "source": [
    "Make sure you plave your OpenAI API key in `example/.env`\n",
    "\n",
    "```\n",
    "OPENAI_API_KEY=...\n",
    "```\n",
    "\n",
    "[Where do I find my OpenAI API Key?](https://help.openai.com/en/articles/4936850-where-do-i-find-my-openai-api-key)"
   ]
  },
  {
   "cell_type": "code",
   "execution_count": 4,
   "metadata": {},
   "outputs": [
    {
     "name": "stdout",
     "output_type": "stream",
     "text": [
      "Sanity check if we have the OpenAI API setup:  False\n"
     ]
    }
   ],
   "source": [
    "from pathlib import Path\n",
    "from dotenv import load_dotenv\n",
    "\n",
    "print('Sanity check if we have the OpenAI API setup: ', load_dotenv(dotenv_path=Path('examples' if cwd_is_root else '.') / '.env'))"
   ]
  },
  {
   "cell_type": "code",
   "execution_count": 12,
   "metadata": {},
   "outputs": [],
   "source": [
    "from openssa import Agent, HTP, AutoHTPlanner, OodaReasoner, FileResource\n",
    "from openssa.utils.llms import OpenAILLM"
   ]
  },
  {
   "cell_type": "markdown",
   "metadata": {},
   "source": [
    "## 1. Build an AI Agent from Scratch Using OpenSSA"
   ]
  },
  {
   "cell_type": "markdown",
   "metadata": {},
   "source": [
    "### Build Agent"
   ]
  },
  {
   "cell_type": "markdown",
   "metadata": {},
   "source": [
    "We're going to use the FinanceBench dataset to demonstrate. We have loaded a sample SEC filing for 3M from 2022. \n",
    "\n",
    "https://github.com/patronus-ai/financebench/blob/main/pdfs/3M_2022_10K.pdf"
   ]
  },
  {
   "cell_type": "code",
   "execution_count": 5,
   "metadata": {},
   "outputs": [],
   "source": [
    "DOC_PATH = 'sample_data/3M_2022_10K/'\n",
    "PROBLEM = 'Is 3M a capital-intensive business based on FY2022 data?'\n",
    "GROUTH_TRUTH_ANSWER ='''\n",
    "    No, the company is managing its CAPEX and Fixed Assets pretty efficiently,\n",
    "    which is evident from below key metrics:\n",
    "    CAPEX/Revenue Ratio: 5.1%\n",
    "    Fixed assets/Total Assets: 20%\n",
    "    Return on Assets= 12.4%'''"
   ]
  },
  {
   "cell_type": "code",
   "execution_count": 53,
   "metadata": {},
   "outputs": [],
   "source": [
    "# util function to summarize answer\n",
    "def summarize_ans(ans, max_tokens=100):\n",
    "    llm=OpenAILLM()\n",
    "    response = llm.call(\n",
    "        messages=[\n",
    "            {\"role\": \"system\", \"content\": \"You are a helpful assistant.\"},\n",
    "            {\"role\": \"user\", \"content\": \"Please summarize the following text into 1-2 sentences: \" + ans}\n",
    "        ],\n",
    "        max_tokens=max_tokens,\n",
    "        temperature=0.7\n",
    "    )\n",
    "    summary = response.choices[0].message.content\n",
    "    return summary"
   ]
  },
  {
   "cell_type": "code",
   "execution_count": 54,
   "metadata": {},
   "outputs": [],
   "source": [
    "# util function to print\n",
    "import textwrap\n",
    "def print_solution(sol, present_full_answer=False):\n",
    "    print('PROBLEM: ')\n",
    "    print('====================')\n",
    "    print(PROBLEM, '\\n')\n",
    "    print('GROUTH TRUTH ANSWER: ')\n",
    "    print('====================')\n",
    "    print(GROUTH_TRUTH_ANSWER, '\\n')\n",
    "    print('AGENT\\'S SUMMARIZED ANSWER:')\n",
    "    print('====================')\n",
    "    print(textwrap.fill(summarize_ans(sol), 80))\n",
    "    if present_full_answer:\n",
    "        print('AGENT\\'S FULL ANSWER:')\n",
    "        print('====================')\n",
    "        print(textwrap.fill(sol, 80))\n"
   ]
  },
  {
   "cell_type": "markdown",
   "metadata": {},
   "source": [
    "Let's build our first agent with all default settings. "
   ]
  },
  {
   "cell_type": "code",
   "execution_count": 9,
   "metadata": {},
   "outputs": [
    {
     "name": "stderr",
     "output_type": "stream",
     "text": [
      "/Users/quynhle/Desktop/project-local/openssa-3.12/lib/python3.12/site-packages/tqdm/auto.py:21: TqdmWarning: IProgress not found. Please update jupyter and ipywidgets. See https://ipywidgets.readthedocs.io/en/stable/user_install.html\n",
      "  from .autonotebook import tqdm as notebook_tqdm\n",
      "Parsing nodes: 100%|██████████| 252/252 [00:00<00:00, 929.28it/s]\n",
      "Generating embeddings: 100%|██████████| 312/312 [00:07<00:00, 40.75it/s]\n"
     ]
    }
   ],
   "source": [
    "# Build a base agent\n",
    "agent = Agent(planner=None,\n",
    "              reasoner=OodaReasoner(),\n",
    "              knowledge=None,\n",
    "              resources={FileResource(path=DOC_PATH)})\n",
    "\n",
    "base_solution = agent.solve(problem=PROBLEM, plan=None, dynamic=False)"
   ]
  },
  {
   "cell_type": "code",
   "execution_count": 41,
   "metadata": {},
   "outputs": [
    {
     "name": "stdout",
     "output_type": "stream",
     "text": [
      "PROBLEM: \n",
      "====================\n",
      "Is 3M a capital-intensive business based on FY2022 data? \n",
      "\n",
      "GROUTH TRUTH ANSWER: \n",
      "====================\n",
      "\n",
      "    No, the company is managing its CAPEX and Fixed Assets pretty efficiently,\n",
      "    which is evident from below key metrics:\n",
      "    CAPEX/Revenue Ratio: 5.1%\n",
      "    Fixed assets/Total Assets: 20%\n",
      "    Return on Assets= 12.4% \n",
      "\n",
      "AGENT'S SUMMARIZED ANSWER:\n",
      "====================\n",
      "Based on FY2022 data, 3M is confirmed as a capital-intensive business, as\n",
      "evidenced by its high capital expenditures of $1,831 million and total assets of\n",
      "$46,455 million. The company's significant investments in physical assets,\n",
      "technology, facilities, sustainability, and workforce development indicate a\n",
      "strong reliance on capital investment for growth, efficiency, and innovation.\n"
     ]
    }
   ],
   "source": [
    "print_solution(base_solution)"
   ]
  },
  {
   "cell_type": "markdown",
   "metadata": {},
   "source": [
    "In this example, we can see the default answer is not that good. 3M is not a capital intensive business but the agent failed to answer the question correctly. Let's incorporate planning capability to enhance the agent."
   ]
  },
  {
   "cell_type": "markdown",
   "metadata": {},
   "source": [
    "## Customize Plans to Guide the Agent Through Complex Problem-Solving"
   ]
  },
  {
   "cell_type": "markdown",
   "metadata": {},
   "source": [
    "### Auto-generated plan with OpenSSA"
   ]
  },
  {
   "cell_type": "markdown",
   "metadata": {},
   "source": [
    "Let's upgrade our agent to incorporate planning, in this example we're decomposing the task into 4 subtasks with a hierachy with the depth of 2 layers. Each plan for the subtask is auto-generated by an LLM."
   ]
  },
  {
   "cell_type": "code",
   "execution_count": null,
   "metadata": {},
   "outputs": [],
   "source": [
    "%%capture test\n",
    "agent = Agent(planner=AutoHTPlanner(max_depth=2, max_subtasks_per_decomp=4),\n",
    "                reasoner=OodaReasoner(),\n",
    "                knowledge=None,\n",
    "                resources={FileResource(path=DOC_PATH)})\n",
    "\n",
    "auto_htp_statically_solution = agent.solve(problem=PROBLEM, plan=None, dynamic=False)"
   ]
  },
  {
   "cell_type": "markdown",
   "metadata": {},
   "source": [
    "** Note that the full logs of HTP steps have been cleared for better readability. To show full logs to understand step-by-step execution of HTP, run the above cell again."
   ]
  },
  {
   "cell_type": "code",
   "execution_count": 47,
   "metadata": {},
   "outputs": [
    {
     "name": "stdout",
     "output_type": "stream",
     "text": [
      "PROBLEM: \n",
      "====================\n",
      "Is 3M a capital-intensive business based on FY2022 data? \n",
      "\n",
      "GROUTH TRUTH ANSWER: \n",
      "====================\n",
      "\n",
      "    No, the company is managing its CAPEX and Fixed Assets pretty efficiently,\n",
      "    which is evident from below key metrics:\n",
      "    CAPEX/Revenue Ratio: 5.1%\n",
      "    Fixed assets/Total Assets: 20%\n",
      "    Return on Assets= 12.4% \n",
      "\n",
      "AGENT'S SUMMARIZED ANSWER:\n",
      "====================\n",
      "Based on the FY2022 data provided in the 3M 10-K report, while we cannot\n",
      "definitively confirm 3M's capital intensity due to the lack of total revenue\n",
      "figures and industry comparisons, the significant proportion of assets tied up\n",
      "in property, plant, and equipment (PP&E) at 24.6% suggests that 3M likely\n",
      "operates as a capital-intensive business. Further analysis with additional data\n",
      "is needed for a conclusive assessment.\n"
     ]
    }
   ],
   "source": [
    "print_solution(auto_htp_statically_solution)"
   ]
  },
  {
   "cell_type": "markdown",
   "metadata": {},
   "source": [
    "### Auto-generated plan with dynamically solving"
   ]
  },
  {
   "cell_type": "code",
   "execution_count": 48,
   "metadata": {},
   "outputs": [],
   "source": [
    "agent = Agent(planner=AutoHTPlanner(max_depth=2, max_subtasks_per_decomp=4),\n",
    "                reasoner=OodaReasoner(),\n",
    "                knowledge=None,\n",
    "                resources={FileResource(path=DOC_PATH)})\n",
    "\n",
    "auto_htp_dynamically_solution = agent.solve(problem=PROBLEM, plan=None, dynamic=True)"
   ]
  },
  {
   "cell_type": "code",
   "execution_count": 49,
   "metadata": {},
   "outputs": [
    {
     "name": "stdout",
     "output_type": "stream",
     "text": [
      "PROBLEM: \n",
      "====================\n",
      "Is 3M a capital-intensive business based on FY2022 data? \n",
      "\n",
      "GROUTH TRUTH ANSWER: \n",
      "====================\n",
      "\n",
      "    No, the company is managing its CAPEX and Fixed Assets pretty efficiently,\n",
      "    which is evident from below key metrics:\n",
      "    CAPEX/Revenue Ratio: 5.1%\n",
      "    Fixed assets/Total Assets: 20%\n",
      "    Return on Assets= 12.4% \n",
      "\n",
      "AGENT'S SUMMARIZED ANSWER:\n",
      "====================\n",
      "The FY2022 data reveals that 3M is a capital-intensive business, as evidenced by\n",
      "its significant capital expenditures on property, plant, and equipment amounting\n",
      "to $1,831 million, substantial total assets of $46,455 million, and projected\n",
      "capital spending for 2023 estimated between $1.5 billion and $1.8 billion. The\n",
      "company's strategic focus on maintaining and expanding manufacturing\n",
      "capabilities and managing raw material inventories further supports its capital-\n",
      "intensive nature.\n"
     ]
    }
   ],
   "source": [
    "print_solution(auto_htp_dynamically_solution)"
   ]
  },
  {
   "cell_type": "markdown",
   "metadata": {},
   "source": [
    "### Customized plan provided by the user"
   ]
  },
  {
   "cell_type": "markdown",
   "metadata": {},
   "source": [
    "The sample plan is provided in the `sample_data/expert-plan-templates-sample.yml'`. Let's load it and see how an expert plan is structured."
   ]
  },
  {
   "cell_type": "code",
   "execution_count": 73,
   "metadata": {},
   "outputs": [
    {
     "name": "stdout",
     "output_type": "stream",
     "text": [
      "{'task': 'Assess whether 3M is capital-intensive according to 2022 fiscal period data', 'sub-plans': [{'task': 'What are values in dollars of:\\n- `(Net) Fixed Assets, a.k.a. (Net) Property, Plant & Equipment (PP&E)`; and\\n- `Total Assets`\\n(or most similar-meaning reported line item to those)\\n\\non one same `(Consolidated) Balance Sheet, a.k.a. Statement of (Consolidated) Financial Position`\\n(or most similar-meaning statement) of 3M\\n(and NOT Balance Sheets of its acquired and/or divested companies)\\n\\nas at following two annual fiscal period ends:\\n- previous annual fiscal period end immediately preceding 2022; and\\n- current 2022 annual fiscal period end?'}, {'task': 'What is value in dollars of `Capital Expenditure(s), a.k.a. CapEx, or Capital Spending, or Property, Plant & Equipment (PP&E) Expenditure(s)/Purchase(s)` (or most similar-meaning reported line item)\\non `(Consolidated) Cash Flow(s) Statement(s), a.k.a. (Consolidated) Statement(s) of Cash Flows` (or most similar-meaning statement)\\nof 3M for 2022 fiscal period?'}, {'task': 'What are values in dollars of:\\n- `(Total) (Net) (Operating) Revenue(s), a.k.a. (Total) (Net) Sales`; and\\n- `Net Income, a.k.a. Net Profit, or Net Earnings (or Loss(es)) (Attributable to Shareholders)`\\n(or most similar-meaning reported line items to those)\\n\\non `(Consolidated) Income Statement, a.k.a. (Consolidated) Profit-and-Loss (P&L) Statement,\\nor (Consolidated) Earnings Statement, or (Consolidated) Operations Statement`\\n(or most similar-meaning statement)\\n\\nof 3M for 2022 fiscal period?'}, {'task': 'Assess whether 3M is capital-intensive according to 2022 fiscal period data\\n\\nCapital-intensive businesses tend to have one or several of the following characteristics:\\n\\n- high `(Net) Fixed Assets, a.k.a. (Net) Property, Plant & Equipment (PP&E)` as proportion of `Total Assets`,\\n  e.g., over 25%;\\n\\n- high `Total Assets` relative to `(Total) (Net) (Operating) Revenue(s), a.k.a. (Total) (Net) Sales`,\\n  e.g., over 2 times;\\n\\n- high `Capital Expenditure(s), a.k.a. CapEx, or Capital Spending, or Property, Plant & Equipment (PP&E) Expenditure(s)/Purchase(s)`\\n  relative to `(Total) (Net) (Operating) Revenue(s), a.k.a. (Total) (Net) Sales`,\\n  e.g., over 10%;\\n\\n  and/or\\n\\n- low `Return on (Total) Assets, a.k.a. RoA or RoTA`,\\n  e.g., under 10%,\\n  according to formula:\\n\\n  `Return on (Total) Assets, a.k.a. RoA or RoTA` = (\\n    `Net Income, a.k.a. Net Profit, or Net Earnings (or Loss(es)) (Attributable to Shareholders)` /\\n    `average Total Assets, typically between two consecutive fiscal year-ends`\\n  )'}]}\n"
     ]
    }
   ],
   "source": [
    "import yaml\n",
    "variables = {\n",
    "    'COMPANY': '3M',\n",
    "    'PERIOD': '2022'\n",
    "}\n",
    "\n",
    "with open('sample_data/expert-plan-templates-sample.yml', 'r') as file:\n",
    "    EXPERT_PLAN_TEMPLATES_CONTENT = file.read()\n",
    "EXPERT_PLAN_TEMPLATES_CONTENT = EXPERT_PLAN_TEMPLATES_CONTENT.format(**variables)\n",
    "EXPERT_PLAN = yaml.safe_load(EXPERT_PLAN_TEMPLATES_CONTENT)\n",
    "print(EXPERT_PLAN)"
   ]
  },
  {
   "cell_type": "code",
   "execution_count": 74,
   "metadata": {},
   "outputs": [],
   "source": [
    "htp = HTP.from_dict(EXPERT_PLAN)"
   ]
  },
  {
   "cell_type": "code",
   "execution_count": 78,
   "metadata": {},
   "outputs": [
    {
     "data": {
      "text/plain": [
       "HTP(task=Task(ask='Assess whether 3M is capital-intensive according to 2022 fiscal period data', resources=set(), nature=None, status=<TaskStatus.PENDING: 'pending'>, result=None, dynamic_decomposer=None), sub_plans=[HTP(task=Task(ask='What are values in dollars of:\\n- `(Net) Fixed Assets, a.k.a. (Net) Property, Plant & Equipment (PP&E)`; and\\n- `Total Assets`\\n(or most similar-meaning reported line item to those)\\n\\non one same `(Consolidated) Balance Sheet, a.k.a. Statement of (Consolidated) Financial Position`\\n(or most similar-meaning statement) of 3M\\n(and NOT Balance Sheets of its acquired and/or divested companies)\\n\\nas at following two annual fiscal period ends:\\n- previous annual fiscal period end immediately preceding 2022; and\\n- current 2022 annual fiscal period end?', resources=set(), nature=None, status=<TaskStatus.PENDING: 'pending'>, result=None, dynamic_decomposer=None), sub_plans=[]), HTP(task=Task(ask='What is value in dollars of `Capital Expenditure(s), a.k.a. CapEx, or Capital Spending, or Property, Plant & Equipment (PP&E) Expenditure(s)/Purchase(s)` (or most similar-meaning reported line item)\\non `(Consolidated) Cash Flow(s) Statement(s), a.k.a. (Consolidated) Statement(s) of Cash Flows` (or most similar-meaning statement)\\nof 3M for 2022 fiscal period?', resources=set(), nature=None, status=<TaskStatus.PENDING: 'pending'>, result=None, dynamic_decomposer=None), sub_plans=[]), HTP(task=Task(ask='What are values in dollars of:\\n- `(Total) (Net) (Operating) Revenue(s), a.k.a. (Total) (Net) Sales`; and\\n- `Net Income, a.k.a. Net Profit, or Net Earnings (or Loss(es)) (Attributable to Shareholders)`\\n(or most similar-meaning reported line items to those)\\n\\non `(Consolidated) Income Statement, a.k.a. (Consolidated) Profit-and-Loss (P&L) Statement,\\nor (Consolidated) Earnings Statement, or (Consolidated) Operations Statement`\\n(or most similar-meaning statement)\\n\\nof 3M for 2022 fiscal period?', resources=set(), nature=None, status=<TaskStatus.PENDING: 'pending'>, result=None, dynamic_decomposer=None), sub_plans=[]), HTP(task=Task(ask='Assess whether 3M is capital-intensive according to 2022 fiscal period data\\n\\nCapital-intensive businesses tend to have one or several of the following characteristics:\\n\\n- high `(Net) Fixed Assets, a.k.a. (Net) Property, Plant & Equipment (PP&E)` as proportion of `Total Assets`,\\n  e.g., over 25%;\\n\\n- high `Total Assets` relative to `(Total) (Net) (Operating) Revenue(s), a.k.a. (Total) (Net) Sales`,\\n  e.g., over 2 times;\\n\\n- high `Capital Expenditure(s), a.k.a. CapEx, or Capital Spending, or Property, Plant & Equipment (PP&E) Expenditure(s)/Purchase(s)`\\n  relative to `(Total) (Net) (Operating) Revenue(s), a.k.a. (Total) (Net) Sales`,\\n  e.g., over 10%;\\n\\n  and/or\\n\\n- low `Return on (Total) Assets, a.k.a. RoA or RoTA`,\\n  e.g., under 10%,\\n  according to formula:\\n\\n  `Return on (Total) Assets, a.k.a. RoA or RoTA` = (\\n    `Net Income, a.k.a. Net Profit, or Net Earnings (or Loss(es)) (Attributable to Shareholders)` /\\n    `average Total Assets, typically between two consecutive fiscal year-ends`\\n  )', resources=set(), nature=None, status=<TaskStatus.PENDING: 'pending'>, result=None, dynamic_decomposer=None), sub_plans=[])])"
      ]
     },
     "execution_count": 78,
     "metadata": {},
     "output_type": "execute_result"
    }
   ],
   "source": [
    "from openssa import HTP\n",
    "from openssa.l2.task import Task\n",
    "\n",
    "EXPERT_HTP =  HTP(task=Task.from_dict_or_str(EXPERT_PLAN['task']),  # pylint: disable=unexpected-keyword-arg\n",
    "                   sub_plans=[HTP.from_dict(d) for d in EXPERT_PLAN.get('sub-plans', [])])\n",
    "\n",
    "htp"
   ]
  },
  {
   "cell_type": "code",
   "execution_count": 77,
   "metadata": {},
   "outputs": [
    {
     "name": "stderr",
     "output_type": "stream",
     "text": [
      "\u001b[32m2024-06-03 01:31:55.364\u001b[0m | \u001b[1mINFO    \u001b[0m | \u001b[36mopenssa.l2.agent.agent\u001b[0m:\u001b[36msolve\u001b[0m:\u001b[36m158\u001b[0m - \u001b[1m\n",
      "GLOBAL TASK PLANNING\n",
      "====================\n",
      "\n",
      "PLAN(task=Assess whether 3M is capital-intensive according to 2022 fiscal period data,\n",
      "     subs=[ PLAN(task=What are values in dollars of:\n",
      "                      - `(Net) Fixed Assets, a.k.a. (Net) Property, Plant & Equipment (PP&E)`; and\n",
      "                      - `Total Assets`\n",
      "                      (or most similar-meaning reported line item to those)\n",
      "                      \n",
      "                      on one same `(Consolidated) Balance Sheet, a.k.a. Statement of (Consolidated) Financial \n",
      "                      Position`\n",
      "                      (or most similar-meaning statement) of 3M\n",
      "                      (and NOT Balance Sheets of its acquired and/or divested companies)\n",
      "                      \n",
      "                      as at following two annual fiscal period ends:\n",
      "                      - previous annual fiscal period end immediately preceding 2022; and\n",
      "                      - current 2022 annual fiscal period end?),\n",
      "            PLAN(task=What is value in dollars of `Capital Expenditure(s), a.k.a. CapEx, or Capital Spending, or \n",
      "                      Property, Plant & Equipment (PP&E) Expenditure(s)/Purchase(s)` (or most similar-meaning \n",
      "                      reported line item)\n",
      "                      on `(Consolidated) Cash Flow(s) Statement(s), a.k.a. (Consolidated) Statement(s) of Cash Flows` \n",
      "                      (or most similar-meaning statement)\n",
      "                      of 3M for 2022 fiscal period?),\n",
      "            PLAN(task=What are values in dollars of:\n",
      "                      - `(Total) (Net) (Operating) Revenue(s), a.k.a. (Total) (Net) Sales`; and\n",
      "                      - `Net Income, a.k.a. Net Profit, or Net Earnings (or Loss(es)) (Attributable to \n",
      "                      Shareholders)`\n",
      "                      (or most similar-meaning reported line items to those)\n",
      "                      \n",
      "                      on `(Consolidated) Income Statement, a.k.a. (Consolidated) Profit-and-Loss (P&L) Statement,\n",
      "                      or (Consolidated) Earnings Statement, or (Consolidated) Operations Statement`\n",
      "                      (or most similar-meaning statement)\n",
      "                      \n",
      "                      of 3M for 2022 fiscal period?),\n",
      "            PLAN(task=Assess whether 3M is capital-intensive according to 2022 fiscal period data\n",
      "                      \n",
      "                      Capital-intensive businesses tend to have one or several of the following characteristics:\n",
      "                      \n",
      "                      - high `(Net) Fixed Assets, a.k.a. (Net) Property, Plant & Equipment (PP&E)` as proportion of \n",
      "                      `Total Assets`,\n",
      "                        e.g., over 25%;\n",
      "                      \n",
      "                      - high `Total Assets` relative to `(Total) (Net) (Operating) Revenue(s), a.k.a. (Total) (Net) \n",
      "                      Sales`,\n",
      "                        e.g., over 2 times;\n",
      "                      \n",
      "                      - high `Capital Expenditure(s), a.k.a. CapEx, or Capital Spending, or Property, Plant & \n",
      "                      Equipment (PP&E) Expenditure(s)/Purchase(s)`\n",
      "                        relative to `(Total) (Net) (Operating) Revenue(s), a.k.a. (Total) (Net) Sales`,\n",
      "                        e.g., over 10%;\n",
      "                      \n",
      "                        and/or\n",
      "                      \n",
      "                      - low `Return on (Total) Assets, a.k.a. RoA or RoTA`,\n",
      "                        e.g., under 10%,\n",
      "                        according to formula:\n",
      "                      \n",
      "                        `Return on (Total) Assets, a.k.a. RoA or RoTA` = (\n",
      "                          `Net Income, a.k.a. Net Profit, or Net Earnings (or Loss(es)) (Attributable to \n",
      "                      Shareholders)` /\n",
      "                          `average Total Assets, typically between two consecutive fiscal year-ends`\n",
      "                        ))])\n",
      "\u001b[0m\n",
      "  0%|          | 0/4 [00:00<?, ?it/s]\u001b[32m2024-06-03 01:32:40.211\u001b[0m | \u001b[34m\u001b[1mDEBUG   \u001b[0m | \u001b[36mopenssa.l2.planning.hierarchical.plan\u001b[0m:\u001b[36mexecute\u001b[0m:\u001b[36m127\u001b[0m - \u001b[34m\u001b[1m\n",
      "TASK-LEVEL REASONING\n",
      "====================\n",
      "\n",
      "WHAT ARE VALUES IN DOLLARS OF:\n",
      "- `(NET) FIXED ASSETS, A.K.A. (NET) PROPERTY, PLANT & EQUIPMENT (PP&E)`; AND\n",
      "- `TOTAL ASSETS`\n",
      "(OR MOST SIMILAR-MEANING REPORTED LINE ITEM TO THOSE)\n",
      "\n",
      "ON ONE SAME `(CONSOLIDATED) BALANCE SHEET, A.K.A. STATEMENT OF (CONSOLIDATED) FINANCIAL POSITION`\n",
      "(OR MOST SIMILAR-MEANING STATEMENT) OF 3M\n",
      "(AND NOT BALANCE SHEETS OF ITS ACQUIRED AND/OR DIVESTED COMPANIES)\n",
      "\n",
      "AS AT FOLLOWING TWO ANNUAL FISCAL PERIOD ENDS:\n",
      "- PREVIOUS ANNUAL FISCAL PERIOD END IMMEDIATELY PRECEDING 2022; AND\n",
      "- CURRENT 2022 ANNUAL FISCAL PERIOD END?\n",
      "--------------------------\n",
      "The provided information from the resource named '3M_2022_10K' appears to be directly relevant and sufficient to answer the posed question. The resource specifies the values for both Net Property, Plant & Equipment (PP&E) and Total Assets on the Consolidated Balance Sheet for 3M for the two specified fiscal period ends. According to the resource, the values are as follows:\n",
      "\n",
      "- For the previous annual fiscal period end immediately preceding 2022:\n",
      "  - Net Property, Plant & Equipment (PP&E): $9,429 million\n",
      "  - Total Assets: $46,854 million\n",
      "\n",
      "- For the current 2022 annual fiscal period end:\n",
      "  - Net Property, Plant & Equipment (PP&E): $9,178 million\n",
      "  - Total Assets: $45,073 million\n",
      "\n",
      "These values provide specific numerical quantities for the requested line items from the Consolidated Balance Sheet of 3M for the specified fiscal period ends. Therefore, the answer can be considered confident as it meets the rigorous bases/criteria/definitions for judgment and contains specific values for the numerical quantities requested.\n",
      "\u001b[0m\n",
      " 25%|██▌       | 1/4 [00:17<00:51, 17.30s/it]\u001b[32m2024-06-03 01:32:50.658\u001b[0m | \u001b[34m\u001b[1mDEBUG   \u001b[0m | \u001b[36mopenssa.l2.planning.hierarchical.plan\u001b[0m:\u001b[36mexecute\u001b[0m:\u001b[36m127\u001b[0m - \u001b[34m\u001b[1m\n",
      "TASK-LEVEL REASONING\n",
      "====================\n",
      "\n",
      "WHAT IS VALUE IN DOLLARS OF `CAPITAL EXPENDITURE(S), A.K.A. CAPEX, OR CAPITAL SPENDING, OR PROPERTY, PLANT & EQUIPMENT (PP&E) EXPENDITURE(S)/PURCHASE(S)` (OR MOST SIMILAR-MEANING REPORTED LINE ITEM)\n",
      "ON `(CONSOLIDATED) CASH FLOW(S) STATEMENT(S), A.K.A. (CONSOLIDATED) STATEMENT(S) OF CASH FLOWS` (OR MOST SIMILAR-MEANING STATEMENT)\n",
      "OF 3M FOR 2022 FISCAL PERIOD?\n",
      "--------------------------\n",
      "The value in dollars of Capital Expenditures (CapEx) for 3M in the 2022 fiscal period, as reported on the Consolidated Statement of Cash Flows, is $1,749 million. This figure represents the amount 3M spent on Property, Plant, and Equipment (PP&E) during the year. The negative sign typically indicates a cash outflow in financial statements, which is consistent with the nature of capital expenditures as they are investments in long-term assets. Therefore, the specific value for the CapEx for 3M in 2022 is $1,749 million.\n",
      "\u001b[0m\n",
      " 50%|█████     | 2/4 [00:27<00:26, 13.27s/it]\u001b[32m2024-06-03 01:33:03.558\u001b[0m | \u001b[34m\u001b[1mDEBUG   \u001b[0m | \u001b[36mopenssa.l2.planning.hierarchical.plan\u001b[0m:\u001b[36mexecute\u001b[0m:\u001b[36m127\u001b[0m - \u001b[34m\u001b[1m\n",
      "TASK-LEVEL REASONING\n",
      "====================\n",
      "\n",
      "WHAT ARE VALUES IN DOLLARS OF:\n",
      "- `(TOTAL) (NET) (OPERATING) REVENUE(S), A.K.A. (TOTAL) (NET) SALES`; AND\n",
      "- `NET INCOME, A.K.A. NET PROFIT, OR NET EARNINGS (OR LOSS(ES)) (ATTRIBUTABLE TO SHAREHOLDERS)`\n",
      "(OR MOST SIMILAR-MEANING REPORTED LINE ITEMS TO THOSE)\n",
      "\n",
      "ON `(CONSOLIDATED) INCOME STATEMENT, A.K.A. (CONSOLIDATED) PROFIT-AND-LOSS (P&L) STATEMENT,\n",
      "OR (CONSOLIDATED) EARNINGS STATEMENT, OR (CONSOLIDATED) OPERATIONS STATEMENT`\n",
      "(OR MOST SIMILAR-MEANING STATEMENT)\n",
      "\n",
      "OF 3M FOR 2022 FISCAL PERIOD?\n",
      "--------------------------\n",
      "The values in dollars for the Total Net Operating Revenue and Net Income for 3M for the 2022 fiscal period are as follows:\n",
      "\n",
      "- Total Net Operating Revenue (Total Net Sales): $34,229 million\n",
      "- Net Income (Net Profit, or Net Earnings Attributable to Shareholders): $5,777 million\n",
      "\n",
      "These figures are taken from the Consolidated Income Statement of 3M for the fiscal year ended December 31, 2022, as reported in the 3M 2022 10-K filing. The Total Net Sales represent the revenue generated from the sale of goods and services after deducting returns, allowances, and discounts. The Net Income is the profit calculated after all expenses, including taxes and interest, have been subtracted from the Total Net Sales. The values provided are specific numerical quantities that directly answer the posed question, and they are derived from a reliable source, the company's official annual report filed with the SEC.\n",
      "\u001b[0m\n",
      " 75%|███████▌  | 3/4 [00:40<00:13, 13.10s/it]\u001b[32m2024-06-03 01:33:36.256\u001b[0m | \u001b[34m\u001b[1mDEBUG   \u001b[0m | \u001b[36mopenssa.l2.planning.hierarchical.plan\u001b[0m:\u001b[36mexecute\u001b[0m:\u001b[36m127\u001b[0m - \u001b[34m\u001b[1m\n",
      "TASK-LEVEL REASONING\n",
      "====================\n",
      "\n",
      "ASSESS WHETHER 3M IS CAPITAL-INTENSIVE ACCORDING TO 2022 FISCAL PERIOD DATA\n",
      "\n",
      "CAPITAL-INTENSIVE BUSINESSES TEND TO HAVE ONE OR SEVERAL OF THE FOLLOWING CHARACTERISTICS:\n",
      "\n",
      "- HIGH `(NET) FIXED ASSETS, A.K.A. (NET) PROPERTY, PLANT & EQUIPMENT (PP&E)` AS PROPORTION OF `TOTAL ASSETS`,\n",
      "  E.G., OVER 25%;\n",
      "\n",
      "- HIGH `TOTAL ASSETS` RELATIVE TO `(TOTAL) (NET) (OPERATING) REVENUE(S), A.K.A. (TOTAL) (NET) SALES`,\n",
      "  E.G., OVER 2 TIMES;\n",
      "\n",
      "- HIGH `CAPITAL EXPENDITURE(S), A.K.A. CAPEX, OR CAPITAL SPENDING, OR PROPERTY, PLANT & EQUIPMENT (PP&E) EXPENDITURE(S)/PURCHASE(S)`\n",
      "  RELATIVE TO `(TOTAL) (NET) (OPERATING) REVENUE(S), A.K.A. (TOTAL) (NET) SALES`,\n",
      "  E.G., OVER 10%;\n",
      "\n",
      "  AND/OR\n",
      "\n",
      "- LOW `RETURN ON (TOTAL) ASSETS, A.K.A. ROA OR ROTA`,\n",
      "  E.G., UNDER 10%,\n",
      "  ACCORDING TO FORMULA:\n",
      "\n",
      "  `RETURN ON (TOTAL) ASSETS, A.K.A. ROA OR ROTA` = (\n",
      "    `NET INCOME, A.K.A. NET PROFIT, OR NET EARNINGS (OR LOSS(ES)) (ATTRIBUTABLE TO SHAREHOLDERS)` /\n",
      "    `AVERAGE TOTAL ASSETS, TYPICALLY BETWEEN TWO CONSECUTIVE FISCAL YEAR-ENDS`\n",
      "  )\n",
      "--------------------------\n",
      "To assess whether 3M is capital-intensive according to the 2022 fiscal period data, we need to examine the provided data against the characteristics of capital-intensive businesses. Based on the information provided:\n",
      "\n",
      "1. Net PP&E as a proportion of Total Assets:\n",
      "- For the previous annual fiscal period end immediately preceding 2022: Net PP&E was $9,429 million, and Total Assets were $46,854 million.\n",
      "- For the current 2022 annual fiscal period end: Net PP&E was $9,178 million, and Total Assets were $45,073 million.\n",
      "\n",
      "Calculating the proportion for 2022: ($9,178 million / $45,073 million) * 100 = 20.36%. This is below the 25% threshold, but still significant.\n",
      "\n",
      "2. Total Assets relative to Total Net Sales:\n",
      "- Total Net Sales for 2022: $34,229 million.\n",
      "- Total Assets at the end of 2022: $45,073 million.\n",
      "\n",
      "Calculating the multiple for 2022: $45,073 million / $34,229 million = 1.32 times. This is below the 2 times threshold.\n",
      "\n",
      "3. Capital Expenditure relative to Total Net Sales:\n",
      "- Capital Expenditures for 2022: $1,749 million.\n",
      "- Total Net Sales for 2022: $34,229 million.\n",
      "\n",
      "Calculating the proportion for 2022: ($1,749 million / $34,229 million) * 100 = 5.11%. This is below the 10% threshold.\n",
      "\n",
      "4. Return on Total Assets (RoA):\n",
      "- Net Income for 2022: $5,777 million.\n",
      "- Average Total Assets for 2022: ($46,854 million + $45,073 million) / 2 = $45,963.5 million.\n",
      "\n",
      "Calculating RoA for 2022: ($5,777 million / $45,963.5 million) * 100 = 12.57%. This is above the 10% threshold.\n",
      "\n",
      "Based on the data and the thresholds provided, 3M does not meet all the criteria to be classified as capital-intensive. While the proportion of Net PP&E to Total Assets is significant, it does not exceed the 25% threshold. Total Assets are not more than twice the Total Net Sales, Capital Expenditures are not more than 10% of Total Net Sales, and the RoA is above 10%. Therefore, according to the provided criteria, 3M would not be considered capital-intensive for the 2022 fiscal period.\n",
      "\u001b[0m\n",
      "100%|██████████| 4/4 [01:13<00:00, 18.34s/it]\n",
      "\u001b[32m2024-06-03 01:34:02.436\u001b[0m | \u001b[34m\u001b[1mDEBUG   \u001b[0m | \u001b[36mopenssa.l2.planning.hierarchical.plan\u001b[0m:\u001b[36mexecute\u001b[0m:\u001b[36m110\u001b[0m - \u001b[34m\u001b[1m\n",
      "TASK-LEVEL REASONING with Supporting/Other Results\n",
      "==================================================\n",
      "\n",
      "PLAN(task=Assess whether 3M is capital-intensive according to 2022 fiscal period data,\n",
      "     subs=[ PLAN(task=What are values in dollars of:\n",
      "                      - `(Net) Fixed Assets, a.k.a. (Net) Property, Plant & Equipment (PP&E)`; and\n",
      "                      - `Total Assets`\n",
      "                      (or most similar-meaning reported line item to those)\n",
      "                      \n",
      "                      on one same `(Consolidated) Balance Sheet, a.k.a. Statement of (Consolidated) Financial \n",
      "                      Position`\n",
      "                      (or most similar-meaning statement) of 3M\n",
      "                      (and NOT Balance Sheets of its acquired and/or divested companies)\n",
      "                      \n",
      "                      as at following two annual fiscal period ends:\n",
      "                      - previous annual fiscal period end immediately preceding 2022; and\n",
      "                      - current 2022 annual fiscal period end?),\n",
      "            PLAN(task=What is value in dollars of `Capital Expenditure(s), a.k.a. CapEx, or Capital Spending, or \n",
      "                      Property, Plant & Equipment (PP&E) Expenditure(s)/Purchase(s)` (or most similar-meaning \n",
      "                      reported line item)\n",
      "                      on `(Consolidated) Cash Flow(s) Statement(s), a.k.a. (Consolidated) Statement(s) of Cash Flows` \n",
      "                      (or most similar-meaning statement)\n",
      "                      of 3M for 2022 fiscal period?),\n",
      "            PLAN(task=What are values in dollars of:\n",
      "                      - `(Total) (Net) (Operating) Revenue(s), a.k.a. (Total) (Net) Sales`; and\n",
      "                      - `Net Income, a.k.a. Net Profit, or Net Earnings (or Loss(es)) (Attributable to \n",
      "                      Shareholders)`\n",
      "                      (or most similar-meaning reported line items to those)\n",
      "                      \n",
      "                      on `(Consolidated) Income Statement, a.k.a. (Consolidated) Profit-and-Loss (P&L) Statement,\n",
      "                      or (Consolidated) Earnings Statement, or (Consolidated) Operations Statement`\n",
      "                      (or most similar-meaning statement)\n",
      "                      \n",
      "                      of 3M for 2022 fiscal period?),\n",
      "            PLAN(task=Assess whether 3M is capital-intensive according to 2022 fiscal period data\n",
      "                      \n",
      "                      Capital-intensive businesses tend to have one or several of the following characteristics:\n",
      "                      \n",
      "                      - high `(Net) Fixed Assets, a.k.a. (Net) Property, Plant & Equipment (PP&E)` as proportion of \n",
      "                      `Total Assets`,\n",
      "                        e.g., over 25%;\n",
      "                      \n",
      "                      - high `Total Assets` relative to `(Total) (Net) (Operating) Revenue(s), a.k.a. (Total) (Net) \n",
      "                      Sales`,\n",
      "                        e.g., over 2 times;\n",
      "                      \n",
      "                      - high `Capital Expenditure(s), a.k.a. CapEx, or Capital Spending, or Property, Plant & \n",
      "                      Equipment (PP&E) Expenditure(s)/Purchase(s)`\n",
      "                        relative to `(Total) (Net) (Operating) Revenue(s), a.k.a. (Total) (Net) Sales`,\n",
      "                        e.g., over 10%;\n",
      "                      \n",
      "                        and/or\n",
      "                      \n",
      "                      - low `Return on (Total) Assets, a.k.a. RoA or RoTA`,\n",
      "                        e.g., under 10%,\n",
      "                        according to formula:\n",
      "                      \n",
      "                        `Return on (Total) Assets, a.k.a. RoA or RoTA` = (\n",
      "                          `Net Income, a.k.a. Net Profit, or Net Earnings (or Loss(es)) (Attributable to \n",
      "                      Shareholders)` /\n",
      "                          `average Total Assets, typically between two consecutive fiscal year-ends`\n",
      "                        ))])\n",
      "\n",
      "ASSESS WHETHER 3M IS CAPITAL-INTENSIVE ACCORDING TO 2022 FISCAL PERIOD DATA\n",
      "--------------------------\n",
      "Based on the 2022 fiscal period data, the assessment of whether 3M is a capital-intensive company requires analyzing specific financial metrics. The key figures to consider are the Net Property, Plant & Equipment (PP&E), Total Assets, Capital Expenditures (CapEx), Total Net Operating Revenue (Total Net Sales), and Net Income (Net Profit, or Net Earnings Attributable to Shareholders).\n",
      "\n",
      "From the 3M 2022 10-K filing, we have the following data:\n",
      "\n",
      "- At the end of 2021, Net PP&E was $9,429 million, and Total Assets were $46,854 million.\n",
      "- At the end of 2022, Net PP&E was $9,178 million, and Total Assets were $45,073 million.\n",
      "- Capital Expenditures for 2022 were $1,749 million.\n",
      "- Total Net Sales for 2022 were $34,229 million.\n",
      "- Net Income for 2022 was $5,777 million.\n",
      "\n",
      "To determine capital intensity, we look at the proportion of Net PP&E to Total Assets, Total Assets relative to Total Net Sales, Capital Expenditures relative to Total Net Sales, and the Return on Total Assets (RoA).\n",
      "\n",
      "1. The proportion of Net PP&E to Total Assets for 2022 is calculated as ($9,178 million / $45,073 million) * 100, which equals 20.36%. This figure is below the 25% threshold that might suggest a high capital intensity.\n",
      "\n",
      "2. The ratio of Total Assets to Total Net Sales for 2022 is $45,073 million / $34,229 million, which equals approximately 1.32 times. This is below the 2 times threshold, indicating that the company's assets are not excessively high compared to its revenue.\n",
      "\n",
      "3. Capital Expenditures relative to Total Net Sales for 2022 is ($1,749 million / $34,229 million) * 100, resulting in 5.11%. This is below the 10% threshold, suggesting that the company's investment in PP&E is not an overwhelmingly large portion of its sales.\n",
      "\n",
      "4. The Return on Total Assets (RoA) for 2022 is calculated by dividing Net Income by the average Total Assets between the end of 2021 and 2022: ($5,777 million / $45,963.5 million) * 100, which equals 12.57%. This is above the 10% threshold, indicating efficient use of assets to generate profits.\n",
      "\n",
      "Considering these calculations, 3M does not meet the typical criteria for being classified as a capital-intensive company for the 2022 fiscal period. The proportion of Net PP&E to Total Assets, the ratio of Total Assets to Total Net Sales, and the Capital Expenditures relative to Total Net Sales are all below the thresholds that would indicate a high level of capital intensity. Additionally, the RoA is above the threshold, suggesting that the company is generating a reasonable return on its assets. Therefore, according to the provided data and criteria, 3M would not be considered capital-intensive for the 2022 fiscal period.\n",
      "\n",
      " ^ \n",
      "/|\\\n",
      " | \n",
      "\n",
      "REASONING WITHOUT SUPPORTING/OTHER RESULTS (preliminary conclusions here can be overriden by more convincing supporting/other data):\n",
      "To assess whether 3M is capital-intensive according to the 2022 fiscal period data, we can look at the information provided by the '3M_2022_10K' resource. Capital intensity is typically determined by looking at the amount of capital investment relative to the labor employed in the company. A capital-intensive company is one that requires significant investment in physical assets such as property, plant, and equipment to generate revenue, and often has a high proportion of fixed assets compared to total assets.\n",
      "\n",
      "According to the '3M_2022_10K' resource, 3M has made significant investments in property, plant, and equipment, which is indicative of a capital-intensive business. The ongoing capital expenditures to support growth, productivity, and sustainability further reinforce this assessment. The substantial amount of total debt and net debt suggests that 3M relies on debt financing to fund its capital investments, which is common for capital-intensive companies that need large upfront investments.\n",
      "\n",
      "The cash flows from investing activities, which show notable investments in property, plant, and equipment, also support the conclusion that 3M is capital-intensive. The expected capital spending for 2023 of $1.5 billion to $1.8 billion indicates that 3M continues to invest heavily in its capital assets. Additionally, the diverse portfolio of debt instruments with varying maturities and interest rates in the company's long-term debt and short-term borrowings table suggests a reliance on substantial capital to support operations and strategic objectives.\n",
      "\n",
      "In conclusion, based on the 2022 fiscal period data, which includes significant investments in capital assets, high levels of debt, and ongoing capital expenditure plans, 3M can be confidently classified as a capital-intensive company.\n",
      "\n",
      "\n",
      "SUPPORTING QUESTION/TASK #1:\n",
      "What are values in dollars of:\n",
      "- `(Net) Fixed Assets, a.k.a. (Net) Property, Plant & Equipment (PP&E)`; and\n",
      "- `Total Assets`\n",
      "(or most similar-meaning reported line item to those)\n",
      "\n",
      "on one same `(Consolidated) Balance Sheet, a.k.a. Statement of (Consolidated) Financial Position`\n",
      "(or most similar-meaning statement) of 3M\n",
      "(and NOT Balance Sheets of its acquired and/or divested companies)\n",
      "\n",
      "as at following two annual fiscal period ends:\n",
      "- previous annual fiscal period end immediately preceding 2022; and\n",
      "- current 2022 annual fiscal period end?\n",
      "\n",
      "SUPPORTING RESULT #1:\n",
      "The provided information from the resource named '3M_2022_10K' appears to be directly relevant and sufficient to answer the posed question. The resource specifies the values for both Net Property, Plant & Equipment (PP&E) and Total Assets on the Consolidated Balance Sheet for 3M for the two specified fiscal period ends. According to the resource, the values are as follows:\n",
      "\n",
      "- For the previous annual fiscal period end immediately preceding 2022:\n",
      "  - Net Property, Plant & Equipment (PP&E): $9,429 million\n",
      "  - Total Assets: $46,854 million\n",
      "\n",
      "- For the current 2022 annual fiscal period end:\n",
      "  - Net Property, Plant & Equipment (PP&E): $9,178 million\n",
      "  - Total Assets: $45,073 million\n",
      "\n",
      "These values provide specific numerical quantities for the requested line items from the Consolidated Balance Sheet of 3M for the specified fiscal period ends. Therefore, the answer can be considered confident as it meets the rigorous bases/criteria/definitions for judgment and contains specific values for the numerical quantities requested.\n",
      "\n",
      "\n",
      "SUPPORTING QUESTION/TASK #2:\n",
      "What is value in dollars of `Capital Expenditure(s), a.k.a. CapEx, or Capital Spending, or Property, Plant & Equipment (PP&E) Expenditure(s)/Purchase(s)` (or most similar-meaning reported line item)\n",
      "on `(Consolidated) Cash Flow(s) Statement(s), a.k.a. (Consolidated) Statement(s) of Cash Flows` (or most similar-meaning statement)\n",
      "of 3M for 2022 fiscal period?\n",
      "\n",
      "SUPPORTING RESULT #2:\n",
      "The value in dollars of Capital Expenditures (CapEx) for 3M in the 2022 fiscal period, as reported on the Consolidated Statement of Cash Flows, is $1,749 million. This figure represents the amount 3M spent on Property, Plant, and Equipment (PP&E) during the year. The negative sign typically indicates a cash outflow in financial statements, which is consistent with the nature of capital expenditures as they are investments in long-term assets. Therefore, the specific value for the CapEx for 3M in 2022 is $1,749 million.\n",
      "\n",
      "\n",
      "SUPPORTING QUESTION/TASK #3:\n",
      "What are values in dollars of:\n",
      "- `(Total) (Net) (Operating) Revenue(s), a.k.a. (Total) (Net) Sales`; and\n",
      "- `Net Income, a.k.a. Net Profit, or Net Earnings (or Loss(es)) (Attributable to Shareholders)`\n",
      "(or most similar-meaning reported line items to those)\n",
      "\n",
      "on `(Consolidated) Income Statement, a.k.a. (Consolidated) Profit-and-Loss (P&L) Statement,\n",
      "or (Consolidated) Earnings Statement, or (Consolidated) Operations Statement`\n",
      "(or most similar-meaning statement)\n",
      "\n",
      "of 3M for 2022 fiscal period?\n",
      "\n",
      "SUPPORTING RESULT #3:\n",
      "The values in dollars for the Total Net Operating Revenue and Net Income for 3M for the 2022 fiscal period are as follows:\n",
      "\n",
      "- Total Net Operating Revenue (Total Net Sales): $34,229 million\n",
      "- Net Income (Net Profit, or Net Earnings Attributable to Shareholders): $5,777 million\n",
      "\n",
      "These figures are taken from the Consolidated Income Statement of 3M for the fiscal year ended December 31, 2022, as reported in the 3M 2022 10-K filing. The Total Net Sales represent the revenue generated from the sale of goods and services after deducting returns, allowances, and discounts. The Net Income is the profit calculated after all expenses, including taxes and interest, have been subtracted from the Total Net Sales. The values provided are specific numerical quantities that directly answer the posed question, and they are derived from a reliable source, the company's official annual report filed with the SEC.\n",
      "\n",
      "\n",
      "SUPPORTING QUESTION/TASK #4:\n",
      "Assess whether 3M is capital-intensive according to 2022 fiscal period data\n",
      "\n",
      "Capital-intensive businesses tend to have one or several of the following characteristics:\n",
      "\n",
      "- high `(Net) Fixed Assets, a.k.a. (Net) Property, Plant & Equipment (PP&E)` as proportion of `Total Assets`,\n",
      "  e.g., over 25%;\n",
      "\n",
      "- high `Total Assets` relative to `(Total) (Net) (Operating) Revenue(s), a.k.a. (Total) (Net) Sales`,\n",
      "  e.g., over 2 times;\n",
      "\n",
      "- high `Capital Expenditure(s), a.k.a. CapEx, or Capital Spending, or Property, Plant & Equipment (PP&E) Expenditure(s)/Purchase(s)`\n",
      "  relative to `(Total) (Net) (Operating) Revenue(s), a.k.a. (Total) (Net) Sales`,\n",
      "  e.g., over 10%;\n",
      "\n",
      "  and/or\n",
      "\n",
      "- low `Return on (Total) Assets, a.k.a. RoA or RoTA`,\n",
      "  e.g., under 10%,\n",
      "  according to formula:\n",
      "\n",
      "  `Return on (Total) Assets, a.k.a. RoA or RoTA` = (\n",
      "    `Net Income, a.k.a. Net Profit, or Net Earnings (or Loss(es)) (Attributable to Shareholders)` /\n",
      "    `average Total Assets, typically between two consecutive fiscal year-ends`\n",
      "  )\n",
      "\n",
      "SUPPORTING RESULT #4:\n",
      "To assess whether 3M is capital-intensive according to the 2022 fiscal period data, we need to examine the provided data against the characteristics of capital-intensive businesses. Based on the information provided:\n",
      "\n",
      "1. Net PP&E as a proportion of Total Assets:\n",
      "- For the previous annual fiscal period end immediately preceding 2022: Net PP&E was $9,429 million, and Total Assets were $46,854 million.\n",
      "- For the current 2022 annual fiscal period end: Net PP&E was $9,178 million, and Total Assets were $45,073 million.\n",
      "\n",
      "Calculating the proportion for 2022: ($9,178 million / $45,073 million) * 100 = 20.36%. This is below the 25% threshold, but still significant.\n",
      "\n",
      "2. Total Assets relative to Total Net Sales:\n",
      "- Total Net Sales for 2022: $34,229 million.\n",
      "- Total Assets at the end of 2022: $45,073 million.\n",
      "\n",
      "Calculating the multiple for 2022: $45,073 million / $34,229 million = 1.32 times. This is below the 2 times threshold.\n",
      "\n",
      "3. Capital Expenditure relative to Total Net Sales:\n",
      "- Capital Expenditures for 2022: $1,749 million.\n",
      "- Total Net Sales for 2022: $34,229 million.\n",
      "\n",
      "Calculating the proportion for 2022: ($1,749 million / $34,229 million) * 100 = 5.11%. This is below the 10% threshold.\n",
      "\n",
      "4. Return on Total Assets (RoA):\n",
      "- Net Income for 2022: $5,777 million.\n",
      "- Average Total Assets for 2022: ($46,854 million + $45,073 million) / 2 = $45,963.5 million.\n",
      "\n",
      "Calculating RoA for 2022: ($5,777 million / $45,963.5 million) * 100 = 12.57%. This is above the 10% threshold.\n",
      "\n",
      "Based on the data and the thresholds provided, 3M does not meet all the criteria to be classified as capital-intensive. While the proportion of Net PP&E to Total Assets is significant, it does not exceed the 25% threshold. Total Assets are not more than twice the Total Net Sales, Capital Expenditures are not more than 10% of Total Net Sales, and the RoA is above 10%. Therefore, according to the provided criteria, 3M would not be considered capital-intensive for the 2022 fiscal period.\n",
      "\u001b[0m\n"
     ]
    }
   ],
   "source": [
    "agent = Agent(planner=AutoHTPlanner(max_depth=2, max_subtasks_per_decomp=4),\n",
    "                reasoner=OodaReasoner(),\n",
    "                knowledge=None,\n",
    "                resources={FileResource(path=DOC_PATH)})\n",
    "\n",
    "expert_htp_statiscally_solution = agent.solve(problem=PROBLEM, plan=EXPERT_HTP, dynamic=False)"
   ]
  },
  {
   "cell_type": "code",
   "execution_count": 81,
   "metadata": {},
   "outputs": [
    {
     "name": "stdout",
     "output_type": "stream",
     "text": [
      "PROBLEM: \n",
      "====================\n",
      "Is 3M a capital-intensive business based on FY2022 data? \n",
      "\n",
      "GROUTH TRUTH ANSWER: \n",
      "====================\n",
      "\n",
      "    No, the company is managing its CAPEX and Fixed Assets pretty efficiently,\n",
      "    which is evident from below key metrics:\n",
      "    CAPEX/Revenue Ratio: 5.1%\n",
      "    Fixed assets/Total Assets: 20%\n",
      "    Return on Assets= 12.4% \n",
      "\n",
      "AGENT'S SUMMARIZED ANSWER:\n",
      "====================\n",
      "Based on the 2022 fiscal period data from 3M's 10-K filing, the analysis of\n",
      "specific financial metrics such as the proportion of Net PP&E to Total Assets,\n",
      "Total Assets to Total Net Sales ratio, Capital Expenditures to Total Net Sales\n",
      "ratio, and Return on Total Assets (RoA) suggests that 3M is not classified as a\n",
      "capital-intensive company for the 2022 fiscal period. The figures indicate that\n",
      "the company's capital intensity levels, investment in property,\n"
     ]
    }
   ],
   "source": [
    "print_solution(expert_htp_statiscally_solution)"
   ]
  },
  {
   "cell_type": "markdown",
   "metadata": {},
   "source": [
    "## 3. Add Your Own Domain Expertise to Enhance the Agent"
   ]
  },
  {
   "cell_type": "markdown",
   "metadata": {},
   "source": [
    "### Before Adding Knowledge"
   ]
  },
  {
   "cell_type": "code",
   "execution_count": null,
   "metadata": {},
   "outputs": [],
   "source": []
  },
  {
   "cell_type": "markdown",
   "metadata": {},
   "source": [
    "### After Adding Knowledge"
   ]
  },
  {
   "cell_type": "code",
   "execution_count": null,
   "metadata": {},
   "outputs": [],
   "source": []
  },
  {
   "cell_type": "markdown",
   "metadata": {},
   "source": [
    "#### Sample Knowledge \n",
    "\n",
    "```\n",
    "Balance-Sheet Line-Item Synonyms\n",
    "--------------------------------\n",
    "\n",
    "- \"Total Assets\", \"TA(s)\"\n",
    "\n",
    "- \"(Net) Fixed Assets\", \"(Net) FA(s)\",\n",
    "  \"(Net) Property, Plant & Equipment\", \"(Net) PP&E\", \"(Net) PPNE\",\n",
    "  \"(Net) Property & Equipment\", \"(Net) Plant & Equipment\", \"(Net) Property, Equipment & Intangibles\"\n",
    "\n",
    "- \"(Total) (Net) Inventory\", \"(Total) (Net) Inventories\",\n",
    "  \"(Total) (Net) Merchandise Inventory\", \"(Total) (Net) Merchandise Inventories\"\n",
    "\n",
    "- \"(Net) Accounts Receivable\", \"(Net) AR\", \"(Net) (Trade) Receivables\"\n",
    "\n",
    "- \"(Net) Accounts Payable\", \"(Net) AP\"\n",
    "```"
   ]
  },
  {
   "cell_type": "markdown",
   "metadata": {},
   "source": []
  }
 ],
 "metadata": {
  "kernelspec": {
   "display_name": ".venv",
   "language": "python",
   "name": "python3"
  },
  "language_info": {
   "codemirror_mode": {
    "name": "ipython",
    "version": 3
   },
   "file_extension": ".py",
   "mimetype": "text/x-python",
   "name": "python",
   "nbconvert_exporter": "python",
   "pygments_lexer": "ipython3",
   "version": "3.12.2"
  }
 },
 "nbformat": 4,
 "nbformat_minor": 2
}
