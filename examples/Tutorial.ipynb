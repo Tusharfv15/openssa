{
 "cells": [
  {
   "cell_type": "markdown",
   "metadata": {},
   "source": [
    "# Build an AI Agent with SEC Filing Insights in Just 10 Minutes Using OpenSSA"
   ]
  },
  {
   "cell_type": "markdown",
   "metadata": {},
   "source": [
    "In this tutorial, you will learn how to:\n",
    "\n",
    "1. Build an AI Agent from Scratch Using openSSA\n",
    "2. Customize Plans to Guide the Agent Through Complex Problem-Solving\n",
    "3. Add Your Own Domain Expertise to Enhance the Agent"
   ]
  },
  {
   "cell_type": "markdown",
   "metadata": {},
   "source": [
    "## Setups"
   ]
  },
  {
   "cell_type": "markdown",
   "metadata": {},
   "source": [
    "Let's start by impporting the neccessary dependencies."
   ]
  },
  {
   "cell_type": "code",
   "execution_count": 1,
   "metadata": {},
   "outputs": [],
   "source": [
    "%load_ext autoreload\n",
    "%autoreload"
   ]
  },
  {
   "cell_type": "code",
   "execution_count": 2,
   "metadata": {},
   "outputs": [],
   "source": [
    "from pprint import pprint\n",
    "from IPython.display import display, Markdown"
   ]
  },
  {
   "cell_type": "code",
   "execution_count": 3,
   "metadata": {},
   "outputs": [],
   "source": [
    "import os\n",
    "import sys\n",
    "\n",
    "if cwd_is_root := ('examples' in os.listdir()):\n",
    "    sys.path.append('examples')"
   ]
  },
  {
   "cell_type": "markdown",
   "metadata": {},
   "source": [
    "Make sure you plave your OpenAI API key in `example/.env`\n",
    "\n",
    "```\n",
    "OPENAI_API_KEY=...\n",
    "```\n",
    "\n",
    "[Where do I find my OpenAI API Key?](https://help.openai.com/en/articles/4936850-where-do-i-find-my-openai-api-key)"
   ]
  },
  {
   "cell_type": "code",
   "execution_count": 4,
   "metadata": {},
   "outputs": [
    {
     "name": "stdout",
     "output_type": "stream",
     "text": [
      "Sanity check if we have the OpenAI API setup:  False\n"
     ]
    }
   ],
   "source": [
    "from pathlib import Path\n",
    "from dotenv import load_dotenv\n",
    "\n",
    "print('Sanity check if we have the OpenAI API setup: ', load_dotenv(dotenv_path=Path('examples' if cwd_is_root else '.') / '.env'))"
   ]
  },
  {
   "cell_type": "code",
   "execution_count": 12,
   "metadata": {},
   "outputs": [],
   "source": [
    "from openssa import Agent, HTP, AutoHTPlanner, OodaReasoner, FileResource\n",
    "from openssa.utils.llms import OpenAILLM"
   ]
  },
  {
   "cell_type": "markdown",
   "metadata": {},
   "source": [
    "## 1. Build an AI Agent from Scratch Using OpenSSA"
   ]
  },
  {
   "cell_type": "markdown",
   "metadata": {},
   "source": [
    "### Build Agent"
   ]
  },
  {
   "cell_type": "markdown",
   "metadata": {},
   "source": [
    "We're going to use the FinanceBench dataset to demonstrate. We have loaded a sample SEC filing for 3M from 2022. \n",
    "\n",
    "https://github.com/patronus-ai/financebench/blob/main/pdfs/3M_2022_10K.pdf"
   ]
  },
  {
   "cell_type": "code",
   "execution_count": 5,
   "metadata": {},
   "outputs": [],
   "source": [
    "DOC_PATH = 'sample_data/3M_2022_10K/'\n",
    "PROBLEM = 'Is 3M a capital-intensive business based on FY2022 data?'\n",
    "GROUTH_TRUTH_ANSWER ='''\n",
    "    No, the company is managing its CAPEX and Fixed Assets pretty efficiently,\n",
    "    which is evident from below key metrics:\n",
    "    CAPEX/Revenue Ratio: 5.1%\n",
    "    Fixed assets/Total Assets: 20%\n",
    "    Return on Assets= 12.4%'''"
   ]
  },
  {
   "cell_type": "code",
   "execution_count": 53,
   "metadata": {},
   "outputs": [],
   "source": [
    "# util function to summarize answer\n",
    "def summarize_ans(ans, max_tokens=100):\n",
    "    llm=OpenAILLM()\n",
    "    response = llm.call(\n",
    "        messages=[\n",
    "            {\"role\": \"system\", \"content\": \"You are a helpful assistant.\"},\n",
    "            {\"role\": \"user\", \"content\": \"Please summarize the following text into 1-2 sentences: \" + ans}\n",
    "        ],\n",
    "        max_tokens=max_tokens,\n",
    "        temperature=0.7\n",
    "    )\n",
    "    summary = response.choices[0].message.content\n",
    "    return summary"
   ]
  },
  {
   "cell_type": "code",
   "execution_count": 54,
   "metadata": {},
   "outputs": [],
   "source": [
    "# util function to print\n",
    "import textwrap\n",
    "def print_solution(sol, present_full_answer=False):\n",
    "    print('PROBLEM: ')\n",
    "    print('====================')\n",
    "    print(PROBLEM, '\\n')\n",
    "    print('GROUTH TRUTH ANSWER: ')\n",
    "    print('====================')\n",
    "    print(GROUTH_TRUTH_ANSWER, '\\n')\n",
    "    print('AGENT\\'S SUMMARIZED ANSWER:')\n",
    "    print('====================')\n",
    "    print(textwrap.fill(summarize_ans(sol), 80))\n",
    "    if present_full_answer:\n",
    "        print('AGENT\\'S FULL ANSWER:')\n",
    "        print('====================')\n",
    "        print(textwrap.fill(sol, 80))\n"
   ]
  },
  {
   "cell_type": "markdown",
   "metadata": {},
   "source": [
    "Let's build our first agent with all default settings. "
   ]
  },
  {
   "cell_type": "code",
   "execution_count": 9,
   "metadata": {},
   "outputs": [
    {
     "name": "stderr",
     "output_type": "stream",
     "text": [
      "/Users/quynhle/Desktop/project-local/openssa-3.12/lib/python3.12/site-packages/tqdm/auto.py:21: TqdmWarning: IProgress not found. Please update jupyter and ipywidgets. See https://ipywidgets.readthedocs.io/en/stable/user_install.html\n",
      "  from .autonotebook import tqdm as notebook_tqdm\n",
      "Parsing nodes: 100%|██████████| 252/252 [00:00<00:00, 929.28it/s]\n",
      "Generating embeddings: 100%|██████████| 312/312 [00:07<00:00, 40.75it/s]\n"
     ]
    }
   ],
   "source": [
    "# Build a base agent\n",
    "agent = Agent(planner=None,\n",
    "              reasoner=OodaReasoner(),\n",
    "              knowledge=None,\n",
    "              resources={FileResource(path=DOC_PATH)})\n",
    "\n",
    "base_solution = agent.solve(problem=PROBLEM, plan=None, dynamic=False)"
   ]
  },
  {
   "cell_type": "code",
   "execution_count": 41,
   "metadata": {},
   "outputs": [
    {
     "name": "stdout",
     "output_type": "stream",
     "text": [
      "PROBLEM: \n",
      "====================\n",
      "Is 3M a capital-intensive business based on FY2022 data? \n",
      "\n",
      "GROUTH TRUTH ANSWER: \n",
      "====================\n",
      "\n",
      "    No, the company is managing its CAPEX and Fixed Assets pretty efficiently,\n",
      "    which is evident from below key metrics:\n",
      "    CAPEX/Revenue Ratio: 5.1%\n",
      "    Fixed assets/Total Assets: 20%\n",
      "    Return on Assets= 12.4% \n",
      "\n",
      "AGENT'S SUMMARIZED ANSWER:\n",
      "====================\n",
      "Based on FY2022 data, 3M is confirmed as a capital-intensive business, as\n",
      "evidenced by its high capital expenditures of $1,831 million and total assets of\n",
      "$46,455 million. The company's significant investments in physical assets,\n",
      "technology, facilities, sustainability, and workforce development indicate a\n",
      "strong reliance on capital investment for growth, efficiency, and innovation.\n"
     ]
    }
   ],
   "source": [
    "print_solution(base_solution)"
   ]
  },
  {
   "cell_type": "markdown",
   "metadata": {},
   "source": [
    "In this example, we can see the default answer is not that good. 3M is not a capital intensive business but the agent failed to answer the question correctly. Let's incorporate planning capability to enhance the agent."
   ]
  },
  {
   "cell_type": "markdown",
   "metadata": {},
   "source": [
    "## Customize Plans to Guide the Agent Through Complex Problem-Solving"
   ]
  },
  {
   "cell_type": "markdown",
   "metadata": {},
   "source": [
    "### Auto-generated plan with OpenSSA"
   ]
  },
  {
   "cell_type": "markdown",
   "metadata": {},
   "source": [
    "Let's upgrade our agent to incorporate planning, in this example we're decomposing the task into 4 subtasks with a hierachy with the depth of 2 layers. Each plan for the subtask is auto-generated by an LLM."
   ]
  },
  {
   "cell_type": "code",
   "execution_count": null,
   "metadata": {},
   "outputs": [],
   "source": [
    "# RUN THIS CELL AGAIN TO SEE THE FULL LOGS\n",
    "agent = Agent(planner=AutoHTPlanner(max_depth=2, max_subtasks_per_decomp=4),\n",
    "                reasoner=OodaReasoner(),\n",
    "                knowledge=None,\n",
    "                resources={FileResource(path=DOC_PATH)})\n",
    "\n",
    "auto_htp_statically_solution = agent.solve(problem=PROBLEM, plan=None, dynamic=False)"
   ]
  },
  {
   "cell_type": "markdown",
   "metadata": {},
   "source": [
    "** Note that the full logs of HTP steps have been cleared for better readability. To show full logs to understand step-by-step execution of HTP, run the above cell again."
   ]
  },
  {
   "cell_type": "code",
   "execution_count": 47,
   "metadata": {},
   "outputs": [
    {
     "name": "stdout",
     "output_type": "stream",
     "text": [
      "PROBLEM: \n",
      "====================\n",
      "Is 3M a capital-intensive business based on FY2022 data? \n",
      "\n",
      "GROUTH TRUTH ANSWER: \n",
      "====================\n",
      "\n",
      "    No, the company is managing its CAPEX and Fixed Assets pretty efficiently,\n",
      "    which is evident from below key metrics:\n",
      "    CAPEX/Revenue Ratio: 5.1%\n",
      "    Fixed assets/Total Assets: 20%\n",
      "    Return on Assets= 12.4% \n",
      "\n",
      "AGENT'S SUMMARIZED ANSWER:\n",
      "====================\n",
      "Based on the FY2022 data provided in the 3M 10-K report, while we cannot\n",
      "definitively confirm 3M's capital intensity due to the lack of total revenue\n",
      "figures and industry comparisons, the significant proportion of assets tied up\n",
      "in property, plant, and equipment (PP&E) at 24.6% suggests that 3M likely\n",
      "operates as a capital-intensive business. Further analysis with additional data\n",
      "is needed for a conclusive assessment.\n"
     ]
    }
   ],
   "source": [
    "print_solution(auto_htp_statically_solution)"
   ]
  },
  {
   "cell_type": "markdown",
   "metadata": {},
   "source": [
    "### Auto-generated plan with dynamically solving"
   ]
  },
  {
   "cell_type": "code",
   "execution_count": 48,
   "metadata": {},
   "outputs": [],
   "source": [
    "agent = Agent(planner=AutoHTPlanner(max_depth=2, max_subtasks_per_decomp=4),\n",
    "                reasoner=OodaReasoner(),\n",
    "                knowledge=None,\n",
    "                resources={FileResource(path=DOC_PATH)})\n",
    "\n",
    "auto_htp_dynamically_solution = agent.solve(problem=PROBLEM, plan=None, dynamic=True)"
   ]
  },
  {
   "cell_type": "code",
   "execution_count": 49,
   "metadata": {},
   "outputs": [
    {
     "name": "stdout",
     "output_type": "stream",
     "text": [
      "PROBLEM: \n",
      "====================\n",
      "Is 3M a capital-intensive business based on FY2022 data? \n",
      "\n",
      "GROUTH TRUTH ANSWER: \n",
      "====================\n",
      "\n",
      "    No, the company is managing its CAPEX and Fixed Assets pretty efficiently,\n",
      "    which is evident from below key metrics:\n",
      "    CAPEX/Revenue Ratio: 5.1%\n",
      "    Fixed assets/Total Assets: 20%\n",
      "    Return on Assets= 12.4% \n",
      "\n",
      "AGENT'S SUMMARIZED ANSWER:\n",
      "====================\n",
      "The FY2022 data reveals that 3M is a capital-intensive business, as evidenced by\n",
      "its significant capital expenditures on property, plant, and equipment amounting\n",
      "to $1,831 million, substantial total assets of $46,455 million, and projected\n",
      "capital spending for 2023 estimated between $1.5 billion and $1.8 billion. The\n",
      "company's strategic focus on maintaining and expanding manufacturing\n",
      "capabilities and managing raw material inventories further supports its capital-\n",
      "intensive nature.\n"
     ]
    }
   ],
   "source": [
    "print_solution(auto_htp_dynamically_solution)"
   ]
  },
  {
   "cell_type": "markdown",
   "metadata": {},
   "source": [
    "### Customized plan provided by the user"
   ]
  },
  {
   "cell_type": "markdown",
   "metadata": {},
   "source": [
    "The sample plan is provided in the `sample_data/expert-plan-templates-sample.yml'`. Let's load it and see how an expert plan is structured."
   ]
  },
  {
   "cell_type": "code",
   "execution_count": 73,
   "metadata": {},
   "outputs": [
    {
     "name": "stdout",
     "output_type": "stream",
     "text": [
      "{'task': 'Assess whether 3M is capital-intensive according to 2022 fiscal period data', 'sub-plans': [{'task': 'What are values in dollars of:\\n- `(Net) Fixed Assets, a.k.a. (Net) Property, Plant & Equipment (PP&E)`; and\\n- `Total Assets`\\n(or most similar-meaning reported line item to those)\\n\\non one same `(Consolidated) Balance Sheet, a.k.a. Statement of (Consolidated) Financial Position`\\n(or most similar-meaning statement) of 3M\\n(and NOT Balance Sheets of its acquired and/or divested companies)\\n\\nas at following two annual fiscal period ends:\\n- previous annual fiscal period end immediately preceding 2022; and\\n- current 2022 annual fiscal period end?'}, {'task': 'What is value in dollars of `Capital Expenditure(s), a.k.a. CapEx, or Capital Spending, or Property, Plant & Equipment (PP&E) Expenditure(s)/Purchase(s)` (or most similar-meaning reported line item)\\non `(Consolidated) Cash Flow(s) Statement(s), a.k.a. (Consolidated) Statement(s) of Cash Flows` (or most similar-meaning statement)\\nof 3M for 2022 fiscal period?'}, {'task': 'What are values in dollars of:\\n- `(Total) (Net) (Operating) Revenue(s), a.k.a. (Total) (Net) Sales`; and\\n- `Net Income, a.k.a. Net Profit, or Net Earnings (or Loss(es)) (Attributable to Shareholders)`\\n(or most similar-meaning reported line items to those)\\n\\non `(Consolidated) Income Statement, a.k.a. (Consolidated) Profit-and-Loss (P&L) Statement,\\nor (Consolidated) Earnings Statement, or (Consolidated) Operations Statement`\\n(or most similar-meaning statement)\\n\\nof 3M for 2022 fiscal period?'}, {'task': 'Assess whether 3M is capital-intensive according to 2022 fiscal period data\\n\\nCapital-intensive businesses tend to have one or several of the following characteristics:\\n\\n- high `(Net) Fixed Assets, a.k.a. (Net) Property, Plant & Equipment (PP&E)` as proportion of `Total Assets`,\\n  e.g., over 25%;\\n\\n- high `Total Assets` relative to `(Total) (Net) (Operating) Revenue(s), a.k.a. (Total) (Net) Sales`,\\n  e.g., over 2 times;\\n\\n- high `Capital Expenditure(s), a.k.a. CapEx, or Capital Spending, or Property, Plant & Equipment (PP&E) Expenditure(s)/Purchase(s)`\\n  relative to `(Total) (Net) (Operating) Revenue(s), a.k.a. (Total) (Net) Sales`,\\n  e.g., over 10%;\\n\\n  and/or\\n\\n- low `Return on (Total) Assets, a.k.a. RoA or RoTA`,\\n  e.g., under 10%,\\n  according to formula:\\n\\n  `Return on (Total) Assets, a.k.a. RoA or RoTA` = (\\n    `Net Income, a.k.a. Net Profit, or Net Earnings (or Loss(es)) (Attributable to Shareholders)` /\\n    `average Total Assets, typically between two consecutive fiscal year-ends`\\n  )'}]}\n"
     ]
    }
   ],
   "source": [
    "import yaml\n",
    "variables = {\n",
    "    'COMPANY': '3M',\n",
    "    'PERIOD': '2022'\n",
    "}\n",
    "\n",
    "with open('sample_data/expert-plan-templates-sample.yml', 'r') as file:\n",
    "    EXPERT_PLAN_TEMPLATES_CONTENT = file.read()\n",
    "EXPERT_PLAN_TEMPLATES_CONTENT = EXPERT_PLAN_TEMPLATES_CONTENT.format(**variables)\n",
    "EXPERT_PLAN = yaml.safe_load(EXPERT_PLAN_TEMPLATES_CONTENT)\n",
    "print(EXPERT_PLAN)"
   ]
  },
  {
   "cell_type": "code",
   "execution_count": 74,
   "metadata": {},
   "outputs": [],
   "source": [
    "htp = HTP.from_dict(EXPERT_PLAN)"
   ]
  },
  {
   "cell_type": "code",
   "execution_count": 78,
   "metadata": {},
   "outputs": [
    {
     "data": {
      "text/plain": [
       "HTP(task=Task(ask='Assess whether 3M is capital-intensive according to 2022 fiscal period data', resources=set(), nature=None, status=<TaskStatus.PENDING: 'pending'>, result=None, dynamic_decomposer=None), sub_plans=[HTP(task=Task(ask='What are values in dollars of:\\n- `(Net) Fixed Assets, a.k.a. (Net) Property, Plant & Equipment (PP&E)`; and\\n- `Total Assets`\\n(or most similar-meaning reported line item to those)\\n\\non one same `(Consolidated) Balance Sheet, a.k.a. Statement of (Consolidated) Financial Position`\\n(or most similar-meaning statement) of 3M\\n(and NOT Balance Sheets of its acquired and/or divested companies)\\n\\nas at following two annual fiscal period ends:\\n- previous annual fiscal period end immediately preceding 2022; and\\n- current 2022 annual fiscal period end?', resources=set(), nature=None, status=<TaskStatus.PENDING: 'pending'>, result=None, dynamic_decomposer=None), sub_plans=[]), HTP(task=Task(ask='What is value in dollars of `Capital Expenditure(s), a.k.a. CapEx, or Capital Spending, or Property, Plant & Equipment (PP&E) Expenditure(s)/Purchase(s)` (or most similar-meaning reported line item)\\non `(Consolidated) Cash Flow(s) Statement(s), a.k.a. (Consolidated) Statement(s) of Cash Flows` (or most similar-meaning statement)\\nof 3M for 2022 fiscal period?', resources=set(), nature=None, status=<TaskStatus.PENDING: 'pending'>, result=None, dynamic_decomposer=None), sub_plans=[]), HTP(task=Task(ask='What are values in dollars of:\\n- `(Total) (Net) (Operating) Revenue(s), a.k.a. (Total) (Net) Sales`; and\\n- `Net Income, a.k.a. Net Profit, or Net Earnings (or Loss(es)) (Attributable to Shareholders)`\\n(or most similar-meaning reported line items to those)\\n\\non `(Consolidated) Income Statement, a.k.a. (Consolidated) Profit-and-Loss (P&L) Statement,\\nor (Consolidated) Earnings Statement, or (Consolidated) Operations Statement`\\n(or most similar-meaning statement)\\n\\nof 3M for 2022 fiscal period?', resources=set(), nature=None, status=<TaskStatus.PENDING: 'pending'>, result=None, dynamic_decomposer=None), sub_plans=[]), HTP(task=Task(ask='Assess whether 3M is capital-intensive according to 2022 fiscal period data\\n\\nCapital-intensive businesses tend to have one or several of the following characteristics:\\n\\n- high `(Net) Fixed Assets, a.k.a. (Net) Property, Plant & Equipment (PP&E)` as proportion of `Total Assets`,\\n  e.g., over 25%;\\n\\n- high `Total Assets` relative to `(Total) (Net) (Operating) Revenue(s), a.k.a. (Total) (Net) Sales`,\\n  e.g., over 2 times;\\n\\n- high `Capital Expenditure(s), a.k.a. CapEx, or Capital Spending, or Property, Plant & Equipment (PP&E) Expenditure(s)/Purchase(s)`\\n  relative to `(Total) (Net) (Operating) Revenue(s), a.k.a. (Total) (Net) Sales`,\\n  e.g., over 10%;\\n\\n  and/or\\n\\n- low `Return on (Total) Assets, a.k.a. RoA or RoTA`,\\n  e.g., under 10%,\\n  according to formula:\\n\\n  `Return on (Total) Assets, a.k.a. RoA or RoTA` = (\\n    `Net Income, a.k.a. Net Profit, or Net Earnings (or Loss(es)) (Attributable to Shareholders)` /\\n    `average Total Assets, typically between two consecutive fiscal year-ends`\\n  )', resources=set(), nature=None, status=<TaskStatus.PENDING: 'pending'>, result=None, dynamic_decomposer=None), sub_plans=[])])"
      ]
     },
     "execution_count": 78,
     "metadata": {},
     "output_type": "execute_result"
    }
   ],
   "source": [
    "from openssa import HTP\n",
    "from openssa.l2.task import Task\n",
    "\n",
    "EXPERT_HTP =  HTP(task=Task.from_dict_or_str(EXPERT_PLAN['task']),  # pylint: disable=unexpected-keyword-arg\n",
    "                   sub_plans=[HTP.from_dict(d) for d in EXPERT_PLAN.get('sub-plans', [])])\n",
    "\n",
    "htp"
   ]
  },
  {
   "cell_type": "code",
   "execution_count": null,
   "metadata": {},
   "outputs": [],
   "source": [
    "# RUN THIS CELL AGAIN TO SEE THE FULL LOGS\n",
    "agent = Agent(planner=AutoHTPlanner(max_depth=2, max_subtasks_per_decomp=4),\n",
    "                reasoner=OodaReasoner(),\n",
    "                knowledge=None,\n",
    "                resources={FileResource(path=DOC_PATH)})\n",
    "\n",
    "expert_htp_statiscally_solution = agent.solve(problem=PROBLEM, plan=EXPERT_HTP, dynamic=False)"
   ]
  },
  {
   "cell_type": "code",
   "execution_count": 81,
   "metadata": {},
   "outputs": [
    {
     "name": "stdout",
     "output_type": "stream",
     "text": [
      "PROBLEM: \n",
      "====================\n",
      "Is 3M a capital-intensive business based on FY2022 data? \n",
      "\n",
      "GROUTH TRUTH ANSWER: \n",
      "====================\n",
      "\n",
      "    No, the company is managing its CAPEX and Fixed Assets pretty efficiently,\n",
      "    which is evident from below key metrics:\n",
      "    CAPEX/Revenue Ratio: 5.1%\n",
      "    Fixed assets/Total Assets: 20%\n",
      "    Return on Assets= 12.4% \n",
      "\n",
      "AGENT'S SUMMARIZED ANSWER:\n",
      "====================\n",
      "Based on the 2022 fiscal period data from 3M's 10-K filing, the analysis of\n",
      "specific financial metrics such as the proportion of Net PP&E to Total Assets,\n",
      "Total Assets to Total Net Sales ratio, Capital Expenditures to Total Net Sales\n",
      "ratio, and Return on Total Assets (RoA) suggests that 3M is not classified as a\n",
      "capital-intensive company for the 2022 fiscal period. The figures indicate that\n",
      "the company's capital intensity levels, investment in property,\n"
     ]
    }
   ],
   "source": [
    "print_solution(expert_htp_statiscally_solution)"
   ]
  },
  {
   "cell_type": "markdown",
   "metadata": {},
   "source": [
    "With the added expert's plan, we can see the agent can answer the question correctly this time! The agent can now identify that 3M is not a capital-intensive business!"
   ]
  },
  {
   "cell_type": "markdown",
   "metadata": {},
   "source": [
    "## 3. Add Your Own Domain Expertise to Enhance the Agent"
   ]
  },
  {
   "cell_type": "markdown",
   "metadata": {},
   "source": [
    "### Before Adding Knowledge"
   ]
  },
  {
   "cell_type": "code",
   "execution_count": null,
   "metadata": {},
   "outputs": [],
   "source": [
    "agent = Agent(planner=None,\n",
    "              reasoner=OodaReasoner(),\n",
    "              knowledge=None,\n",
    "              resources={FileResource(path=DOC_PATH)})"
   ]
  },
  {
   "cell_type": "markdown",
   "metadata": {},
   "source": [
    "### After Adding Knowledge"
   ]
  },
  {
   "cell_type": "markdown",
   "metadata": {},
   "source": [
    "#### Auto-generated plan with added knowledge"
   ]
  },
  {
   "cell_type": "code",
   "execution_count": 103,
   "metadata": {},
   "outputs": [
    {
     "name": "stdout",
     "output_type": "stream",
     "text": [
      "FINANCIAL SYNONYMS\n",
      "==================\n",
      "\n",
      "- \"(Consolidated) Balance Sheet(s)\",\n",
      "  \"Statement(s) of (Consolidated) Financial Position\", \"(Consolidated) Statement(s) of Financial Position\"\n",
      "\n",
      "- \"(Consolidated) Cash Flow(s) Statement(s)\", \"(Consolidated) Statement(s) of Cash Flows\"\n",
      "\n",
      "- \"(Consolidated) Income Statement(s)\", \"Statement(s) of (Consolidated) Income\", \"(Consolidated) Statement(s) of Income\",\n",
      "  \"(Consolidated) Profit-and-Loss Statement(s)\", \"(Consolidated) P&L (Statement(s))\",\n",
      "  \"(Consolidated) Earnings Statement(s)\", \"Statement(s) of (Consolidated) Earnings\", \"(Consolidated) Statement(s) of Earnings\",\n",
      "  \"(Consolidated) Operations Statement(s)\", \"Statement(s) of (Consolidated) Operations\", \"(Consolidated) Statement(s) of Operations\"\n",
      "\n",
      "\n",
      "Balance-Sheet Line-Item Synonyms\n",
      "--------------------------------\n",
      "\n",
      "- \"Total Assets\", \"TA(s)\"\n",
      "\n",
      "- \"(Net) Fixed Assets\", \"(Net) FA(s)\",\n",
      "  \"(Net) Property, Plant & Equipment\", \"(Net) PP&E\", \"(Net) PPNE\",\n",
      "  \"(Net) Property & Equipment\", \"(Net) Plant & Equipment\", \"(Net) Property, Equipment & Intangibles\"\n",
      "\n",
      "- \"(Total) (Net) Inventory\", \"(Total) (Net) Inventories\",\n",
      "  \"(Total) (Net) Merchandise Inventory\", \"(Total) (Net) Merchandise Inventories\"\n",
      "\n",
      "- \"(Net) Accounts Receivable\", \"(Net) AR\", \"(Net) (Trade) Receivables\"\n",
      "\n",
      "- \"(Net) Accounts Payable\", \"(Net) AP\"\n",
      "\n",
      "\n",
      "Cash-Flow-Statement Line-Item Synonyms\n",
      "--------------------------------------\n",
      "\n",
      "- \"(Net) Cash (Flows) from Operations\", \"(Net) Cash (Flows) from Operating Activities\", \"(Net) Operating Cash Flows\"\n",
      "\n",
      "- \"(Net) Cash (Flows) from Investments\", \"(Net) Cash (Flows) from Investing Activities\", \"(Net) Investing Cash Flows\"\n",
      "\n",
      "- \"Capital Expenditure(s)\", \"CapEx\", \"Capital Spending\", \"Property, Plant & Equipment (PP&E) Expenditure(s)/Purchase(s)\"\n",
      "\n",
      "- \"(Net) Cash (Flows) from Financing\", \"(Net) Cash (Flows) from Financing Activities\", \"(Net) Financing Cash Flows\"\n",
      "\n",
      "\n",
      "Income-Statement / Profit-and-Loss- (P&L-) Statement / Earnings-Statement / Operations-Statement Line-Item Synonyms\n",
      "-------------------------------------------------------------------------------------------------------------------\n",
      "\n",
      "- \"(Total) (Net) (Operating) Revenue(s)\", \"(Total) (Net) Sales\"\n",
      "\n",
      "- \"(Total) Cost of Goods Sold\", \"(Total) COGS\", \"(Total) Cost of Sales\", \"(Total) Cost of Revenue\"\n",
      "\n",
      "- \"Gross Income (or Loss)\", \"Gross Profit (or Loss)\", \"Gross Earnings (or Loss(es))\"\n",
      "\n",
      "- \"Operating Expenditure(s)\", \"Operating Expenses\", \"OpEx\"\n",
      "\n",
      "- \"Selling, General & Administrative (Expenses)\", \"SG&A (Expenses)\"\n",
      "\n",
      "- \"(Unadjusted) Operating Income\", \"(Unadjusted) Operating Profit\"\n",
      "\n",
      "- \"Earnings before Interest, Tax, Depreciation & Amortization\", \"EBITDA\"\n",
      "\n",
      "- \"Depreciation & Amortization\", \"D&A\",\n",
      "  \"Depreciation & Amortization of Fixed Assets\", \"Depreciation & Amortization of Property, Plant & Equipment (PP&E)\"\n",
      "\n",
      "- \"Earnings before Interest & Tax\", \"EBIT\"\n",
      "\n",
      "- \"Net Income (Attributable to Shareholders)\", \"Net Profit (Attributable to Shareholders)\"\n",
      "\n",
      "\n",
      "FINANCIAL METRIC FORMULAS\n",
      "=========================\n",
      "\n",
      "\n",
      "Turnover Ratio Metric Formulas\n",
      "------------------------------\n",
      "\n",
      "`(Total) Asset Turnover Ratio` = (\n",
      "  `(Total) (Net) (Operating) Revenue(s), a.k.a. (Total) (Net) Sales` /\n",
      "  `average Total Assets, typically between two consecutive fiscal year-ends`\n",
      ")\n",
      "\n",
      "`Fixed Asset Turnover Ratio` = (\n",
      "  `(Total) (Net) (Operating) Revenue(s), a.k.a. (Total) (Net) Sales` /\n",
      "  `average (Net) Fixed Assets, a.k.a. (Net) Property, Plant & Equipment (PP&E), typically between two consecutive fiscal year-ends`\n",
      ")\n",
      "\n",
      "`Inventory Turnover Ratio, a.k.a. Inventory Conversion Ratio` = (\n",
      "  `(Total) Cost of Goods Sold, a.k.a. (Total) COGS, or (Total) Cost of Sales, or (Total) Cost of Revenue` /\n",
      "  `average (Total) (Net) Inventory(ies), typically between two consecutive fiscal year-ends`\n",
      ")\n",
      "\n",
      "\n",
      "Adjusted Income Metric Formulas\n",
      "-------------------------------\n",
      "\n",
      "`(Unadjusted) Earnings before Interest, Tax, Depreciation & Amortization, a.k.a. EBITDA` = (\n",
      "  `(Unadjusted) Operating Income, a.k.a. Operating Profit, or Operating Earnings (or Loss(es))` +\n",
      "  `Depreciation & Amortization, a.k.a. D&A (of Fixed Assets or Property, Plant & Equipment (PP&E))`\n",
      ")\n",
      "\n",
      "\n",
      "Profitability Margin Metric Formulas\n",
      "------------------------------------\n",
      "\n",
      "`Cost of Goods Sold (COGS) Margin` = (\n",
      "  `(Total) Cost of Goods Sold, a.k.a. (Total) COGS, or (Total) Cost of Sales, or (Total) Cost of Revenue` /\n",
      "  `(Total) (Net) (Operating) Revenue(s), a.k.a. (Total) (Net) Sales`\n",
      ")\n",
      "\n",
      "`Gross (Income or Profit or Earnings) Margin` = (\n",
      "  `Gross Income, a.k.a. Gross Profit, or Gross Earnings (or Loss(es))` /\n",
      "  `(Total) (Net) (Operating) Revenue(s), a.k.a. (Total) (Net) Sales`\n",
      ")\n",
      "\n",
      "`(Unadjusted) Operating (Income or Profit or Earnings) Margin` = (\n",
      "  `(Unadjusted) Operating Income, a.k.a. Operating Profit, or Operating Earnings (or Loss(es))` /\n",
      "  `(Total) (Net) (Operating) Revenue(s), a.k.a. (Total) (Net) Sales`\n",
      ")\n",
      "\n",
      "`(Unadjusted) EBITDA Margin` = (\n",
      "  `(Unadjusted) Earnings before Interest, Tax, Depreciation & Amortization, a.k.a. EBITDA` /\n",
      "  `(Total) (Net) (Operating) Revenue(s), a.k.a. (Total) (Net) Sales`\n",
      ")\n",
      "\n",
      "`Depreciation & Amortization (D&A) Margin` = (\n",
      "  `Depreciation & Amortization, a.k.a. D&A (of Fixed Assets or Property, Plant & Equipment (PP&E))` /\n",
      "  `(Total) (Net) (Operating) Revenue(s), a.k.a. (Total) (Net) Sales`\n",
      ")\n",
      "\n",
      "`EBIT Margin` = (\n",
      "  `Earnings before Interest & Tax, a.k.a. EBIT` /\n",
      "  `(Total) (Net) (Operating) Revenue(s), a.k.a. (Total) (Net) Sales`\n",
      ")\n",
      "\n",
      "`Net (Income or Profit or Earnings) Margin` = (\n",
      "  `Net Income, a.k.a. Net Profit, or Net Earnings (or Loss(es)) (Attributable to Shareholders)` /\n",
      "  `(Total) (Net) (Operating) Revenue(s), a.k.a. (Total) (Net) Sales`\n",
      ")\n",
      "\n",
      "\n",
      "Profit-Utilization / Capital-Return Metric Formulas\n",
      "---------------------------------------------------\n",
      "\n",
      "`Interest Coverage Ratio` = `Earnings before Interest & Tax, a.k.a. EBIT` / `Interest Expense`\n",
      "\n",
      "`Effective (Income) Tax Rate` = `(Income) Tax Expense` / `Income or Profit or Earnings (or Loss(es)) before (Income) Tax(es)`\n",
      "\n",
      "`Dividend Payout Ratio` = (\n",
      "  `Cash Dividends` /\n",
      "  `Net Income, a.k.a. Net Profit, or Net Earnings (or Loss(es)) (Attributable to Shareholders)`\n",
      ")\n",
      "\n",
      "`Retention Ratio` = 1 - `Dividend Payout Ratio`\n",
      "\n",
      "\n",
      "Capital-Intensiveness / Return-on-Capital Metric Formulas\n",
      "---------------------------------------------------------\n",
      "\n",
      "`Capital Intensity Ratio` = `Total Assets` / `(Total) (Net) (Operating) Revenue(s), a.k.a. (Total) (Net) Sales`\n",
      "\n",
      "`Return on (Total) Assets, a.k.a. RoA or RoTA` = (\n",
      "  `Net Income, a.k.a. Net Profit, or Net Earnings (or Loss(es)) (Attributable to Shareholders)` /\n",
      "  `average Total Assets, typically between two consecutive fiscal year-ends`\n",
      ")\n",
      "\n",
      "\n",
      "Leverage Metric Formulas\n",
      "------------------------\n",
      "\n",
      "`Total Debt` = (\n",
      "  `Long-Term Debt (EXCLUDING any current/short-term portion)` +\n",
      "  `Short-Term Debt, or Current Portion of (Long-Term) Debt`\n",
      ")\n",
      "\n",
      "\n",
      "Liquidity Metric Formulas\n",
      "-------------------------\n",
      "\n",
      "`(Net) Working Capital` = `(Total) Current Assets` - `(Total) Current Liabilities`\n",
      "\n",
      "`Working Capital Ratio` = `(Total) Current Assets` / `(Total) Current Liabilities`\n",
      "\n",
      "`Quick Ratio` = (\n",
      "  (`Cash & Cash Equivalents` +\n",
      "   `Short-Term Investments or (Current) Marketable Securities` +\n",
      "   `(Net) Accounts Receivable, a.k.a. (Net) (Trade) Receivables`)\n",
      "  / `(Total) Current Liabilities`\n",
      ")\n",
      "\n",
      "`Operating Cash Flow Ratio` = (\n",
      "  `(Net) Cash Flows from Operations, a.k.a. (Net) Operating Cash Flows`\n",
      "  / `(Total) Current Liabilities`\n",
      ")\n",
      "\n",
      "`Free Cash Flow, a.k.a. FCF` = (\n",
      "  `(Net) Cash Flows from Operations, a.k.a. (Net) Operating Cash Flows` -\n",
      "  `Capital Expenditure(s), a.k.a. CapEx, or Capital Spending, or Property, Plant & Equipment (PP&E) Expenditure(s)/Purchase(s)`\n",
      ")\n",
      "\n",
      "`Free Cash Flow Conversion Ratio` = `Free Cash Flow, a.k.a. FCF` / `Earnings before Interest, Tax, Depreciation & Amortization, a.k.a. EBITDA`\n",
      "\n",
      "`Days Inventory Outstanding, a.k.a. DIO` = (\n",
      "  365 * `average (Total) (Net) Inventory(ies), typically between two consecutive fiscal year-ends`\n",
      "  / `(Total) Cost of Goods Sold, a.k.a. (Total) COGS, or (Total) Cost of Sales, or (Total) Cost of Revenue`\n",
      ")\n",
      "\n",
      "`Days Payable Outstanding, a.k.a. DPO` = (\n",
      "  365 * `average Accounts Payable, typically between two consecutive fiscal year-ends`\n",
      "  / (`(Total) Cost of Goods Sold, a.k.a. (Total) COGS, or (Total) Cost of Sales, or (Total) Cost of Revenue` +\n",
      "     `change in (Total) (Net) Inventory(ies), typically between two consecutive fiscal year-ends`)\n",
      ")\n",
      "\n",
      "`Days Sales Oustanding, a.k.a. DSO` = (\n",
      "  365 * `average (Net) Accounts Receivable, a.k.a. (Net) (Trade) Receivables, typically between two consecutive fiscal year-ends`\n",
      "  / `(Total) (Net) (Operating) Revenue(s), a.k.a. (Total) (Net) Sales`\n",
      ")\n",
      "\n",
      "`Cash Conversion Cycle, a.k.a. CCC` = (\n",
      "  `Days Inventory Outstanding, a.k.a. DIO` + `Days Sales Oustanding, a.k.a. DSO` - `Days Payable Outstanding, a.k.a. DPO`\n",
      ")\n",
      "\n",
      "\n",
      "CAPITAL-INTENSIVENESS EVALUATION\n",
      "================================\n",
      "\n",
      "Capital-intensive businesses tend to have one or several of the following characteristics:\n",
      "\n",
      "- high `(Net) Fixed Assets, a.k.a. (Net) Property, Plant & Equipment (PP&E)` as proportion of `Total Assets`,\n",
      "  e.g., over 25%;\n",
      "\n",
      "- high `Total Assets` relative to `(Total) (Net) (Operating) Revenue(s), a.k.a. (Total) (Net) Sales`,\n",
      "  e.g., over 2 times;\n",
      "\n",
      "- high `Capital Expenditure(s), a.k.a. CapEx, or Capital Spending, or Property, Plant & Equipment (PP&E) Expenditure(s)/Purchase(s)`\n",
      "  relative to `(Total) (Net) (Operating) Revenue(s), a.k.a. (Total) (Net) Sales`,\n",
      "  e.g., over 10%;\n",
      "\n",
      "  and/or\n",
      "\n",
      "- low `Return on (Total) Assets, a.k.a. RoA or RoTA`,\n",
      "  e.g., under 10%\n",
      "\n",
      "\n",
      "FINANCIAL-ANALYSIS LANGUAGE/WORDING\n",
      "===================================\n",
      "\n",
      "- When we see the word \"average\" used before a Balance-Sheet line item in financial-analysis contexts,\n",
      "  it often means the simple arithmetic mean of that line item's values at two consecutive fiscal year-ends\n",
      "\n",
      "- When we see the word \"growth\" or the the phrase \"top-line performance\"\n",
      "  used in the context of product categories/segments or geographies, unless otherwise specified,\n",
      "  it often concerns the year-on-year proportional/relative growth rates in `(Total) (Net) (Operating) Revenue(s), a.k.a. (Total) (Net) Sales`\n",
      "  from such product categories/segments or geographies\n",
      "\n",
      "- When we see the word \"margin\" in financial-analysis contexts,\n",
      "  we usually need to divide a certain Profit-and-Loss (P&L) line item by the `(Total) (Net) (Operating) Revenue(s), a.k.a. (Total) (Net) Sales`\n",
      "  for the concerned financial reporting period(s)\n",
      "\n",
      "- When we see the word \"turnover ratio\" used after a Balance-Sheet line item in financial-analysis contexts,\n",
      "  we usually need to divide the `(Total) (Net) (Operating) Revenue(s), a.k.a. (Total) (Net) Sales` for the fiscal year\n",
      "  by the average of that Balance-Sheet line item between the latest fiscal year-end and the immediately-preceeding fiscal year-end\n",
      "\n",
      "\n",
      "PHYSICAL-PRODUCT COMPANY PERFORMANCE METRICS vs. FINANCIAL-SERVICES COMPANY PERFORMANCE METRICS\n",
      "===============================================================================================\n",
      "\n",
      "Margin metrics are generally relevant/useful performance indicators for evaluating companies making physical products,\n",
      "but generally irrelevant / not useful for evaluating companies delivering financial services\n",
      "\n",
      "\n",
      "PULICLY LISTED & TRADED DEBT SECURITIES\n",
      "=======================================\n",
      "\n",
      "If there are debt securities registered to trade on a national securities exchange under a company's name,\n",
      "then such debt securities are enumerated on SEC filings' 1st page, alongside the company's public equity shares/stock.\n",
      "\n",
      "If only equity shares/stock are enumerated on SEC filings' 1st page,\n",
      "then there are no debt securities registered to trade on a national securities exchange under a company's name.\n",
      "\n"
     ]
    }
   ],
   "source": [
    "with open(file='sample_data/expert-knowledge.txt',\n",
    "          buffering=-1,\n",
    "          encoding='utf-8',\n",
    "          errors='strict',\n",
    "          newline=None,\n",
    "          closefd=True,\n",
    "          opener=None) as f:\n",
    "    EXPERT_KNOWLEDGE: str = f.read()\n",
    "\n",
    "EXPERT_KNOWLEDGE_SET = set(EXPERT_KNOWLEDGE.split('\\n\\n'))\n",
    "print(EXPERT_KNOWLEDGE)"
   ]
  },
  {
   "cell_type": "code",
   "execution_count": 99,
   "metadata": {},
   "outputs": [],
   "source": [
    "agent = Agent(planner=None,\n",
    "              reasoner=OodaReasoner(),\n",
    "              knowledge=EXPERT_KNOWLEDGE_SET,\n",
    "              resources={FileResource(path=DOC_PATH)})\n",
    "auto_htp_statically_with_knowledge_solution = agent.solve(problem=PROBLEM, plan=None, dynamic=False)"
   ]
  },
  {
   "cell_type": "code",
   "execution_count": 100,
   "metadata": {},
   "outputs": [
    {
     "name": "stdout",
     "output_type": "stream",
     "text": [
      "PROBLEM: \n",
      "====================\n",
      "Is 3M a capital-intensive business based on FY2022 data? \n",
      "\n",
      "GROUTH TRUTH ANSWER: \n",
      "====================\n",
      "\n",
      "    No, the company is managing its CAPEX and Fixed Assets pretty efficiently,\n",
      "    which is evident from below key metrics:\n",
      "    CAPEX/Revenue Ratio: 5.1%\n",
      "    Fixed assets/Total Assets: 20%\n",
      "    Return on Assets= 12.4% \n",
      "\n",
      "AGENT'S SUMMARIZED ANSWER:\n",
      "====================\n",
      "3M is deemed a capital-intensive business for FY2022 due to its high capital\n",
      "expenditures for property, plant, and equipment, substantial total assets, and\n",
      "projected future capital spending. These financial metrics suggest a significant\n",
      "investment in operational capacity and manufacturing capabilities, indicating a\n",
      "capital-intensive industry.\n"
     ]
    }
   ],
   "source": [
    "print_solution(auto_htp_statically_with_knowledge_solution)"
   ]
  },
  {
   "cell_type": "markdown",
   "metadata": {},
   "source": [
    "With the auto-generated plan, even with the added knowledge, looks like the agent is still struggled to solve the problem.\n",
    "Let's add the expert's plan to see whether it's more valuable for the agent to be able to solve this."
   ]
  },
  {
   "cell_type": "markdown",
   "metadata": {},
   "source": [
    "#### Expert-provided plan with added knowledge"
   ]
  },
  {
   "cell_type": "code",
   "execution_count": 107,
   "metadata": {},
   "outputs": [
    {
     "name": "stderr",
     "output_type": "stream",
     "text": [
      "\u001b[32m2024-06-03 02:10:25.329\u001b[0m | \u001b[1mINFO    \u001b[0m | \u001b[36mopenssa.l2.agent.agent\u001b[0m:\u001b[36msolve\u001b[0m:\u001b[36m144\u001b[0m - \u001b[1m\n",
      "GLOBAL TASK PLANNING\n",
      "====================\n",
      "\n",
      "PLAN(task=Assess whether 3M is capital-intensive according to 2022 fiscal period data,\n",
      "     subs=[ PLAN(task=What are values in dollars of:\n",
      "                      - `(Net) Fixed Assets, a.k.a. (Net) Property, Plant & Equipment (PP&E)`; and\n",
      "                      - `Total Assets`\n",
      "                      (or most similar-meaning reported line item to those)\n",
      "                      \n",
      "                      on one same `(Consolidated) Balance Sheet, a.k.a. Statement of (Consolidated) Financial \n",
      "                      Position`\n",
      "                      (or most similar-meaning statement) of 3M\n",
      "                      (and NOT Balance Sheets of its acquired and/or divested companies)\n",
      "                      \n",
      "                      as at following two annual fiscal period ends:\n",
      "                      - previous annual fiscal period end immediately preceding 2022; and\n",
      "                      - current 2022 annual fiscal period end?),\n",
      "            PLAN(task=What is value in dollars of `Capital Expenditure(s), a.k.a. CapEx, or Capital Spending, or \n",
      "                      Property, Plant & Equipment (PP&E) Expenditure(s)/Purchase(s)` (or most similar-meaning \n",
      "                      reported line item)\n",
      "                      on `(Consolidated) Cash Flow(s) Statement(s), a.k.a. (Consolidated) Statement(s) of Cash Flows` \n",
      "                      (or most similar-meaning statement)\n",
      "                      of 3M for 2022 fiscal period?),\n",
      "            PLAN(task=What are values in dollars of:\n",
      "                      - `(Total) (Net) (Operating) Revenue(s), a.k.a. (Total) (Net) Sales`; and\n",
      "                      - `Net Income, a.k.a. Net Profit, or Net Earnings (or Loss(es)) (Attributable to \n",
      "                      Shareholders)`\n",
      "                      (or most similar-meaning reported line items to those)\n",
      "                      \n",
      "                      on `(Consolidated) Income Statement, a.k.a. (Consolidated) Profit-and-Loss (P&L) Statement,\n",
      "                      or (Consolidated) Earnings Statement, or (Consolidated) Operations Statement`\n",
      "                      (or most similar-meaning statement)\n",
      "                      \n",
      "                      of 3M for 2022 fiscal period?),\n",
      "            PLAN(task=Assess whether 3M is capital-intensive according to 2022 fiscal period data\n",
      "                      \n",
      "                      Capital-intensive businesses tend to have one or several of the following characteristics:\n",
      "                      \n",
      "                      - high `(Net) Fixed Assets, a.k.a. (Net) Property, Plant & Equipment (PP&E)` as proportion of \n",
      "                      `Total Assets`,\n",
      "                        e.g., over 25%;\n",
      "                      \n",
      "                      - high `Total Assets` relative to `(Total) (Net) (Operating) Revenue(s), a.k.a. (Total) (Net) \n",
      "                      Sales`,\n",
      "                        e.g., over 2 times;\n",
      "                      \n",
      "                      - high `Capital Expenditure(s), a.k.a. CapEx, or Capital Spending, or Property, Plant & \n",
      "                      Equipment (PP&E) Expenditure(s)/Purchase(s)`\n",
      "                        relative to `(Total) (Net) (Operating) Revenue(s), a.k.a. (Total) (Net) Sales`,\n",
      "                        e.g., over 10%;\n",
      "                      \n",
      "                        and/or\n",
      "                      \n",
      "                      - low `Return on (Total) Assets, a.k.a. RoA or RoTA`,\n",
      "                        e.g., under 10%,\n",
      "                        according to formula:\n",
      "                      \n",
      "                        `Return on (Total) Assets, a.k.a. RoA or RoTA` = (\n",
      "                          `Net Income, a.k.a. Net Profit, or Net Earnings (or Loss(es)) (Attributable to \n",
      "                      Shareholders)` /\n",
      "                          `average Total Assets, typically between two consecutive fiscal year-ends`\n",
      "                        ))])\n",
      "\u001b[0m\n"
     ]
    },
    {
     "name": "stderr",
     "output_type": "stream",
     "text": [
      "100%|██████████| 4/4 [00:00<00:00, 111107.39it/s]\n",
      "\u001b[32m2024-06-03 02:10:55.736\u001b[0m | \u001b[34m\u001b[1mDEBUG   \u001b[0m | \u001b[36mopenssa.l2.planning.hierarchical.plan\u001b[0m:\u001b[36mexecute\u001b[0m:\u001b[36m110\u001b[0m - \u001b[34m\u001b[1m\n",
      "TASK-LEVEL REASONING with Supporting/Other Results\n",
      "==================================================\n",
      "\n",
      "PLAN(task=Assess whether 3M is capital-intensive according to 2022 fiscal period data,\n",
      "     subs=[ PLAN(task=What are values in dollars of:\n",
      "                      - `(Net) Fixed Assets, a.k.a. (Net) Property, Plant & Equipment (PP&E)`; and\n",
      "                      - `Total Assets`\n",
      "                      (or most similar-meaning reported line item to those)\n",
      "                      \n",
      "                      on one same `(Consolidated) Balance Sheet, a.k.a. Statement of (Consolidated) Financial \n",
      "                      Position`\n",
      "                      (or most similar-meaning statement) of 3M\n",
      "                      (and NOT Balance Sheets of its acquired and/or divested companies)\n",
      "                      \n",
      "                      as at following two annual fiscal period ends:\n",
      "                      - previous annual fiscal period end immediately preceding 2022; and\n",
      "                      - current 2022 annual fiscal period end?),\n",
      "            PLAN(task=What is value in dollars of `Capital Expenditure(s), a.k.a. CapEx, or Capital Spending, or \n",
      "                      Property, Plant & Equipment (PP&E) Expenditure(s)/Purchase(s)` (or most similar-meaning \n",
      "                      reported line item)\n",
      "                      on `(Consolidated) Cash Flow(s) Statement(s), a.k.a. (Consolidated) Statement(s) of Cash Flows` \n",
      "                      (or most similar-meaning statement)\n",
      "                      of 3M for 2022 fiscal period?),\n",
      "            PLAN(task=What are values in dollars of:\n",
      "                      - `(Total) (Net) (Operating) Revenue(s), a.k.a. (Total) (Net) Sales`; and\n",
      "                      - `Net Income, a.k.a. Net Profit, or Net Earnings (or Loss(es)) (Attributable to \n",
      "                      Shareholders)`\n",
      "                      (or most similar-meaning reported line items to those)\n",
      "                      \n",
      "                      on `(Consolidated) Income Statement, a.k.a. (Consolidated) Profit-and-Loss (P&L) Statement,\n",
      "                      or (Consolidated) Earnings Statement, or (Consolidated) Operations Statement`\n",
      "                      (or most similar-meaning statement)\n",
      "                      \n",
      "                      of 3M for 2022 fiscal period?),\n",
      "            PLAN(task=Assess whether 3M is capital-intensive according to 2022 fiscal period data\n",
      "                      \n",
      "                      Capital-intensive businesses tend to have one or several of the following characteristics:\n",
      "                      \n",
      "                      - high `(Net) Fixed Assets, a.k.a. (Net) Property, Plant & Equipment (PP&E)` as proportion of \n",
      "                      `Total Assets`,\n",
      "                        e.g., over 25%;\n",
      "                      \n",
      "                      - high `Total Assets` relative to `(Total) (Net) (Operating) Revenue(s), a.k.a. (Total) (Net) \n",
      "                      Sales`,\n",
      "                        e.g., over 2 times;\n",
      "                      \n",
      "                      - high `Capital Expenditure(s), a.k.a. CapEx, or Capital Spending, or Property, Plant & \n",
      "                      Equipment (PP&E) Expenditure(s)/Purchase(s)`\n",
      "                        relative to `(Total) (Net) (Operating) Revenue(s), a.k.a. (Total) (Net) Sales`,\n",
      "                        e.g., over 10%;\n",
      "                      \n",
      "                        and/or\n",
      "                      \n",
      "                      - low `Return on (Total) Assets, a.k.a. RoA or RoTA`,\n",
      "                        e.g., under 10%,\n",
      "                        according to formula:\n",
      "                      \n",
      "                        `Return on (Total) Assets, a.k.a. RoA or RoTA` = (\n",
      "                          `Net Income, a.k.a. Net Profit, or Net Earnings (or Loss(es)) (Attributable to \n",
      "                      Shareholders)` /\n",
      "                          `average Total Assets, typically between two consecutive fiscal year-ends`\n",
      "                        ))])\n",
      "\n",
      "ASSESS WHETHER 3M IS CAPITAL-INTENSIVE ACCORDING TO 2022 FISCAL PERIOD DATA\n",
      "--------------------------\n",
      "To evaluate whether 3M is a capital-intensive company based on its 2022 fiscal period data, we need to consider several financial metrics that are indicative of capital intensity. Capital-intensive businesses are generally characterized by a high proportion of fixed assets relative to total assets, substantial total assets in comparison to net sales, significant capital expenditures relative to net sales, and a low return on total assets.\n",
      "\n",
      "The assessment of 3M's capital intensity would typically involve examining the company's Net Fixed Assets (also known as Net Property, Plant & Equipment or PP&E), Total Assets, Total Net Operating Revenues (also known as Total Net Sales), Capital Expenditures (also known as CapEx or Capital Spending), and Net Income (also known as Net Profit or Net Earnings attributable to shareholders).\n",
      "\n",
      "For a company to be considered capital-intensive, we would expect to see:\n",
      "\n",
      "- A high proportion of Net Fixed Assets to Total Assets, for example, over 25%.\n",
      "- Total Assets being significantly higher relative to Total Net Operating Revenues, potentially over two times greater.\n",
      "- Capital Expenditures that are high relative to Total Net Operating Revenues, such as over 10%.\n",
      "- A low Return on Total Assets (RoA or RoTA), which could be under 10%, calculated by dividing Net Income by the average Total Assets between two consecutive fiscal year-ends.\n",
      "\n",
      "However, the specific dollar values for these financial items for 3M's 2022 fiscal period are not available within the current knowledge base or accessible through real-time data retrieval. Without these concrete values, it is not possible to perform the calculations required to confidently assess 3M's capital intensity for the 2022 fiscal period.\n",
      "\n",
      "In conclusion, while the criteria for evaluating capital intensity are clear, the lack of specific financial data for 3M's 2022 fiscal period prevents us from making a definitive assessment of the company's capital intensity. To make such an assessment, one would need to access 3M's financial statements, such as the Consolidated Balance Sheet, Consolidated Cash Flows Statement, and Consolidated Income Statement, to retrieve the necessary numerical data.\n",
      "\n",
      " ^ \n",
      "/|\\\n",
      " | \n",
      "\n",
      "REASONING WITHOUT SUPPORTING/OTHER RESULTS (preliminary conclusions here can be overriden by more convincing supporting/other data):\n",
      "To assess whether 3M is a capital-intensive company based on its 2022 fiscal period data, we would need to examine specific financial metrics and compare them against established benchmarks that indicate capital intensity. Capital-intensive businesses are typically characterized by high levels of total assets relative to net sales, significant capital expenditures relative to net sales, and a high proportion of fixed assets to total assets. Key metrics to consider would include the Capital Intensity Ratio (Total Assets / Net Sales), the CapEx to Sales Ratio (Capital Expenditures / Net Sales), and the Fixed Assets to Total Assets Ratio (Net Fixed Assets / Total Assets). Additionally, we would look at the company's depreciation and amortization expenses as a percentage of net sales to understand the scale of investment in fixed assets. However, without access to 3M's specific financial data for the 2022 fiscal period, such as the total assets, net sales, capital expenditures, and the value of fixed assets, it is not possible to calculate these ratios and make a concrete determination about the company's capital intensity. Therefore, I cannot provide a confident answer with concrete results regarding the capital intensity of 3M for the 2022 fiscal period.\n",
      "\n",
      "\n",
      "SUPPORTING QUESTION/TASK #1:\n",
      "What are values in dollars of:\n",
      "- `(Net) Fixed Assets, a.k.a. (Net) Property, Plant & Equipment (PP&E)`; and\n",
      "- `Total Assets`\n",
      "(or most similar-meaning reported line item to those)\n",
      "\n",
      "on one same `(Consolidated) Balance Sheet, a.k.a. Statement of (Consolidated) Financial Position`\n",
      "(or most similar-meaning statement) of 3M\n",
      "(and NOT Balance Sheets of its acquired and/or divested companies)\n",
      "\n",
      "as at following two annual fiscal period ends:\n",
      "- previous annual fiscal period end immediately preceding 2022; and\n",
      "- current 2022 annual fiscal period end?\n",
      "\n",
      "SUPPORTING RESULT #1:\n",
      "To provide the values in dollars of 'Net Fixed Assets, a.k.a. Net Property, Plant & Equipment (PP&E)' and 'Total Assets' from 3M's Consolidated Balance Sheet for the specified fiscal period ends, access to the company's financial statements is required. These values are typically disclosed in the annual report (Form 10-K) filed with the SEC or in the financial statements section of the company's investor relations website. Without access to these specific documents or a reliable database that contains the extracted financial data from these reports, it is not possible to confidently provide the concrete dollar values requested for the fiscal period ends preceding 2022 and for 2022. The task requires the retrieval of specific numerical data from the company's official financial disclosures, which are not available within the current knowledge base or accessible through real-time data retrieval.\n",
      "\n",
      "\n",
      "SUPPORTING QUESTION/TASK #2:\n",
      "What is value in dollars of `Capital Expenditure(s), a.k.a. CapEx, or Capital Spending, or Property, Plant & Equipment (PP&E) Expenditure(s)/Purchase(s)` (or most similar-meaning reported line item)\n",
      "on `(Consolidated) Cash Flow(s) Statement(s), a.k.a. (Consolidated) Statement(s) of Cash Flows` (or most similar-meaning statement)\n",
      "of 3M for 2022 fiscal period?\n",
      "\n",
      "SUPPORTING RESULT #2:\n",
      "To determine the value in dollars of `Capital Expenditure(s), a.k.a. CapEx, or Capital Spending, or Property, Plant & Equipment (PP&E) Expenditure(s)/Purchase(s)` on the `(Consolidated) Cash Flow(s) Statement(s), a.k.a. (Consolidated) Statement(s) of Cash Flows` of 3M for the 2022 fiscal period, one would typically examine the specific line item in the cash flow statement that reports capital expenditures. This information is usually found in the investing activities section of the cash flow statement. However, without access to 3M's actual financial statements for the fiscal year 2022 or a reliable financial database providing this information, it is not possible to confidently provide the concrete dollar value of 3M's capital expenditures for that period. The task requires the retrieval of specific numerical data from the company's official financial disclosures, which are not available within the current knowledge base or accessible through real-time data retrieval.\n",
      "\n",
      "\n",
      "SUPPORTING QUESTION/TASK #3:\n",
      "What are values in dollars of:\n",
      "- `(Total) (Net) (Operating) Revenue(s), a.k.a. (Total) (Net) Sales`; and\n",
      "- `Net Income, a.k.a. Net Profit, or Net Earnings (or Loss(es)) (Attributable to Shareholders)`\n",
      "(or most similar-meaning reported line items to those)\n",
      "\n",
      "on `(Consolidated) Income Statement, a.k.a. (Consolidated) Profit-and-Loss (P&L) Statement,\n",
      "or (Consolidated) Earnings Statement, or (Consolidated) Operations Statement`\n",
      "(or most similar-meaning statement)\n",
      "\n",
      "of 3M for 2022 fiscal period?\n",
      "\n",
      "SUPPORTING RESULT #3:\n",
      "To accurately provide the values in dollars of `(Total) (Net) (Operating) Revenue(s), a.k.a. (Total) (Net) Sales` and `Net Income, a.k.a. Net Profit, or Net Earnings (or Loss(es)) (Attributable to Shareholders)` for 3M for the 2022 fiscal period, one would need to access the company's `(Consolidated) Income Statement, a.k.a. (Consolidated) Profit-and-Loss (P&L) Statement, or (Consolidated) Earnings Statement, or (Consolidated) Operations Statement`. These figures are typically reported in the company's annual report (Form 10-K) or quarterly reports (Form 10-Q) filed with the SEC, and can also be found in the investor relations section of the company's website. However, without access to these specific documents or a reliable financial database that contains the extracted financial data from these reports, it is not possible to confidently provide the concrete dollar values requested for the 2022 fiscal period. The task requires the retrieval of specific numerical data from the company's official financial disclosures, which are not available within the current knowledge base or accessible through real-time data retrieval.\n",
      "\n",
      "\n",
      "SUPPORTING QUESTION/TASK #4:\n",
      "Assess whether 3M is capital-intensive according to 2022 fiscal period data\n",
      "\n",
      "Capital-intensive businesses tend to have one or several of the following characteristics:\n",
      "\n",
      "- high `(Net) Fixed Assets, a.k.a. (Net) Property, Plant & Equipment (PP&E)` as proportion of `Total Assets`,\n",
      "  e.g., over 25%;\n",
      "\n",
      "- high `Total Assets` relative to `(Total) (Net) (Operating) Revenue(s), a.k.a. (Total) (Net) Sales`,\n",
      "  e.g., over 2 times;\n",
      "\n",
      "- high `Capital Expenditure(s), a.k.a. CapEx, or Capital Spending, or Property, Plant & Equipment (PP&E) Expenditure(s)/Purchase(s)`\n",
      "  relative to `(Total) (Net) (Operating) Revenue(s), a.k.a. (Total) (Net) Sales`,\n",
      "  e.g., over 10%;\n",
      "\n",
      "  and/or\n",
      "\n",
      "- low `Return on (Total) Assets, a.k.a. RoA or RoTA`,\n",
      "  e.g., under 10%,\n",
      "  according to formula:\n",
      "\n",
      "  `Return on (Total) Assets, a.k.a. RoA or RoTA` = (\n",
      "    `Net Income, a.k.a. Net Profit, or Net Earnings (or Loss(es)) (Attributable to Shareholders)` /\n",
      "    `average Total Assets, typically between two consecutive fiscal year-ends`\n",
      "  )\n",
      "\n",
      "SUPPORTING RESULT #4:\n",
      "To assess whether 3M is capital-intensive according to the 2022 fiscal period data, specific financial figures are required, including the dollar values of Net Fixed Assets (PP&E), Total Assets, Total Net Operating Revenues (Sales), Capital Expenditures (CapEx), and Net Income. These figures are necessary to calculate the proportions and ratios that indicate capital intensity, such as the proportion of Net Fixed Assets to Total Assets, the ratio of Total Assets to Total Net Operating Revenues, the ratio of CapEx to Total Net Operating Revenues, and the Return on Total Assets (RoA). However, the provided additional information indicates that the specific dollar values for these financial items are not available within the current knowledge base or accessible through real-time data retrieval. Without these concrete values, it is not possible to perform the calculations required to confidently assess 3M's capital intensity for the 2022 fiscal period. Therefore, while the criteria for evaluating capital intensity are clear, the lack of specific financial data prevents a confident conclusion.\n",
      "\u001b[0m\n"
     ]
    }
   ],
   "source": [
    "agent = Agent(planner=None,\n",
    "              reasoner=OodaReasoner(),\n",
    "              knowledge=EXPERT_KNOWLEDGE_SET,\n",
    "              resources={FileResource(path=DOC_PATH)})\n",
    "expert_htp_statically_with_knowledge_solution = agent.solve(problem=PROBLEM, plan=EXPERT_HTP, dynamic=False)"
   ]
  },
  {
   "cell_type": "code",
   "execution_count": 108,
   "metadata": {},
   "outputs": [
    {
     "name": "stdout",
     "output_type": "stream",
     "text": [
      "PROBLEM: \n",
      "====================\n",
      "Is 3M a capital-intensive business based on FY2022 data? \n",
      "\n",
      "GROUTH TRUTH ANSWER: \n",
      "====================\n",
      "\n",
      "    No, the company is managing its CAPEX and Fixed Assets pretty efficiently,\n",
      "    which is evident from below key metrics:\n",
      "    CAPEX/Revenue Ratio: 5.1%\n",
      "    Fixed assets/Total Assets: 20%\n",
      "    Return on Assets= 12.4% \n",
      "\n",
      "AGENT'S SUMMARIZED ANSWER:\n",
      "====================\n",
      "To determine if 3M is a capital-intensive company for the 2022 fiscal period,\n",
      "one would typically analyze metrics like Net Fixed Assets to Total Assets ratio,\n",
      "Total Assets compared to Total Net Operating Revenues, Capital Expenditures\n",
      "relative to Net Operating Revenues, and Return on Total Assets. However, without\n",
      "specific financial data for 3M in 2022, such as Net Fixed Assets, Total Assets,\n",
      "Total Net Operating Revenues, Capital Expenditures, and Net Income, a\n"
     ]
    }
   ],
   "source": [
    "print_solution(expert_htp_statically_with_knowledge_solution)"
   ]
  }
 ],
 "metadata": {
  "kernelspec": {
   "display_name": ".venv",
   "language": "python",
   "name": "python3"
  },
  "language_info": {
   "codemirror_mode": {
    "name": "ipython",
    "version": 3
   },
   "file_extension": ".py",
   "mimetype": "text/x-python",
   "name": "python",
   "nbconvert_exporter": "python",
   "pygments_lexer": "ipython3",
   "version": "3.12.2"
  }
 },
 "nbformat": 4,
 "nbformat_minor": 2
}
