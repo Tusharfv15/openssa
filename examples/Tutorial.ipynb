{
 "cells": [
  {
   "cell_type": "markdown",
   "metadata": {},
   "source": [
    "# Build an AI Agent with SEC Filing Insights in Just 10 Minutes Using OpenSSA"
   ]
  },
  {
   "cell_type": "markdown",
   "metadata": {},
   "source": [
    "In this tutorial, you will learn how to:\n",
    "\n",
    "1. Build an AI Agent from Scratch Using openSSA\n",
    "2. Customize Plans to Guide the Agent Through Complex Problem-Solving\n",
    "3. Add Your Own Domain Expertise to Enhance the Agent"
   ]
  },
  {
   "cell_type": "markdown",
   "metadata": {},
   "source": [
    "## Setups"
   ]
  },
  {
   "cell_type": "markdown",
   "metadata": {},
   "source": [
    "Let's start by impporting the neccessary dependencies."
   ]
  },
  {
   "cell_type": "code",
   "execution_count": 1,
   "metadata": {},
   "outputs": [],
   "source": [
    "%load_ext autoreload\n",
    "%autoreload"
   ]
  },
  {
   "cell_type": "code",
   "execution_count": 2,
   "metadata": {},
   "outputs": [],
   "source": [
    "from pprint import pprint\n",
    "from IPython.display import display, Markdown"
   ]
  },
  {
   "cell_type": "code",
   "execution_count": 3,
   "metadata": {},
   "outputs": [],
   "source": [
    "import os\n",
    "import sys\n",
    "\n",
    "if cwd_is_root := ('examples' in os.listdir()):\n",
    "    sys.path.append('examples')"
   ]
  },
  {
   "cell_type": "markdown",
   "metadata": {},
   "source": [
    "Make sure you plave your OpenAI API key in `example/.env`\n",
    "\n",
    "```\n",
    "OPENAI_API_KEY=...\n",
    "```\n",
    "\n",
    "[Where do I find my OpenAI API Key?](https://help.openai.com/en/articles/4936850-where-do-i-find-my-openai-api-key)"
   ]
  },
  {
   "cell_type": "code",
   "execution_count": 4,
   "metadata": {},
   "outputs": [
    {
     "name": "stdout",
     "output_type": "stream",
     "text": [
      "Sanity check if we have the OpenAI API setup:  False\n"
     ]
    }
   ],
   "source": [
    "from pathlib import Path\n",
    "from dotenv import load_dotenv\n",
    "\n",
    "print('Sanity check if we have the OpenAI API setup: ', load_dotenv(dotenv_path=Path('examples' if cwd_is_root else '.') / '.env'))"
   ]
  },
  {
   "cell_type": "code",
   "execution_count": 12,
   "metadata": {},
   "outputs": [],
   "source": [
    "from openssa import Agent, HTP, AutoHTPlanner, OodaReasoner, FileResource\n",
    "from openssa.utils.llms import OpenAILLM"
   ]
  },
  {
   "cell_type": "markdown",
   "metadata": {},
   "source": [
    "## 1. Build an AI Agent from Scratch Using OpenSSA"
   ]
  },
  {
   "cell_type": "markdown",
   "metadata": {},
   "source": [
    "### Build Agent"
   ]
  },
  {
   "cell_type": "markdown",
   "metadata": {},
   "source": [
    "We're going to use the FinanceBench dataset to demonstrate. We have loaded a sample SEC filing for 3M from 2022. \n",
    "\n",
    "https://github.com/patronus-ai/financebench/blob/main/pdfs/3M_2022_10K.pdf"
   ]
  },
  {
   "cell_type": "code",
   "execution_count": 5,
   "metadata": {},
   "outputs": [],
   "source": [
    "DOC_PATH = 'sample_data/3M_2022_10K/'\n",
    "PROBLEM = 'Is 3M a capital-intensive business based on FY2022 data?'\n",
    "GROUTH_TRUTH_ANSWER ='''\n",
    "    No, the company is managing its CAPEX and Fixed Assets pretty efficiently,\n",
    "    which is evident from below key metrics:\n",
    "    CAPEX/Revenue Ratio: 5.1%\n",
    "    Fixed assets/Total Assets: 20%\n",
    "    Return on Assets= 12.4%'''"
   ]
  },
  {
   "cell_type": "code",
   "execution_count": 13,
   "metadata": {},
   "outputs": [],
   "source": [
    "llm=OpenAILLM()"
   ]
  },
  {
   "cell_type": "code",
   "execution_count": 14,
   "metadata": {},
   "outputs": [
    {
     "data": {
      "text/plain": [
       "<bound method OpenAILLM.get_default of <class 'openssa.utils.llms.OpenAILLM'>>"
      ]
     },
     "execution_count": 14,
     "metadata": {},
     "output_type": "execute_result"
    }
   ],
   "source": [
    "llm.client.chat.completions.create()"
   ]
  },
  {
   "cell_type": "code",
   "execution_count": 15,
   "metadata": {},
   "outputs": [],
   "source": [
    "# util function to summarize answer\n",
    "def summarize_ans(ans, model=\"gpt-4\", max_tokens=100):\n",
    "    response = openai.ChatCompletion.create(\n",
    "        model=model,\n",
    "        messages=[\n",
    "            {\"role\": \"system\", \"content\": \"You are a helpful assistant.\"},\n",
    "            {\"role\": \"user\", \"content\": \"Please summarize the following text into 1-2 sentences: \" + ans}\n",
    "        ],\n",
    "        max_tokens=max_tokens,\n",
    "        temperature=0.7\n",
    "    )\n",
    "    summary = response['choices'][0]['message']['content']\n",
    "    return summary"
   ]
  },
  {
   "cell_type": "code",
   "execution_count": 6,
   "metadata": {},
   "outputs": [],
   "source": [
    "# util function to print\n",
    "import textwrap\n",
    "def print_solution(sol, present_full_answer=False):\n",
    "    print('PROBLEM: ')\n",
    "    print('====================')\n",
    "    print(PROBLEM, '\\n')\n",
    "    print('GROUTH TRUTH ANSWER: ')\n",
    "    print('====================')\n",
    "    print(GROUTH_TRUTH_ANSWER, '\\n')\n",
    "    print('AGENT\\'S SUMMARIZED ANSWER:')\n",
    "    print('====================')\n",
    "    print(textwrap.fill(summarize_ans(sol), 80))\n",
    "    if present_full_answer:\n",
    "        print('AGENT\\'S FULL ANSWER:')\n",
    "        print('====================')\n",
    "        print(textwrap.fill(sol, 80))\n"
   ]
  },
  {
   "cell_type": "markdown",
   "metadata": {},
   "source": [
    "Let's build our first agent with all default settings. "
   ]
  },
  {
   "cell_type": "code",
   "execution_count": 9,
   "metadata": {},
   "outputs": [
    {
     "name": "stderr",
     "output_type": "stream",
     "text": [
      "/Users/quynhle/Desktop/project-local/openssa-3.12/lib/python3.12/site-packages/tqdm/auto.py:21: TqdmWarning: IProgress not found. Please update jupyter and ipywidgets. See https://ipywidgets.readthedocs.io/en/stable/user_install.html\n",
      "  from .autonotebook import tqdm as notebook_tqdm\n",
      "Parsing nodes: 100%|██████████| 252/252 [00:00<00:00, 929.28it/s]\n",
      "Generating embeddings: 100%|██████████| 312/312 [00:07<00:00, 40.75it/s]\n"
     ]
    }
   ],
   "source": [
    "# Build a base agent\n",
    "agent = Agent(planner=None,\n",
    "              reasoner=OodaReasoner(),\n",
    "              knowledge=None,\n",
    "              resources={FileResource(path=DOC_PATH)})\n",
    "\n",
    "base_solution = agent.solve(problem=PROBLEM, plan=None, dynamic=False)"
   ]
  },
  {
   "cell_type": "code",
   "execution_count": 10,
   "metadata": {},
   "outputs": [
    {
     "name": "stdout",
     "output_type": "stream",
     "text": [
      "PROBLEM: \n",
      "====================\n",
      "Is 3M a capital-intensive business based on FY2022 data? \n",
      "\n",
      "GROUTH TRUTH ANSWER: \n",
      "====================\n",
      "\n",
      "    No, the company is managing its CAPEX and Fixed Assets pretty efficiently,\n",
      "    which is evident from below key metrics:\n",
      "    CAPEX/Revenue Ratio: 5.1%\n",
      "    Fixed assets/Total Assets: 20%\n",
      "    Return on Assets= 12.4% \n",
      "\n",
      "AGENT'S ANSWER:\n",
      "====================\n",
      "Based on the FY2022 data provided, 3M is indeed a capital-intensive business.\n",
      "The determination is supported by the reported capital expenditures of $1,831\n",
      "million for the year 2022. Capital-intensive businesses are typically\n",
      "characterized by high levels of investment in physical assets such as property,\n",
      "plant, and equipment, which is consistent with 3M's financial statements.\n",
      "Furthermore, the total assets of the company amounting to $46,455 million\n",
      "underscore the significant capital employed in its operations. The investments\n",
      "in information technology, laboratory facilities, and sustainability\n",
      "initiatives, as well as the focus on workforce development, all point to a\n",
      "business model that relies heavily on capital investment to drive growth,\n",
      "efficiency, and innovation. Therefore, the concrete figures of capital\n",
      "expenditures and total assets, along with the qualitative information about the\n",
      "company's investments, align with the characteristics of a capital-intensive\n",
      "business.\n"
     ]
    }
   ],
   "source": [
    "print_solution(base_solution)"
   ]
  },
  {
   "cell_type": "markdown",
   "metadata": {},
   "source": [
    "In this example, we can see the default answer is not that good. 3M is not a capital intensive business but the agent failed to answer the question correctly. Let's incorporate planning capability to enhance the agent."
   ]
  },
  {
   "cell_type": "markdown",
   "metadata": {},
   "source": [
    "## Customize Plans to Guide the Agent Through Complex Problem-Solving"
   ]
  },
  {
   "cell_type": "markdown",
   "metadata": {},
   "source": [
    "### Auto-generated plan with OpenSSA"
   ]
  },
  {
   "cell_type": "markdown",
   "metadata": {},
   "source": [
    "Let's upgrade our agent to incorporate planning, in this example we're decomposing the task into 4 subtasks with a hierachy with the depth of 2 layers. Each plan for the subtask is auto-generated by an LLM."
   ]
  },
  {
   "cell_type": "code",
   "execution_count": 92,
   "metadata": {},
   "outputs": [
    {
     "name": "stderr",
     "output_type": "stream",
     "text": [
      "\u001b[32m2024-05-30 17:14:22.465\u001b[0m | \u001b[1mINFO    \u001b[0m | \u001b[36mopenssa.l2.agent.agent\u001b[0m:\u001b[36msolve\u001b[0m:\u001b[36m106\u001b[0m - \u001b[1m\n",
      "GLOBAL TASK PLANNING\n",
      "====================\n",
      "\n",
      "PLAN(task=Is 3M a capital-intensive business based on FY2022 data?,\n",
      "     subs=[ PLAN(task=\"What is the total amount of 3Ms capital expenditures for FY2022?\"),\n",
      "            PLAN(task=What is the depreciation and amortization expense for 3M in FY2022?),\n",
      "            PLAN(task=\"What is the ratio of 3Ms capital expenditures to its total revenue for FY2022?\"),\n",
      "            PLAN(task=\"What is the nature of 3Ms assets and how are they utilized in the business?\")])\n",
      "\u001b[0m\n"
     ]
    },
    {
     "name": "stdout",
     "output_type": "stream",
     "text": [
      "\u001b[32m2024-05-30 17:14:22.465\u001b[0m | \u001b[1mINFO    \u001b[0m | \u001b[36mopenssa.l2.agent.agent\u001b[0m:\u001b[36msolve\u001b[0m:\u001b[36m106\u001b[0m - \u001b[1m\n",
      "GLOBAL TASK PLANNING\n",
      "====================\n",
      "\n",
      "PLAN(task=Is 3M a capital-intensive business based on FY2022 data?,\n",
      "     subs=[ PLAN(task=\"What is the total amount of 3Ms capital expenditures for FY2022?\"),\n",
      "            PLAN(task=What is the depreciation and amortization expense for 3M in FY2022?),\n",
      "            PLAN(task=\"What is the ratio of 3Ms capital expenditures to its total revenue for FY2022?\"),\n",
      "            PLAN(task=\"What is the nature of 3Ms assets and how are they utilized in the business?\")])\n",
      "\u001b[0m\n"
     ]
    },
    {
     "name": "stderr",
     "output_type": "stream",
     "text": [
      "  0%|          | 0/4 [00:00<?, ?it/s]\u001b[32m2024-05-30 17:14:38.053\u001b[0m | \u001b[34m\u001b[1mDEBUG   \u001b[0m | \u001b[36mopenssa.l2.planning.hierarchical.plan\u001b[0m:\u001b[36mexecute\u001b[0m:\u001b[36m112\u001b[0m - \u001b[34m\u001b[1m\n",
      "TASK-LEVEL REASONING\n",
      "====================\n",
      "\n",
      "WHAT IS THE TOTAL AMOUNT OF 3M'S CAPITAL EXPENDITURES FOR FY2022?\n",
      "--------------------------\n",
      "Based on the information provided by the uniquely named resource '3M_2022_10K', which is a Form 10-K document containing comprehensive financial data for 3M Company for the fiscal year ended December 31, 2022, the total amount of 3M's capital expenditures for FY2022 is reported to be $1,749 million. This figure is taken directly from the specified resource, which is expected to be a reliable and accurate source of official financial information as Form 10-K is a detailed annual report filed by public companies with the SEC, outlining the company's financial performance. Therefore, the answer is based on rigorous data provided by the company in its official annual report.\n",
      "\u001b[0m\n"
     ]
    },
    {
     "name": "stdout",
     "output_type": "stream",
     "text": [
      "\u001b[32m2024-05-30 17:14:38.053\u001b[0m | \u001b[34m\u001b[1mDEBUG   \u001b[0m | \u001b[36mopenssa.l2.planning.hierarchical.plan\u001b[0m:\u001b[36mexecute\u001b[0m:\u001b[36m112\u001b[0m - \u001b[34m\u001b[1m\n",
      "TASK-LEVEL REASONING\n",
      "====================\n",
      "\n",
      "WHAT IS THE TOTAL AMOUNT OF 3M'S CAPITAL EXPENDITURES FOR FY2022?\n",
      "--------------------------\n",
      "Based on the information provided by the uniquely named resource '3M_2022_10K', which is a Form 10-K document containing comprehensive financial data for 3M Company for the fiscal year ended December 31, 2022, the total amount of 3M's capital expenditures for FY2022 is reported to be $1,749 million. This figure is taken directly from the specified resource, which is expected to be a reliable and accurate source of official financial information as Form 10-K is a detailed annual report filed by public companies with the SEC, outlining the company's financial performance. Therefore, the answer is based on rigorous data provided by the company in its official annual report.\n",
      "\u001b[0m\n"
     ]
    },
    {
     "name": "stderr",
     "output_type": "stream",
     "text": [
      " 25%|██▌       | 1/4 [00:08<00:24,  8.25s/it]\u001b[32m2024-05-30 17:14:45.661\u001b[0m | \u001b[34m\u001b[1mDEBUG   \u001b[0m | \u001b[36mopenssa.l2.planning.hierarchical.plan\u001b[0m:\u001b[36mexecute\u001b[0m:\u001b[36m112\u001b[0m - \u001b[34m\u001b[1m\n",
      "TASK-LEVEL REASONING\n",
      "====================\n",
      "\n",
      "WHAT IS THE DEPRECIATION AND AMORTIZATION EXPENSE FOR 3M IN FY2022?\n",
      "--------------------------\n",
      "The depreciation and amortization expense for 3M in FY2022 was $498 million. This information is derived from the '3M_2022_10K' resource, which is a Form 10-K document. Form 10-Ks are comprehensive annual reports filed with the U.S. Securities and Exchange Commission (SEC) that provide a detailed overview of a company's financial performance for the fiscal year. Given that the Form 10-K is an official document that must adhere to SEC regulations and generally accepted accounting principles (GAAP), the reported figure for depreciation and amortization expense is considered reliable and accurate. The specific value of $498 million is taken directly from the resource, which is expected to be a precise reflection of 3M's financials for the year ended December 31, 2022.\n",
      "\u001b[0m\n"
     ]
    },
    {
     "name": "stdout",
     "output_type": "stream",
     "text": [
      "\u001b[32m2024-05-30 17:14:45.661\u001b[0m | \u001b[34m\u001b[1mDEBUG   \u001b[0m | \u001b[36mopenssa.l2.planning.hierarchical.plan\u001b[0m:\u001b[36mexecute\u001b[0m:\u001b[36m112\u001b[0m - \u001b[34m\u001b[1m\n",
      "TASK-LEVEL REASONING\n",
      "====================\n",
      "\n",
      "WHAT IS THE DEPRECIATION AND AMORTIZATION EXPENSE FOR 3M IN FY2022?\n",
      "--------------------------\n",
      "The depreciation and amortization expense for 3M in FY2022 was $498 million. This information is derived from the '3M_2022_10K' resource, which is a Form 10-K document. Form 10-Ks are comprehensive annual reports filed with the U.S. Securities and Exchange Commission (SEC) that provide a detailed overview of a company's financial performance for the fiscal year. Given that the Form 10-K is an official document that must adhere to SEC regulations and generally accepted accounting principles (GAAP), the reported figure for depreciation and amortization expense is considered reliable and accurate. The specific value of $498 million is taken directly from the resource, which is expected to be a precise reflection of 3M's financials for the year ended December 31, 2022.\n",
      "\u001b[0m\n"
     ]
    },
    {
     "name": "stderr",
     "output_type": "stream",
     "text": [
      " 50%|█████     | 2/4 [00:15<00:15,  7.87s/it]\u001b[32m2024-05-30 17:14:52.256\u001b[0m | \u001b[34m\u001b[1mDEBUG   \u001b[0m | \u001b[36mopenssa.l2.planning.hierarchical.plan\u001b[0m:\u001b[36mexecute\u001b[0m:\u001b[36m112\u001b[0m - \u001b[34m\u001b[1m\n",
      "TASK-LEVEL REASONING\n",
      "====================\n",
      "\n",
      "WHAT IS THE RATIO OF 3M'S CAPITAL EXPENDITURES TO ITS TOTAL REVENUE FOR FY2022?\n",
      "--------------------------\n",
      "To calculate the ratio of 3M's capital expenditures to its total revenue for FY2022, we need two specific figures: the total capital expenditures and the total revenue for the year. From the additional information provided, we know that 3M's capital expenditures for FY2022 were $1,749 million. However, the total revenue figure is not directly provided in the information available. Since the ratio cannot be calculated without both values, and the total revenue figure is missing, we cannot provide a confident answer with concrete results to the posed question.\n",
      "\u001b[0m\n"
     ]
    },
    {
     "name": "stdout",
     "output_type": "stream",
     "text": [
      "\u001b[32m2024-05-30 17:14:52.256\u001b[0m | \u001b[34m\u001b[1mDEBUG   \u001b[0m | \u001b[36mopenssa.l2.planning.hierarchical.plan\u001b[0m:\u001b[36mexecute\u001b[0m:\u001b[36m112\u001b[0m - \u001b[34m\u001b[1m\n",
      "TASK-LEVEL REASONING\n",
      "====================\n",
      "\n",
      "WHAT IS THE RATIO OF 3M'S CAPITAL EXPENDITURES TO ITS TOTAL REVENUE FOR FY2022?\n",
      "--------------------------\n",
      "To calculate the ratio of 3M's capital expenditures to its total revenue for FY2022, we need two specific figures: the total capital expenditures and the total revenue for the year. From the additional information provided, we know that 3M's capital expenditures for FY2022 were $1,749 million. However, the total revenue figure is not directly provided in the information available. Since the ratio cannot be calculated without both values, and the total revenue figure is missing, we cannot provide a confident answer with concrete results to the posed question.\n",
      "\u001b[0m\n"
     ]
    },
    {
     "name": "stderr",
     "output_type": "stream",
     "text": [
      " 75%|███████▌  | 3/4 [00:22<00:07,  7.29s/it]\u001b[32m2024-05-30 17:15:15.251\u001b[0m | \u001b[34m\u001b[1mDEBUG   \u001b[0m | \u001b[36mopenssa.l2.planning.hierarchical.plan\u001b[0m:\u001b[36mexecute\u001b[0m:\u001b[36m112\u001b[0m - \u001b[34m\u001b[1m\n",
      "TASK-LEVEL REASONING\n",
      "====================\n",
      "\n",
      "WHAT IS THE NATURE OF 3M'S ASSETS AND HOW ARE THEY UTILIZED IN THE BUSINESS?\n",
      "--------------------------\n",
      "The nature of 3M's assets is diverse, encompassing current assets, long-term investments, property, plant, and equipment (PP&E), operating lease right-of-use assets, goodwill, intangible assets, and other assets. These assets are utilized across the company's various business segments to support day-to-day operations, manufacturing processes, and strategic initiatives.\n",
      "\n",
      "Current assets, including cash, marketable securities, accounts receivable, and inventories, are used for managing liquidity, financing short-term obligations, and maintaining operations. PP&E are critical for 3M's manufacturing capabilities, allowing the company to produce a wide array of products. Operating lease right-of-use assets enable 3M to lease facilities and equipment necessary for its operations without owning them.\n",
      "\n",
      "Goodwill arises from acquisitions and represents the future economic benefits arising from assets that are not individually identified and separately recognized. Intangible assets such as patents and trademarks are leveraged to maintain 3M's competitive edge and are a result of the company's focus on innovation and branding. These assets are key to generating revenue and are strategically managed to ensure they contribute effectively to 3M's overall business goals.\n",
      "\n",
      "The utilization of these assets is reflected in the company's financial performance, including its ability to generate revenue and manage costs. The capital expenditures of $1,749 million for FY2022 indicate ongoing investment in PP&E to maintain and enhance the company's production capabilities and infrastructure. The depreciation and amortization expense of $498 million for the same period reflects the systematic allocation of the cost of tangible and intangible assets over their useful lives.\n",
      "\n",
      "In conclusion, 3M's assets are integral to its operations and are actively managed to support its business strategy, which includes maintaining a strong manufacturing base, fostering innovation, and expanding its global presence. The company's financial investments in these assets are indicative of its commitment to long-term growth and value creation.\n",
      "\u001b[0m\n"
     ]
    },
    {
     "name": "stdout",
     "output_type": "stream",
     "text": [
      "\u001b[32m2024-05-30 17:15:15.251\u001b[0m | \u001b[34m\u001b[1mDEBUG   \u001b[0m | \u001b[36mopenssa.l2.planning.hierarchical.plan\u001b[0m:\u001b[36mexecute\u001b[0m:\u001b[36m112\u001b[0m - \u001b[34m\u001b[1m\n",
      "TASK-LEVEL REASONING\n",
      "====================\n",
      "\n",
      "WHAT IS THE NATURE OF 3M'S ASSETS AND HOW ARE THEY UTILIZED IN THE BUSINESS?\n",
      "--------------------------\n",
      "The nature of 3M's assets is diverse, encompassing current assets, long-term investments, property, plant, and equipment (PP&E), operating lease right-of-use assets, goodwill, intangible assets, and other assets. These assets are utilized across the company's various business segments to support day-to-day operations, manufacturing processes, and strategic initiatives.\n",
      "\n",
      "Current assets, including cash, marketable securities, accounts receivable, and inventories, are used for managing liquidity, financing short-term obligations, and maintaining operations. PP&E are critical for 3M's manufacturing capabilities, allowing the company to produce a wide array of products. Operating lease right-of-use assets enable 3M to lease facilities and equipment necessary for its operations without owning them.\n",
      "\n",
      "Goodwill arises from acquisitions and represents the future economic benefits arising from assets that are not individually identified and separately recognized. Intangible assets such as patents and trademarks are leveraged to maintain 3M's competitive edge and are a result of the company's focus on innovation and branding. These assets are key to generating revenue and are strategically managed to ensure they contribute effectively to 3M's overall business goals.\n",
      "\n",
      "The utilization of these assets is reflected in the company's financial performance, including its ability to generate revenue and manage costs. The capital expenditures of $1,749 million for FY2022 indicate ongoing investment in PP&E to maintain and enhance the company's production capabilities and infrastructure. The depreciation and amortization expense of $498 million for the same period reflects the systematic allocation of the cost of tangible and intangible assets over their useful lives.\n",
      "\n",
      "In conclusion, 3M's assets are integral to its operations and are actively managed to support its business strategy, which includes maintaining a strong manufacturing base, fostering innovation, and expanding its global presence. The company's financial investments in these assets are indicative of its commitment to long-term growth and value creation.\n",
      "\u001b[0m\n"
     ]
    },
    {
     "name": "stderr",
     "output_type": "stream",
     "text": [
      "100%|██████████| 4/4 [00:45<00:00, 11.36s/it]\n",
      "\u001b[32m2024-05-30 17:15:36.431\u001b[0m | \u001b[34m\u001b[1mDEBUG   \u001b[0m | \u001b[36mopenssa.l2.planning.hierarchical.plan\u001b[0m:\u001b[36mexecute\u001b[0m:\u001b[36m95\u001b[0m - \u001b[34m\u001b[1m\n",
      "TASK-LEVEL REASONING with Supporting/Other Results\n",
      "==================================================\n",
      "\n",
      "PLAN(task=Is 3M a capital-intensive business based on FY2022 data?,\n",
      "     subs=[ PLAN(task=\"What is the total amount of 3Ms capital expenditures for FY2022?\"),\n",
      "            PLAN(task=What is the depreciation and amortization expense for 3M in FY2022?),\n",
      "            PLAN(task=\"What is the ratio of 3Ms capital expenditures to its total revenue for FY2022?\"),\n",
      "            PLAN(task=\"What is the nature of 3Ms assets and how are they utilized in the business?\")])\n",
      "\n",
      "IS 3M A CAPITAL-INTENSIVE BUSINESS BASED ON FY2022 DATA?\n",
      "--------------------------\n",
      "To assess whether 3M is a capital-intensive business based on FY2022 data, we need to consider the company's capital expenditures, the nature of its assets, and how these assets are utilized in the business.\n",
      "\n",
      "From the 3M_2022_10K document, we know that 3M's capital expenditures for FY2022 were $1,749 million. This figure represents the amount 3M invested in fixed assets such as property, plant, and equipment (PP&E) during the fiscal year. Capital expenditures of this magnitude suggest significant investment in the physical assets required for production and operations, which is a characteristic of capital-intensive industries.\n",
      "\n",
      "The depreciation and amortization expense for 3M in FY2022 was $498 million. This expense reflects the cost of wear and tear or obsolescence of the company's fixed assets and intangible assets over time. The size of this expense can also be indicative of the scale of 3M's investment in its assets, as larger asset bases typically lead to higher depreciation and amortization expenses.\n",
      "\n",
      "However, without the total revenue figure for FY2022, we cannot calculate the ratio of capital expenditures to total revenue, which would have provided a clearer picture of capital intensity relative to the company's sales.\n",
      "\n",
      "The nature of 3M's assets is diverse and includes current assets, long-term investments, PP&E, operating lease right-of-use assets, goodwill, and intangible assets. These assets are utilized across various business segments to support operations, manufacturing processes, and strategic initiatives. The substantial investment in PP&E is particularly relevant, as it underscores the company's reliance on physical assets for manufacturing its products.\n",
      "\n",
      "Given the information provided, we can infer that 3M is likely a capital-intensive business. The significant capital expenditures, the reliance on PP&E for manufacturing, and the considerable depreciation and amortization expense all point towards a business model that requires substantial investment in fixed assets. This is further supported by the nature of 3M's assets, which are critical for its manufacturing capabilities and strategic initiatives aimed at long-term growth and value creation.\n",
      "\n",
      "In conclusion, while the lack of a total revenue figure prevents us from calculating specific ratios that would further substantiate the capital intensity, the available FY2022 data suggests that 3M operates a capital-intensive business.\n",
      "\n",
      " ^ \n",
      "/|\\\n",
      " | \n",
      "\n",
      "REASONING WITHOUT SUPPORTING/OTHER RESULTS (preliminary conclusions here can be overriden by more convincing supporting/other data):\n",
      "To determine whether 3M is a capital-intensive business based on FY2022 data, one would need to analyze specific financial metrics from the company's financial statements for the fiscal year 2022. Capital intensity can be assessed by looking at ratios such as the capital expenditure to sales ratio, the property, plant, and equipment (PP&E) to total assets ratio, or the depreciation to sales ratio. These ratios help to understand how much the company is investing in fixed assets relative to its sales or total assets, which is indicative of capital intensity. Additionally, comparing these ratios to industry averages or to companies within the same sector can provide context as to whether 3M is more or less capital-intensive than its peers. Without access to 3M's FY2022 financial data and relevant industry benchmarks, it is not possible to confidently answer whether 3M is a capital-intensive business. A rigorous analysis would require the latest financial reports, industry data, and potentially insights from financial analysts or industry experts.\n",
      "\n",
      "\n",
      "SUPPORTING QUESTION/TASK #1:\n",
      "What is the total amount of 3M's capital expenditures for FY2022?\n",
      "\n",
      "SUPPORTING RESULT #1:\n",
      "Based on the information provided by the uniquely named resource '3M_2022_10K', which is a Form 10-K document containing comprehensive financial data for 3M Company for the fiscal year ended December 31, 2022, the total amount of 3M's capital expenditures for FY2022 is reported to be $1,749 million. This figure is taken directly from the specified resource, which is expected to be a reliable and accurate source of official financial information as Form 10-K is a detailed annual report filed by public companies with the SEC, outlining the company's financial performance. Therefore, the answer is based on rigorous data provided by the company in its official annual report.\n",
      "\n",
      "\n",
      "SUPPORTING QUESTION/TASK #2:\n",
      "What is the depreciation and amortization expense for 3M in FY2022?\n",
      "\n",
      "SUPPORTING RESULT #2:\n",
      "The depreciation and amortization expense for 3M in FY2022 was $498 million. This information is derived from the '3M_2022_10K' resource, which is a Form 10-K document. Form 10-Ks are comprehensive annual reports filed with the U.S. Securities and Exchange Commission (SEC) that provide a detailed overview of a company's financial performance for the fiscal year. Given that the Form 10-K is an official document that must adhere to SEC regulations and generally accepted accounting principles (GAAP), the reported figure for depreciation and amortization expense is considered reliable and accurate. The specific value of $498 million is taken directly from the resource, which is expected to be a precise reflection of 3M's financials for the year ended December 31, 2022.\n",
      "\n",
      "\n",
      "SUPPORTING QUESTION/TASK #3:\n",
      "What is the ratio of 3M's capital expenditures to its total revenue for FY2022?\n",
      "\n",
      "SUPPORTING RESULT #3:\n",
      "To calculate the ratio of 3M's capital expenditures to its total revenue for FY2022, we need two specific figures: the total capital expenditures and the total revenue for the year. From the additional information provided, we know that 3M's capital expenditures for FY2022 were $1,749 million. However, the total revenue figure is not directly provided in the information available. Since the ratio cannot be calculated without both values, and the total revenue figure is missing, we cannot provide a confident answer with concrete results to the posed question.\n",
      "\n",
      "\n",
      "SUPPORTING QUESTION/TASK #4:\n",
      "What is the nature of 3M's assets and how are they utilized in the business?\n",
      "\n",
      "SUPPORTING RESULT #4:\n",
      "The nature of 3M's assets is diverse, encompassing current assets, long-term investments, property, plant, and equipment (PP&E), operating lease right-of-use assets, goodwill, intangible assets, and other assets. These assets are utilized across the company's various business segments to support day-to-day operations, manufacturing processes, and strategic initiatives.\n",
      "\n",
      "Current assets, including cash, marketable securities, accounts receivable, and inventories, are used for managing liquidity, financing short-term obligations, and maintaining operations. PP&E are critical for 3M's manufacturing capabilities, allowing the company to produce a wide array of products. Operating lease right-of-use assets enable 3M to lease facilities and equipment necessary for its operations without owning them.\n",
      "\n",
      "Goodwill arises from acquisitions and represents the future economic benefits arising from assets that are not individually identified and separately recognized. Intangible assets such as patents and trademarks are leveraged to maintain 3M's competitive edge and are a result of the company's focus on innovation and branding. These assets are key to generating revenue and are strategically managed to ensure they contribute effectively to 3M's overall business goals.\n",
      "\n",
      "The utilization of these assets is reflected in the company's financial performance, including its ability to generate revenue and manage costs. The capital expenditures of $1,749 million for FY2022 indicate ongoing investment in PP&E to maintain and enhance the company's production capabilities and infrastructure. The depreciation and amortization expense of $498 million for the same period reflects the systematic allocation of the cost of tangible and intangible assets over their useful lives.\n",
      "\n",
      "In conclusion, 3M's assets are integral to its operations and are actively managed to support its business strategy, which includes maintaining a strong manufacturing base, fostering innovation, and expanding its global presence. The company's financial investments in these assets are indicative of its commitment to long-term growth and value creation.\n",
      "\u001b[0m\n"
     ]
    },
    {
     "name": "stdout",
     "output_type": "stream",
     "text": [
      "\u001b[32m2024-05-30 17:15:36.431\u001b[0m | \u001b[34m\u001b[1mDEBUG   \u001b[0m | \u001b[36mopenssa.l2.planning.hierarchical.plan\u001b[0m:\u001b[36mexecute\u001b[0m:\u001b[36m95\u001b[0m - \u001b[34m\u001b[1m\n",
      "TASK-LEVEL REASONING with Supporting/Other Results\n",
      "==================================================\n",
      "\n",
      "PLAN(task=Is 3M a capital-intensive business based on FY2022 data?,\n",
      "     subs=[ PLAN(task=\"What is the total amount of 3Ms capital expenditures for FY2022?\"),\n",
      "            PLAN(task=What is the depreciation and amortization expense for 3M in FY2022?),\n",
      "            PLAN(task=\"What is the ratio of 3Ms capital expenditures to its total revenue for FY2022?\"),\n",
      "            PLAN(task=\"What is the nature of 3Ms assets and how are they utilized in the business?\")])\n",
      "\n",
      "IS 3M A CAPITAL-INTENSIVE BUSINESS BASED ON FY2022 DATA?\n",
      "--------------------------\n",
      "To assess whether 3M is a capital-intensive business based on FY2022 data, we need to consider the company's capital expenditures, the nature of its assets, and how these assets are utilized in the business.\n",
      "\n",
      "From the 3M_2022_10K document, we know that 3M's capital expenditures for FY2022 were $1,749 million. This figure represents the amount 3M invested in fixed assets such as property, plant, and equipment (PP&E) during the fiscal year. Capital expenditures of this magnitude suggest significant investment in the physical assets required for production and operations, which is a characteristic of capital-intensive industries.\n",
      "\n",
      "The depreciation and amortization expense for 3M in FY2022 was $498 million. This expense reflects the cost of wear and tear or obsolescence of the company's fixed assets and intangible assets over time. The size of this expense can also be indicative of the scale of 3M's investment in its assets, as larger asset bases typically lead to higher depreciation and amortization expenses.\n",
      "\n",
      "However, without the total revenue figure for FY2022, we cannot calculate the ratio of capital expenditures to total revenue, which would have provided a clearer picture of capital intensity relative to the company's sales.\n",
      "\n",
      "The nature of 3M's assets is diverse and includes current assets, long-term investments, PP&E, operating lease right-of-use assets, goodwill, and intangible assets. These assets are utilized across various business segments to support operations, manufacturing processes, and strategic initiatives. The substantial investment in PP&E is particularly relevant, as it underscores the company's reliance on physical assets for manufacturing its products.\n",
      "\n",
      "Given the information provided, we can infer that 3M is likely a capital-intensive business. The significant capital expenditures, the reliance on PP&E for manufacturing, and the considerable depreciation and amortization expense all point towards a business model that requires substantial investment in fixed assets. This is further supported by the nature of 3M's assets, which are critical for its manufacturing capabilities and strategic initiatives aimed at long-term growth and value creation.\n",
      "\n",
      "In conclusion, while the lack of a total revenue figure prevents us from calculating specific ratios that would further substantiate the capital intensity, the available FY2022 data suggests that 3M operates a capital-intensive business.\n",
      "\n",
      " ^ \n",
      "/|\\\n",
      " | \n",
      "\n",
      "REASONING WITHOUT SUPPORTING/OTHER RESULTS (preliminary conclusions here can be overriden by more convincing supporting/other data):\n",
      "To determine whether 3M is a capital-intensive business based on FY2022 data, one would need to analyze specific financial metrics from the company's financial statements for the fiscal year 2022. Capital intensity can be assessed by looking at ratios such as the capital expenditure to sales ratio, the property, plant, and equipment (PP&E) to total assets ratio, or the depreciation to sales ratio. These ratios help to understand how much the company is investing in fixed assets relative to its sales or total assets, which is indicative of capital intensity. Additionally, comparing these ratios to industry averages or to companies within the same sector can provide context as to whether 3M is more or less capital-intensive than its peers. Without access to 3M's FY2022 financial data and relevant industry benchmarks, it is not possible to confidently answer whether 3M is a capital-intensive business. A rigorous analysis would require the latest financial reports, industry data, and potentially insights from financial analysts or industry experts.\n",
      "\n",
      "\n",
      "SUPPORTING QUESTION/TASK #1:\n",
      "What is the total amount of 3M's capital expenditures for FY2022?\n",
      "\n",
      "SUPPORTING RESULT #1:\n",
      "Based on the information provided by the uniquely named resource '3M_2022_10K', which is a Form 10-K document containing comprehensive financial data for 3M Company for the fiscal year ended December 31, 2022, the total amount of 3M's capital expenditures for FY2022 is reported to be $1,749 million. This figure is taken directly from the specified resource, which is expected to be a reliable and accurate source of official financial information as Form 10-K is a detailed annual report filed by public companies with the SEC, outlining the company's financial performance. Therefore, the answer is based on rigorous data provided by the company in its official annual report.\n",
      "\n",
      "\n",
      "SUPPORTING QUESTION/TASK #2:\n",
      "What is the depreciation and amortization expense for 3M in FY2022?\n",
      "\n",
      "SUPPORTING RESULT #2:\n",
      "The depreciation and amortization expense for 3M in FY2022 was $498 million. This information is derived from the '3M_2022_10K' resource, which is a Form 10-K document. Form 10-Ks are comprehensive annual reports filed with the U.S. Securities and Exchange Commission (SEC) that provide a detailed overview of a company's financial performance for the fiscal year. Given that the Form 10-K is an official document that must adhere to SEC regulations and generally accepted accounting principles (GAAP), the reported figure for depreciation and amortization expense is considered reliable and accurate. The specific value of $498 million is taken directly from the resource, which is expected to be a precise reflection of 3M's financials for the year ended December 31, 2022.\n",
      "\n",
      "\n",
      "SUPPORTING QUESTION/TASK #3:\n",
      "What is the ratio of 3M's capital expenditures to its total revenue for FY2022?\n",
      "\n",
      "SUPPORTING RESULT #3:\n",
      "To calculate the ratio of 3M's capital expenditures to its total revenue for FY2022, we need two specific figures: the total capital expenditures and the total revenue for the year. From the additional information provided, we know that 3M's capital expenditures for FY2022 were $1,749 million. However, the total revenue figure is not directly provided in the information available. Since the ratio cannot be calculated without both values, and the total revenue figure is missing, we cannot provide a confident answer with concrete results to the posed question.\n",
      "\n",
      "\n",
      "SUPPORTING QUESTION/TASK #4:\n",
      "What is the nature of 3M's assets and how are they utilized in the business?\n",
      "\n",
      "SUPPORTING RESULT #4:\n",
      "The nature of 3M's assets is diverse, encompassing current assets, long-term investments, property, plant, and equipment (PP&E), operating lease right-of-use assets, goodwill, intangible assets, and other assets. These assets are utilized across the company's various business segments to support day-to-day operations, manufacturing processes, and strategic initiatives.\n",
      "\n",
      "Current assets, including cash, marketable securities, accounts receivable, and inventories, are used for managing liquidity, financing short-term obligations, and maintaining operations. PP&E are critical for 3M's manufacturing capabilities, allowing the company to produce a wide array of products. Operating lease right-of-use assets enable 3M to lease facilities and equipment necessary for its operations without owning them.\n",
      "\n",
      "Goodwill arises from acquisitions and represents the future economic benefits arising from assets that are not individually identified and separately recognized. Intangible assets such as patents and trademarks are leveraged to maintain 3M's competitive edge and are a result of the company's focus on innovation and branding. These assets are key to generating revenue and are strategically managed to ensure they contribute effectively to 3M's overall business goals.\n",
      "\n",
      "The utilization of these assets is reflected in the company's financial performance, including its ability to generate revenue and manage costs. The capital expenditures of $1,749 million for FY2022 indicate ongoing investment in PP&E to maintain and enhance the company's production capabilities and infrastructure. The depreciation and amortization expense of $498 million for the same period reflects the systematic allocation of the cost of tangible and intangible assets over their useful lives.\n",
      "\n",
      "In conclusion, 3M's assets are integral to its operations and are actively managed to support its business strategy, which includes maintaining a strong manufacturing base, fostering innovation, and expanding its global presence. The company's financial investments in these assets are indicative of its commitment to long-term growth and value creation.\n",
      "\u001b[0m\n"
     ]
    }
   ],
   "source": [
    "agent = Agent(planner=AutoHTPlanner(max_depth=2, max_subtasks_per_decomp=4),\n",
    "                reasoner=OodaReasoner(),\n",
    "                knowledge=None,\n",
    "                resources={FileResource(path=DOC_PATH)})\n",
    "\n",
    "auto_htp_statically_solution = agent.solve(problem=PROBLEM, plan=None, dynamic=False)"
   ]
  },
  {
   "cell_type": "code",
   "execution_count": 93,
   "metadata": {},
   "outputs": [
    {
     "name": "stdout",
     "output_type": "stream",
     "text": [
      "PROBLEM: \n",
      "====================\n",
      "Is 3M a capital-intensive business based on FY2022 data? \n",
      "\n",
      "EXPECTED ANSWER: \n",
      "====================\n",
      "    \n",
      "    No, the company is managing its CAPEX and Fixed Assets pretty efficiently,\n",
      "    which is evident from below key metrics:\n",
      "\n",
      "    CAPEX/Revenue Ratio: 5.1%\n",
      "\n",
      "    Fixed assets/Total Assets: 20%\n",
      "\n",
      "    Return on Assets= 12.4% \n",
      "\n",
      "AGENT'S ANSWER:\n",
      "====================\n",
      "To assess whether 3M is a capital-intensive business based on FY2022 data, we\n",
      "need to consider the company's capital expenditures, the nature of its assets,\n",
      "and how these assets are utilized in the business.  From the 3M_2022_10K\n",
      "document, we know that 3M's capital expenditures for FY2022 were $1,749 million.\n",
      "This figure represents the amount 3M invested in fixed assets such as property,\n",
      "plant, and equipment (PP&E) during the fiscal year. Capital expenditures of this\n",
      "magnitude suggest significant investment in the physical assets required for\n",
      "production and operations, which is a characteristic of capital-intensive\n",
      "industries.  The depreciation and amortization expense for 3M in FY2022 was $498\n",
      "million. This expense reflects the cost of wear and tear or obsolescence of the\n",
      "company's fixed assets and intangible assets over time. The size of this expense\n",
      "can also be indicative of the scale of 3M's investment in its assets, as larger\n",
      "asset bases typically lead to higher depreciation and amortization expenses.\n",
      "However, without the total revenue figure for FY2022, we cannot calculate the\n",
      "ratio of capital expenditures to total revenue, which would have provided a\n",
      "clearer picture of capital intensity relative to the company's sales.  The\n",
      "nature of 3M's assets is diverse and includes current assets, long-term\n",
      "investments, PP&E, operating lease right-of-use assets, goodwill, and intangible\n",
      "assets. These assets are utilized across various business segments to support\n",
      "operations, manufacturing processes, and strategic initiatives. The substantial\n",
      "investment in PP&E is particularly relevant, as it underscores the company's\n",
      "reliance on physical assets for manufacturing its products.  Given the\n",
      "information provided, we can infer that 3M is likely a capital-intensive\n",
      "business. The significant capital expenditures, the reliance on PP&E for\n",
      "manufacturing, and the considerable depreciation and amortization expense all\n",
      "point towards a business model that requires substantial investment in fixed\n",
      "assets. This is further supported by the nature of 3M's assets, which are\n",
      "critical for its manufacturing capabilities and strategic initiatives aimed at\n",
      "long-term growth and value creation.  In conclusion, while the lack of a total\n",
      "revenue figure prevents us from calculating specific ratios that would further\n",
      "substantiate the capital intensity, the available FY2022 data suggests that 3M\n",
      "operates a capital-intensive business.\n"
     ]
    }
   ],
   "source": [
    "print_solution(auto_htp_statically_solution)"
   ]
  },
  {
   "cell_type": "markdown",
   "metadata": {},
   "source": [
    "### Auto-generated plan with dynamically solving"
   ]
  },
  {
   "cell_type": "code",
   "execution_count": 99,
   "metadata": {},
   "outputs": [],
   "source": [
    "agent = Agent(planner=AutoHTPlanner(max_depth=2, max_subtasks_per_decomp=4),\n",
    "                reasoner=OodaReasoner(),\n",
    "                knowledge=None,\n",
    "                resources={FileResource(path=DOC_PATH)})\n",
    "\n",
    "auto_htp_dynamically_solution = agent.solve(problem=PROBLEM, plan=None, dynamic=True)"
   ]
  },
  {
   "cell_type": "code",
   "execution_count": 100,
   "metadata": {},
   "outputs": [
    {
     "name": "stdout",
     "output_type": "stream",
     "text": [
      "PROBLEM: \n",
      "====================\n",
      "Is 3M a capital-intensive business based on FY2022 data? \n",
      "\n",
      "EXPECTED ANSWER: \n",
      "====================\n",
      "    \n",
      "    No, the company is managing its CAPEX and Fixed Assets pretty efficiently,\n",
      "    which is evident from below key metrics:\n",
      "\n",
      "    CAPEX/Revenue Ratio: 5.1%\n",
      "\n",
      "    Fixed assets/Total Assets: 20%\n",
      "\n",
      "    Return on Assets= 12.4% \n",
      "\n",
      "AGENT'S ANSWER:\n",
      "====================\n",
      "Based on the FY2022 data provided in the 3M_2022_10K resource, 3M can be\n",
      "considered a capital-intensive business. The resource indicates that the company\n",
      "has made significant investments in property, plant, and equipment, which are\n",
      "typical indicators of a capital-intensive industry. Capital-intensive businesses\n",
      "are characterized by a high proportion of capital assets to labor, and the focus\n",
      "on enhancing manufacturing capabilities and aligning product capability with\n",
      "sales in major geographic areas suggests that 3M relies heavily on physical\n",
      "assets to generate revenue. The capital spending and net property, plant, and\n",
      "equipment figures, although not quantified in the provided information, are\n",
      "described as substantial. This further supports the conclusion that 3M's\n",
      "operations require significant capital investment, which is a hallmark of a\n",
      "capital-intensive business.\n"
     ]
    }
   ],
   "source": [
    "print_solution(auto_htp_dynamically_solution)"
   ]
  },
  {
   "cell_type": "markdown",
   "metadata": {},
   "source": []
  },
  {
   "cell_type": "markdown",
   "metadata": {},
   "source": [
    "### Customized plan provided by the user"
   ]
  },
  {
   "cell_type": "code",
   "execution_count": 102,
   "metadata": {},
   "outputs": [],
   "source": [
    "COMPANY = '3M'\n",
    "PERIOD = '2022'\n",
    "EXPERT_PLAN=\"\"\"\n",
    "cap-intens:\n",
    "  task: >-\n",
    "    Assess whether {COMPANY} is capital-intensive according to {PERIOD} fiscal period data\n",
    "\n",
    "  sub-plans:\n",
    "    # 1 single Retrieval task for multiple quantities on same statement, for both efficiency & mutual consistency;\n",
    "    # retrieve individual starting & ending balance values only, without taking division or simple arithmetic average\n",
    "    # because RAG LMs may not be good at calculation & mathematical reasoning\n",
    "    - task: |-\n",
    "        What are values in dollars of:\n",
    "        - `(Net) Fixed Assets, a.k.a. (Net) Property, Plant & Equipment (PP&E)`; and\n",
    "        - `Total Assets`\n",
    "        (or most similar-meaning reported line item to those)\n",
    "\n",
    "        on one same `(Consolidated) Balance Sheet, a.k.a. Statement of (Consolidated) Financial Position`\n",
    "        (or most similar-meaning statement) of {COMPANY}\n",
    "        (and NOT Balance Sheets of its acquired and/or divested companies)\n",
    "\n",
    "        as at following two annual fiscal period ends:\n",
    "        - previous annual fiscal period end immediately preceding {PERIOD}; and\n",
    "        - current {PERIOD} annual fiscal period end?\n",
    "\n",
    "    - task: >-\n",
    "        What is value in dollars of\n",
    "        `Capital Expenditure(s), a.k.a. CapEx, or Capital Spending, or Property, Plant & Equipment (PP&E) Expenditure(s)/Purchase(s)`\n",
    "        (or most similar-meaning reported line item)\n",
    "\n",
    "        on `(Consolidated) Cash Flow(s) Statement(s), a.k.a. (Consolidated) Statement(s) of Cash Flows`\n",
    "        (or most similar-meaning statement)\n",
    "\n",
    "        of {COMPANY} for {PERIOD} fiscal period?\n",
    "\n",
    "    # 1 single Retrieval task for multiple quantities on same statement, for both efficiency & mutual consistency\n",
    "    - task: |-\n",
    "        What are values in dollars of:\n",
    "        - `(Total) (Net) (Operating) Revenue(s), a.k.a. (Total) (Net) Sales`; and\n",
    "        - `Net Income, a.k.a. Net Profit, or Net Earnings (or Loss(es)) (Attributable to Shareholders)`\n",
    "        (or most similar-meaning reported line items to those)\n",
    "\n",
    "        on `(Consolidated) Income Statement, a.k.a. (Consolidated) Profit-and-Loss (P&L) Statement,\n",
    "        or (Consolidated) Earnings Statement, or (Consolidated) Operations Statement`\n",
    "        (or most similar-meaning statement)\n",
    "\n",
    "        of {COMPANY} for {PERIOD} fiscal period?\n",
    "\n",
    "    - task: |-\n",
    "        Assess whether {COMPANY} is capital-intensive according to {PERIOD} fiscal period data\n",
    "\n",
    "        Capital-intensive businesses tend to have one or several of the following characteristics:\n",
    "\n",
    "        - high `(Net) Fixed Assets, a.k.a. (Net) Property, Plant & Equipment (PP&E)` as proportion of `Total Assets`,\n",
    "          e.g., over 25%;\n",
    "\n",
    "        - high `Total Assets` relative to `(Total) (Net) (Operating) Revenue(s), a.k.a. (Total) (Net) Sales`,\n",
    "          e.g., over 2 times;\n",
    "\n",
    "        - high `Capital Expenditure(s), a.k.a. CapEx, or Capital Spending, or Property, Plant & Equipment (PP&E) Expenditure(s)/Purchase(s)`\n",
    "          relative to `(Total) (Net) (Operating) Revenue(s), a.k.a. (Total) (Net) Sales`,\n",
    "          e.g., over 10%;\n",
    "\n",
    "          and/or\n",
    "\n",
    "        - low `Return on (Total) Assets, a.k.a. RoA or RoTA`,\n",
    "          e.g., under 10%,\n",
    "          according to formula:\n",
    "\n",
    "          `Return on (Total) Assets, a.k.a. RoA or RoTA` = (\n",
    "            `Net Income, a.k.a. Net Profit, or Net Earnings (or Loss(es)) (Attributable to Shareholders)` /\n",
    "            `average Total Assets, typically between two consecutive fiscal year-ends`\n",
    "          )\n",
    "\"\"\""
   ]
  },
  {
   "cell_type": "code",
   "execution_count": 106,
   "metadata": {},
   "outputs": [
    {
     "ename": "ImportError",
     "evalue": "cannot import name 'Task' from 'openssa.l2.task' (unknown location)",
     "output_type": "error",
     "traceback": [
      "\u001b[0;31m---------------------------------------------------------------------------\u001b[0m",
      "\u001b[0;31mImportError\u001b[0m                               Traceback (most recent call last)",
      "\u001b[1;32m/Users/quynhle/Desktop/project-local/st-openssa/openssa/examples/FinanceBench/Tutorial.ipynb Cell 30\u001b[0m line \u001b[0;36m2\n\u001b[1;32m      <a href='vscode-notebook-cell:/Users/quynhle/Desktop/project-local/st-openssa/openssa/examples/FinanceBench/Tutorial.ipynb#Y141sZmlsZQ%3D%3D?line=0'>1</a>\u001b[0m \u001b[39mfrom\u001b[39;00m \u001b[39mopenssa\u001b[39;00m \u001b[39mimport\u001b[39;00m HTP\n\u001b[0;32m----> <a href='vscode-notebook-cell:/Users/quynhle/Desktop/project-local/st-openssa/openssa/examples/FinanceBench/Tutorial.ipynb#Y141sZmlsZQ%3D%3D?line=1'>2</a>\u001b[0m \u001b[39mfrom\u001b[39;00m \u001b[39mopenssa\u001b[39;00m\u001b[39m.\u001b[39;00m\u001b[39ml2\u001b[39;00m\u001b[39m.\u001b[39;00m\u001b[39mtask\u001b[39;00m \u001b[39mimport\u001b[39;00m Task\n\u001b[1;32m      <a href='vscode-notebook-cell:/Users/quynhle/Desktop/project-local/st-openssa/openssa/examples/FinanceBench/Tutorial.ipynb#Y141sZmlsZQ%3D%3D?line=4'>5</a>\u001b[0m htp_dict \u001b[39m=\u001b[39m EXPERT_PLAN\n\u001b[1;32m      <a href='vscode-notebook-cell:/Users/quynhle/Desktop/project-local/st-openssa/openssa/examples/FinanceBench/Tutorial.ipynb#Y141sZmlsZQ%3D%3D?line=5'>6</a>\u001b[0m htp \u001b[39m=\u001b[39m  HTP(task\u001b[39m=\u001b[39mTask\u001b[39m.\u001b[39mfrom_dict_or_str(htp_dict[\u001b[39m'\u001b[39m\u001b[39mtask\u001b[39m\u001b[39m'\u001b[39m]),  \u001b[39m# pylint: disable=unexpected-keyword-arg\u001b[39;00m\n\u001b[1;32m      <a href='vscode-notebook-cell:/Users/quynhle/Desktop/project-local/st-openssa/openssa/examples/FinanceBench/Tutorial.ipynb#Y141sZmlsZQ%3D%3D?line=6'>7</a>\u001b[0m                    sub_plans\u001b[39m=\u001b[39m[HTP\u001b[39m.\u001b[39mfrom_dict(d) \u001b[39mfor\u001b[39;00m d \u001b[39min\u001b[39;00m htp_dict\u001b[39m.\u001b[39mget(\u001b[39m'\u001b[39m\u001b[39msub-plans\u001b[39m\u001b[39m'\u001b[39m, [])])\n",
      "\u001b[0;31mImportError\u001b[0m: cannot import name 'Task' from 'openssa.l2.task' (unknown location)"
     ]
    }
   ],
   "source": [
    "from openssa import HTP\n",
    "from openssa.l2.task import Task\n",
    "\n",
    "\n",
    "htp_dict = EXPERT_PLAN\n",
    "htp =  HTP(task=Task.from_dict_or_str(htp_dict['task']),  # pylint: disable=unexpected-keyword-arg\n",
    "                   sub_plans=[HTP.from_dict(d) for d in htp_dict.get('sub-plans', [])])\n",
    "\n",
    "# htp: HTP = HTP.from_dict(EXPERT_PLAN_TEMPLATES[EXPERT_PLAN_MAP[fb_id]])\n",
    "# htp.task.ask: str = QS_BY_FB_ID[fb_id]\n",
    "# htp.concretize_tasks_from_template({EXPERT_PLAN_COMPANY_KEY='3M',\n",
    "#                                           EXPERT_PLAN_PERIOD_KEY='2022'})\n",
    "\n",
    "htp"
   ]
  },
  {
   "cell_type": "code",
   "execution_count": null,
   "metadata": {},
   "outputs": [],
   "source": [
    "agent = Agent(planner=AutoHTPlanner(max_depth=2, max_subtasks_per_decomp=4),\n",
    "                reasoner=OodaReasoner(),\n",
    "                knowledge=None,\n",
    "                resources={FileResource(path=DOC_PATH)})\n",
    "\n",
    "auto_htp_dynamically_solution = agent.solve(problem=PROBLEM, plan=EXPERT_PLAN, dynamic=False)"
   ]
  },
  {
   "cell_type": "code",
   "execution_count": null,
   "metadata": {},
   "outputs": [],
   "source": []
  },
  {
   "cell_type": "markdown",
   "metadata": {},
   "source": [
    "## 3. Add Your Own Domain Expertise to Enhance the Agent"
   ]
  },
  {
   "cell_type": "markdown",
   "metadata": {},
   "source": [
    "### Before Adding Knowledge"
   ]
  },
  {
   "cell_type": "code",
   "execution_count": null,
   "metadata": {},
   "outputs": [],
   "source": []
  },
  {
   "cell_type": "markdown",
   "metadata": {},
   "source": [
    "### After Adding Knowledge"
   ]
  },
  {
   "cell_type": "code",
   "execution_count": null,
   "metadata": {},
   "outputs": [],
   "source": []
  },
  {
   "cell_type": "markdown",
   "metadata": {},
   "source": [
    "#### Sample Knowledge \n",
    "\n",
    "```\n",
    "Balance-Sheet Line-Item Synonyms\n",
    "--------------------------------\n",
    "\n",
    "- \"Total Assets\", \"TA(s)\"\n",
    "\n",
    "- \"(Net) Fixed Assets\", \"(Net) FA(s)\",\n",
    "  \"(Net) Property, Plant & Equipment\", \"(Net) PP&E\", \"(Net) PPNE\",\n",
    "  \"(Net) Property & Equipment\", \"(Net) Plant & Equipment\", \"(Net) Property, Equipment & Intangibles\"\n",
    "\n",
    "- \"(Total) (Net) Inventory\", \"(Total) (Net) Inventories\",\n",
    "  \"(Total) (Net) Merchandise Inventory\", \"(Total) (Net) Merchandise Inventories\"\n",
    "\n",
    "- \"(Net) Accounts Receivable\", \"(Net) AR\", \"(Net) (Trade) Receivables\"\n",
    "\n",
    "- \"(Net) Accounts Payable\", \"(Net) AP\"\n",
    "```"
   ]
  },
  {
   "cell_type": "markdown",
   "metadata": {},
   "source": []
  },
  {
   "cell_type": "markdown",
   "metadata": {},
   "source": []
  }
 ],
 "metadata": {
  "kernelspec": {
   "display_name": ".venv",
   "language": "python",
   "name": "python3"
  },
  "language_info": {
   "codemirror_mode": {
    "name": "ipython",
    "version": 3
   },
   "file_extension": ".py",
   "mimetype": "text/x-python",
   "name": "python",
   "nbconvert_exporter": "python",
   "pygments_lexer": "ipython3",
   "version": "3.12.2"
  }
 },
 "nbformat": 4,
 "nbformat_minor": 2
}
