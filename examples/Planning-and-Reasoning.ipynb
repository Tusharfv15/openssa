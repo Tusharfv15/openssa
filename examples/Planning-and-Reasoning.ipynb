{
 "cells": [
  {
   "cell_type": "markdown",
   "metadata": {},
   "source": [
    "# Setups"
   ]
  },
  {
   "cell_type": "code",
   "execution_count": null,
   "metadata": {},
   "outputs": [],
   "source": [
    "%load_ext autoreload\n",
    "%autoreload 2"
   ]
  },
  {
   "cell_type": "code",
   "execution_count": null,
   "metadata": {},
   "outputs": [],
   "source": [
    "from pprint import pprint\n",
    "from IPython.display import display, Markdown"
   ]
  },
  {
   "cell_type": "code",
   "execution_count": null,
   "metadata": {},
   "outputs": [],
   "source": [
    "import os\n",
    "import sys\n",
    "\n",
    "if cwd_is_root := ('examples' in os.listdir()):\n",
    "    sys.path.append('examples')"
   ]
  },
  {
   "cell_type": "code",
   "execution_count": null,
   "metadata": {},
   "outputs": [],
   "source": [
    "from pathlib import Path\n",
    "from dotenv import load_dotenv\n",
    "\n",
    "load_dotenv(dotenv_path=Path('examples' if cwd_is_root else '.') / '.env')"
   ]
  },
  {
   "cell_type": "markdown",
   "metadata": {},
   "source": [
    "# Imports"
   ]
  },
  {
   "cell_type": "code",
   "execution_count": null,
   "metadata": {},
   "outputs": [],
   "source": [
    "from openssa import Agent, HTP, AutoHTPlanner, OodaReasoner, FileResource\n",
    "from FinanceBench.data import cache_dir_path"
   ]
  },
  {
   "cell_type": "markdown",
   "metadata": {},
   "source": [
    "# Problems & Resources"
   ]
  },
  {
   "cell_type": "code",
   "execution_count": null,
   "metadata": {},
   "outputs": [],
   "source": [
    "PROBLEM = 'Does AMD have a healthy liquidity profile based on FY22 Quick Ratio?'"
   ]
  },
  {
   "cell_type": "code",
   "execution_count": null,
   "metadata": {},
   "outputs": [],
   "source": [
    "RESOURCE_PATH = cache_dir_path(doc_name='AMD_2022_10K')\n",
    "assert RESOURCE_PATH.is_dir()\n",
    "\n",
    "resource = FileResource(RESOURCE_PATH)\n",
    "display(Markdown(resource.overview))"
   ]
  },
  {
   "cell_type": "markdown",
   "metadata": {},
   "source": [
    "# OODA Reasoning: 1 single pass"
   ]
  },
  {
   "cell_type": "code",
   "execution_count": null,
   "metadata": {},
   "outputs": [],
   "source": [
    "ooda_reasoning_agent = Agent(planner=None,\n",
    "                             reasoner=OodaReasoner(),\n",
    "                             resources={resource})\n",
    "pprint(ooda_reasoning_agent)"
   ]
  },
  {
   "cell_type": "code",
   "execution_count": null,
   "metadata": {},
   "outputs": [],
   "source": [
    "display(Markdown(ooda_reasoning_agent.solve(PROBLEM)))"
   ]
  },
  {
   "cell_type": "markdown",
   "metadata": {},
   "source": [
    "# Agent with Hierarchical Task Planning (HTP) & OODA Reasoning"
   ]
  },
  {
   "cell_type": "code",
   "execution_count": null,
   "metadata": {},
   "outputs": [],
   "source": [
    "agent = Agent(planner=AutoHTPlanner(max_depth=2, max_subtasks_per_decomp=3),\n",
    "              reasoner=OodaReasoner(),\n",
    "              resources={resource})\n",
    "pprint(agent)"
   ]
  },
  {
   "cell_type": "markdown",
   "metadata": {},
   "source": [
    "## Problem-Solving with Automated Dynamic Planning (default)"
   ]
  },
  {
   "cell_type": "code",
   "execution_count": null,
   "metadata": {},
   "outputs": [],
   "source": [
    "display(Markdown(agent.solve(PROBLEM)))"
   ]
  },
  {
   "cell_type": "markdown",
   "metadata": {},
   "source": [
    "## Problem-Solving with Automated Static Planning\n",
    "\n",
    "(this tends to produce the worst result)"
   ]
  },
  {
   "cell_type": "code",
   "execution_count": null,
   "metadata": {},
   "outputs": [],
   "source": [
    "display(Markdown(agent.solve(PROBLEM, dynamic=False)))"
   ]
  },
  {
   "cell_type": "markdown",
   "metadata": {},
   "source": [
    "## Problem-Solving with Expert-Specified Static Planning"
   ]
  },
  {
   "cell_type": "code",
   "execution_count": null,
   "metadata": {},
   "outputs": [],
   "source": [
    "expert_plan = HTP.from_dict(\n",
    "    {\n",
    "        'task': PROBLEM,\n",
    "        'sub-plans': [\n",
    "            {\n",
    "                'task': 'retrieve data points needed for Quick Ratio',\n",
    "                'sub-plans': [\n",
    "                    {\n",
    "                        'task': 'retrieve Cash & Cash Equivalents'\n",
    "                    },\n",
    "                    {\n",
    "                        'task': 'retrieve Accounts Receivable'\n",
    "                    },\n",
    "                    {\n",
    "                        'task': 'retrieve Short-Term Liabilities'\n",
    "                    },\n",
    "                    {\n",
    "                        'task': 'retrieve Accounts Payable'\n",
    "                    },\n",
    "                ]\n",
    "            },\n",
    "            {\n",
    "                'task': 'calculate Quick Ratio'\n",
    "            },\n",
    "            {\n",
    "                'task': 'see whether Quick Ratio is healthy, i.e. greater than 1'\n",
    "            },\n",
    "        ]\n",
    "    }\n",
    ")\n",
    "pprint(expert_plan)"
   ]
  },
  {
   "cell_type": "code",
   "execution_count": null,
   "metadata": {},
   "outputs": [],
   "source": [
    "display(Markdown(agent.solve(PROBLEM, plan=expert_plan, dynamic=False)))"
   ]
  },
  {
   "cell_type": "markdown",
   "metadata": {},
   "source": [
    "## Problem-Solving with Expert-Guided Dynamic Planning\n",
    "\n",
    "(this tends to product the best result)"
   ]
  }
 ],
 "metadata": {
  "kernelspec": {
   "display_name": ".venv",
   "language": "python",
   "name": "python3"
  },
  "language_info": {
   "codemirror_mode": {
    "name": "ipython",
    "version": 3
   },
   "file_extension": ".py",
   "mimetype": "text/x-python",
   "name": "python",
   "nbconvert_exporter": "python",
   "pygments_lexer": "ipython3",
   "version": "3.12.2"
  }
 },
 "nbformat": 4,
 "nbformat_minor": 2
}
