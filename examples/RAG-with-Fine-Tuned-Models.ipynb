{
 "cells": [
  {
   "cell_type": "markdown",
   "metadata": {},
   "source": [
    "# Setups"
   ]
  },
  {
   "cell_type": "code",
   "execution_count": null,
   "metadata": {},
   "outputs": [],
   "source": [
    "%load_ext autoreload\n",
    "%autoreload 2"
   ]
  },
  {
   "cell_type": "code",
   "execution_count": null,
   "metadata": {},
   "outputs": [],
   "source": [
    "from dotenv import load_dotenv\n",
    "load_dotenv()"
   ]
  },
  {
   "cell_type": "markdown",
   "metadata": {},
   "source": [
    "# Imports"
   ]
  },
  {
   "cell_type": "code",
   "execution_count": null,
   "metadata": {},
   "outputs": [],
   "source": [
    "from pathlib import Path\n",
    "\n",
    "from llama_index.core.indices import VectorStoreIndex\n",
    "from llama_index.core.readers.file.base import SimpleDirectoryReader\n",
    "from llama_index.core.settings import Settings"
   ]
  },
  {
   "cell_type": "markdown",
   "metadata": {},
   "source": [
    "# Informational Resource(s)"
   ]
  },
  {
   "cell_type": "code",
   "execution_count": null,
   "metadata": {},
   "outputs": [],
   "source": [
    "RESOURCE_PATH = Path() / 'FinanceBench' / '.data' / 'docs' / 'AMD_2022_10K'\n",
    "assert RESOURCE_PATH.is_dir()"
   ]
  },
  {
   "cell_type": "markdown",
   "metadata": {},
   "source": [
    "# RAG with Default Models"
   ]
  },
  {
   "cell_type": "code",
   "execution_count": null,
   "metadata": {},
   "outputs": [],
   "source": [
    "documents = SimpleDirectoryReader(input_dir=RESOURCE_PATH,\n",
    "                                  input_files=None,\n",
    "                                  exclude=['.DS_Store', '*.json'],\n",
    "                                  exclude_hidden=False,\n",
    "                                  errors='strict',\n",
    "                                  recursive=True,\n",
    "                                  encoding='utf-8',\n",
    "                                  filename_as_id=False,\n",
    "                                  required_exts=None,\n",
    "                                  file_extractor=None,\n",
    "                                  num_files_limit=None,\n",
    "                                  file_metadata=None,\n",
    "                                  fs=None).load_data(show_progress=True,\n",
    "                                                     num_workers=8)\n",
    "\n",
    "index = VectorStoreIndex.from_documents(documents=documents,\n",
    "                                        storage_context=None,\n",
    "                                        show_progress=True,\n",
    "                                        callback_manager=None,\n",
    "                                        transformations=None)\n",
    "\n",
    "query_engine = index.as_query_engine()"
   ]
  },
  {
   "cell_type": "code",
   "execution_count": null,
   "metadata": {},
   "outputs": [],
   "source": [
    "query_engine.query('Which company do you know well?').response"
   ]
  },
  {
   "cell_type": "markdown",
   "metadata": {},
   "source": [
    "# RAG with Fine-Tuned Models"
   ]
  }
 ],
 "metadata": {
  "kernelspec": {
   "display_name": "Python 3",
   "language": "python",
   "name": "python3"
  },
  "language_info": {
   "codemirror_mode": {
    "name": "ipython",
    "version": 3
   },
   "file_extension": ".py",
   "mimetype": "text/x-python",
   "name": "python",
   "nbconvert_exporter": "python",
   "pygments_lexer": "ipython3",
   "version": "3.12.2"
  },
  "orig_nbformat": 4
 },
 "nbformat": 4,
 "nbformat_minor": 2
}
